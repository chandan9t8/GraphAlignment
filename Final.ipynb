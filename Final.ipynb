{
  "nbformat": 4,
  "nbformat_minor": 0,
  "metadata": {
    "colab": {
      "provenance": [],
      "include_colab_link": true
    },
    "kernelspec": {
      "name": "python3",
      "display_name": "Python 3"
    },
    "language_info": {
      "name": "python"
    },
    "widgets": {
      "application/vnd.jupyter.widget-state+json": {
        "a3e615d0a863492cbb6952fab41b63c4": {
          "model_module": "@jupyter-widgets/controls",
          "model_name": "HBoxModel",
          "model_module_version": "1.5.0",
          "state": {
            "_dom_classes": [],
            "_model_module": "@jupyter-widgets/controls",
            "_model_module_version": "1.5.0",
            "_model_name": "HBoxModel",
            "_view_count": null,
            "_view_module": "@jupyter-widgets/controls",
            "_view_module_version": "1.5.0",
            "_view_name": "HBoxView",
            "box_style": "",
            "children": [
              "IPY_MODEL_ffbfe31b7e7f415fa486f64d76c06a5c",
              "IPY_MODEL_b9fac3b0742041d89964baec0f9b4aa7",
              "IPY_MODEL_98061673079941cfa8cf73cf8e34506b"
            ],
            "layout": "IPY_MODEL_6a369a7d12f9468da14520222a9b42df"
          }
        },
        "ffbfe31b7e7f415fa486f64d76c06a5c": {
          "model_module": "@jupyter-widgets/controls",
          "model_name": "HTMLModel",
          "model_module_version": "1.5.0",
          "state": {
            "_dom_classes": [],
            "_model_module": "@jupyter-widgets/controls",
            "_model_module_version": "1.5.0",
            "_model_name": "HTMLModel",
            "_view_count": null,
            "_view_module": "@jupyter-widgets/controls",
            "_view_module_version": "1.5.0",
            "_view_name": "HTMLView",
            "description": "",
            "description_tooltip": null,
            "layout": "IPY_MODEL_8098d1153bb540acbaf3d0ac97c87fa4",
            "placeholder": "​",
            "style": "IPY_MODEL_4fd806d7a1554a6386ab806c6782e595",
            "value": "Computing transition probabilities: 100%"
          }
        },
        "b9fac3b0742041d89964baec0f9b4aa7": {
          "model_module": "@jupyter-widgets/controls",
          "model_name": "FloatProgressModel",
          "model_module_version": "1.5.0",
          "state": {
            "_dom_classes": [],
            "_model_module": "@jupyter-widgets/controls",
            "_model_module_version": "1.5.0",
            "_model_name": "FloatProgressModel",
            "_view_count": null,
            "_view_module": "@jupyter-widgets/controls",
            "_view_module_version": "1.5.0",
            "_view_name": "ProgressView",
            "bar_style": "success",
            "description": "",
            "description_tooltip": null,
            "layout": "IPY_MODEL_e6da2219cade44e384a367b6b69edefa",
            "max": 4941,
            "min": 0,
            "orientation": "horizontal",
            "style": "IPY_MODEL_fc0c91af10dc403aa024cf0b854b96a4",
            "value": 4941
          }
        },
        "98061673079941cfa8cf73cf8e34506b": {
          "model_module": "@jupyter-widgets/controls",
          "model_name": "HTMLModel",
          "model_module_version": "1.5.0",
          "state": {
            "_dom_classes": [],
            "_model_module": "@jupyter-widgets/controls",
            "_model_module_version": "1.5.0",
            "_model_name": "HTMLModel",
            "_view_count": null,
            "_view_module": "@jupyter-widgets/controls",
            "_view_module_version": "1.5.0",
            "_view_name": "HTMLView",
            "description": "",
            "description_tooltip": null,
            "layout": "IPY_MODEL_0ad031c2bfce4c4e967bccbfe7159212",
            "placeholder": "​",
            "style": "IPY_MODEL_ab5cc3429cd4421c8b2504b52fc48ee7",
            "value": " 4941/4941 [00:00&lt;00:00, 6422.02it/s]"
          }
        },
        "6a369a7d12f9468da14520222a9b42df": {
          "model_module": "@jupyter-widgets/base",
          "model_name": "LayoutModel",
          "model_module_version": "1.2.0",
          "state": {
            "_model_module": "@jupyter-widgets/base",
            "_model_module_version": "1.2.0",
            "_model_name": "LayoutModel",
            "_view_count": null,
            "_view_module": "@jupyter-widgets/base",
            "_view_module_version": "1.2.0",
            "_view_name": "LayoutView",
            "align_content": null,
            "align_items": null,
            "align_self": null,
            "border": null,
            "bottom": null,
            "display": null,
            "flex": null,
            "flex_flow": null,
            "grid_area": null,
            "grid_auto_columns": null,
            "grid_auto_flow": null,
            "grid_auto_rows": null,
            "grid_column": null,
            "grid_gap": null,
            "grid_row": null,
            "grid_template_areas": null,
            "grid_template_columns": null,
            "grid_template_rows": null,
            "height": null,
            "justify_content": null,
            "justify_items": null,
            "left": null,
            "margin": null,
            "max_height": null,
            "max_width": null,
            "min_height": null,
            "min_width": null,
            "object_fit": null,
            "object_position": null,
            "order": null,
            "overflow": null,
            "overflow_x": null,
            "overflow_y": null,
            "padding": null,
            "right": null,
            "top": null,
            "visibility": null,
            "width": null
          }
        },
        "8098d1153bb540acbaf3d0ac97c87fa4": {
          "model_module": "@jupyter-widgets/base",
          "model_name": "LayoutModel",
          "model_module_version": "1.2.0",
          "state": {
            "_model_module": "@jupyter-widgets/base",
            "_model_module_version": "1.2.0",
            "_model_name": "LayoutModel",
            "_view_count": null,
            "_view_module": "@jupyter-widgets/base",
            "_view_module_version": "1.2.0",
            "_view_name": "LayoutView",
            "align_content": null,
            "align_items": null,
            "align_self": null,
            "border": null,
            "bottom": null,
            "display": null,
            "flex": null,
            "flex_flow": null,
            "grid_area": null,
            "grid_auto_columns": null,
            "grid_auto_flow": null,
            "grid_auto_rows": null,
            "grid_column": null,
            "grid_gap": null,
            "grid_row": null,
            "grid_template_areas": null,
            "grid_template_columns": null,
            "grid_template_rows": null,
            "height": null,
            "justify_content": null,
            "justify_items": null,
            "left": null,
            "margin": null,
            "max_height": null,
            "max_width": null,
            "min_height": null,
            "min_width": null,
            "object_fit": null,
            "object_position": null,
            "order": null,
            "overflow": null,
            "overflow_x": null,
            "overflow_y": null,
            "padding": null,
            "right": null,
            "top": null,
            "visibility": null,
            "width": null
          }
        },
        "4fd806d7a1554a6386ab806c6782e595": {
          "model_module": "@jupyter-widgets/controls",
          "model_name": "DescriptionStyleModel",
          "model_module_version": "1.5.0",
          "state": {
            "_model_module": "@jupyter-widgets/controls",
            "_model_module_version": "1.5.0",
            "_model_name": "DescriptionStyleModel",
            "_view_count": null,
            "_view_module": "@jupyter-widgets/base",
            "_view_module_version": "1.2.0",
            "_view_name": "StyleView",
            "description_width": ""
          }
        },
        "e6da2219cade44e384a367b6b69edefa": {
          "model_module": "@jupyter-widgets/base",
          "model_name": "LayoutModel",
          "model_module_version": "1.2.0",
          "state": {
            "_model_module": "@jupyter-widgets/base",
            "_model_module_version": "1.2.0",
            "_model_name": "LayoutModel",
            "_view_count": null,
            "_view_module": "@jupyter-widgets/base",
            "_view_module_version": "1.2.0",
            "_view_name": "LayoutView",
            "align_content": null,
            "align_items": null,
            "align_self": null,
            "border": null,
            "bottom": null,
            "display": null,
            "flex": null,
            "flex_flow": null,
            "grid_area": null,
            "grid_auto_columns": null,
            "grid_auto_flow": null,
            "grid_auto_rows": null,
            "grid_column": null,
            "grid_gap": null,
            "grid_row": null,
            "grid_template_areas": null,
            "grid_template_columns": null,
            "grid_template_rows": null,
            "height": null,
            "justify_content": null,
            "justify_items": null,
            "left": null,
            "margin": null,
            "max_height": null,
            "max_width": null,
            "min_height": null,
            "min_width": null,
            "object_fit": null,
            "object_position": null,
            "order": null,
            "overflow": null,
            "overflow_x": null,
            "overflow_y": null,
            "padding": null,
            "right": null,
            "top": null,
            "visibility": null,
            "width": null
          }
        },
        "fc0c91af10dc403aa024cf0b854b96a4": {
          "model_module": "@jupyter-widgets/controls",
          "model_name": "ProgressStyleModel",
          "model_module_version": "1.5.0",
          "state": {
            "_model_module": "@jupyter-widgets/controls",
            "_model_module_version": "1.5.0",
            "_model_name": "ProgressStyleModel",
            "_view_count": null,
            "_view_module": "@jupyter-widgets/base",
            "_view_module_version": "1.2.0",
            "_view_name": "StyleView",
            "bar_color": null,
            "description_width": ""
          }
        },
        "0ad031c2bfce4c4e967bccbfe7159212": {
          "model_module": "@jupyter-widgets/base",
          "model_name": "LayoutModel",
          "model_module_version": "1.2.0",
          "state": {
            "_model_module": "@jupyter-widgets/base",
            "_model_module_version": "1.2.0",
            "_model_name": "LayoutModel",
            "_view_count": null,
            "_view_module": "@jupyter-widgets/base",
            "_view_module_version": "1.2.0",
            "_view_name": "LayoutView",
            "align_content": null,
            "align_items": null,
            "align_self": null,
            "border": null,
            "bottom": null,
            "display": null,
            "flex": null,
            "flex_flow": null,
            "grid_area": null,
            "grid_auto_columns": null,
            "grid_auto_flow": null,
            "grid_auto_rows": null,
            "grid_column": null,
            "grid_gap": null,
            "grid_row": null,
            "grid_template_areas": null,
            "grid_template_columns": null,
            "grid_template_rows": null,
            "height": null,
            "justify_content": null,
            "justify_items": null,
            "left": null,
            "margin": null,
            "max_height": null,
            "max_width": null,
            "min_height": null,
            "min_width": null,
            "object_fit": null,
            "object_position": null,
            "order": null,
            "overflow": null,
            "overflow_x": null,
            "overflow_y": null,
            "padding": null,
            "right": null,
            "top": null,
            "visibility": null,
            "width": null
          }
        },
        "ab5cc3429cd4421c8b2504b52fc48ee7": {
          "model_module": "@jupyter-widgets/controls",
          "model_name": "DescriptionStyleModel",
          "model_module_version": "1.5.0",
          "state": {
            "_model_module": "@jupyter-widgets/controls",
            "_model_module_version": "1.5.0",
            "_model_name": "DescriptionStyleModel",
            "_view_count": null,
            "_view_module": "@jupyter-widgets/base",
            "_view_module_version": "1.2.0",
            "_view_name": "StyleView",
            "description_width": ""
          }
        },
        "c96165888ae142f5afb8348dce379a6f": {
          "model_module": "@jupyter-widgets/controls",
          "model_name": "HBoxModel",
          "model_module_version": "1.5.0",
          "state": {
            "_dom_classes": [],
            "_model_module": "@jupyter-widgets/controls",
            "_model_module_version": "1.5.0",
            "_model_name": "HBoxModel",
            "_view_count": null,
            "_view_module": "@jupyter-widgets/controls",
            "_view_module_version": "1.5.0",
            "_view_name": "HBoxView",
            "box_style": "",
            "children": [
              "IPY_MODEL_f555c7655c9445f5bfa3ece034a28279",
              "IPY_MODEL_2f06de23878d4213a05fe6790a081be9",
              "IPY_MODEL_c685cd41e738488e8184712cebcb04eb"
            ],
            "layout": "IPY_MODEL_056ed022cc2d499482cb7bda23f2ee84"
          }
        },
        "f555c7655c9445f5bfa3ece034a28279": {
          "model_module": "@jupyter-widgets/controls",
          "model_name": "HTMLModel",
          "model_module_version": "1.5.0",
          "state": {
            "_dom_classes": [],
            "_model_module": "@jupyter-widgets/controls",
            "_model_module_version": "1.5.0",
            "_model_name": "HTMLModel",
            "_view_count": null,
            "_view_module": "@jupyter-widgets/controls",
            "_view_module_version": "1.5.0",
            "_view_name": "HTMLView",
            "description": "",
            "description_tooltip": null,
            "layout": "IPY_MODEL_1b453d759825488c9571f7700047fae6",
            "placeholder": "​",
            "style": "IPY_MODEL_aca72cb1a4ad4c549f78f87bff9e27d9",
            "value": "Computing transition probabilities: 100%"
          }
        },
        "2f06de23878d4213a05fe6790a081be9": {
          "model_module": "@jupyter-widgets/controls",
          "model_name": "FloatProgressModel",
          "model_module_version": "1.5.0",
          "state": {
            "_dom_classes": [],
            "_model_module": "@jupyter-widgets/controls",
            "_model_module_version": "1.5.0",
            "_model_name": "FloatProgressModel",
            "_view_count": null,
            "_view_module": "@jupyter-widgets/controls",
            "_view_module_version": "1.5.0",
            "_view_name": "ProgressView",
            "bar_style": "success",
            "description": "",
            "description_tooltip": null,
            "layout": "IPY_MODEL_4babd9747f2e4cf48f8c745b76626b08",
            "max": 4941,
            "min": 0,
            "orientation": "horizontal",
            "style": "IPY_MODEL_df1363e3bd6c4a55a1d20bfc97407290",
            "value": 4941
          }
        },
        "c685cd41e738488e8184712cebcb04eb": {
          "model_module": "@jupyter-widgets/controls",
          "model_name": "HTMLModel",
          "model_module_version": "1.5.0",
          "state": {
            "_dom_classes": [],
            "_model_module": "@jupyter-widgets/controls",
            "_model_module_version": "1.5.0",
            "_model_name": "HTMLModel",
            "_view_count": null,
            "_view_module": "@jupyter-widgets/controls",
            "_view_module_version": "1.5.0",
            "_view_name": "HTMLView",
            "description": "",
            "description_tooltip": null,
            "layout": "IPY_MODEL_53e516de44d4460fb09ae430cfcd6009",
            "placeholder": "​",
            "style": "IPY_MODEL_f391c3d7c16e429091f521e4affab87d",
            "value": " 4941/4941 [00:00&lt;00:00, 8022.15it/s]"
          }
        },
        "056ed022cc2d499482cb7bda23f2ee84": {
          "model_module": "@jupyter-widgets/base",
          "model_name": "LayoutModel",
          "model_module_version": "1.2.0",
          "state": {
            "_model_module": "@jupyter-widgets/base",
            "_model_module_version": "1.2.0",
            "_model_name": "LayoutModel",
            "_view_count": null,
            "_view_module": "@jupyter-widgets/base",
            "_view_module_version": "1.2.0",
            "_view_name": "LayoutView",
            "align_content": null,
            "align_items": null,
            "align_self": null,
            "border": null,
            "bottom": null,
            "display": null,
            "flex": null,
            "flex_flow": null,
            "grid_area": null,
            "grid_auto_columns": null,
            "grid_auto_flow": null,
            "grid_auto_rows": null,
            "grid_column": null,
            "grid_gap": null,
            "grid_row": null,
            "grid_template_areas": null,
            "grid_template_columns": null,
            "grid_template_rows": null,
            "height": null,
            "justify_content": null,
            "justify_items": null,
            "left": null,
            "margin": null,
            "max_height": null,
            "max_width": null,
            "min_height": null,
            "min_width": null,
            "object_fit": null,
            "object_position": null,
            "order": null,
            "overflow": null,
            "overflow_x": null,
            "overflow_y": null,
            "padding": null,
            "right": null,
            "top": null,
            "visibility": null,
            "width": null
          }
        },
        "1b453d759825488c9571f7700047fae6": {
          "model_module": "@jupyter-widgets/base",
          "model_name": "LayoutModel",
          "model_module_version": "1.2.0",
          "state": {
            "_model_module": "@jupyter-widgets/base",
            "_model_module_version": "1.2.0",
            "_model_name": "LayoutModel",
            "_view_count": null,
            "_view_module": "@jupyter-widgets/base",
            "_view_module_version": "1.2.0",
            "_view_name": "LayoutView",
            "align_content": null,
            "align_items": null,
            "align_self": null,
            "border": null,
            "bottom": null,
            "display": null,
            "flex": null,
            "flex_flow": null,
            "grid_area": null,
            "grid_auto_columns": null,
            "grid_auto_flow": null,
            "grid_auto_rows": null,
            "grid_column": null,
            "grid_gap": null,
            "grid_row": null,
            "grid_template_areas": null,
            "grid_template_columns": null,
            "grid_template_rows": null,
            "height": null,
            "justify_content": null,
            "justify_items": null,
            "left": null,
            "margin": null,
            "max_height": null,
            "max_width": null,
            "min_height": null,
            "min_width": null,
            "object_fit": null,
            "object_position": null,
            "order": null,
            "overflow": null,
            "overflow_x": null,
            "overflow_y": null,
            "padding": null,
            "right": null,
            "top": null,
            "visibility": null,
            "width": null
          }
        },
        "aca72cb1a4ad4c549f78f87bff9e27d9": {
          "model_module": "@jupyter-widgets/controls",
          "model_name": "DescriptionStyleModel",
          "model_module_version": "1.5.0",
          "state": {
            "_model_module": "@jupyter-widgets/controls",
            "_model_module_version": "1.5.0",
            "_model_name": "DescriptionStyleModel",
            "_view_count": null,
            "_view_module": "@jupyter-widgets/base",
            "_view_module_version": "1.2.0",
            "_view_name": "StyleView",
            "description_width": ""
          }
        },
        "4babd9747f2e4cf48f8c745b76626b08": {
          "model_module": "@jupyter-widgets/base",
          "model_name": "LayoutModel",
          "model_module_version": "1.2.0",
          "state": {
            "_model_module": "@jupyter-widgets/base",
            "_model_module_version": "1.2.0",
            "_model_name": "LayoutModel",
            "_view_count": null,
            "_view_module": "@jupyter-widgets/base",
            "_view_module_version": "1.2.0",
            "_view_name": "LayoutView",
            "align_content": null,
            "align_items": null,
            "align_self": null,
            "border": null,
            "bottom": null,
            "display": null,
            "flex": null,
            "flex_flow": null,
            "grid_area": null,
            "grid_auto_columns": null,
            "grid_auto_flow": null,
            "grid_auto_rows": null,
            "grid_column": null,
            "grid_gap": null,
            "grid_row": null,
            "grid_template_areas": null,
            "grid_template_columns": null,
            "grid_template_rows": null,
            "height": null,
            "justify_content": null,
            "justify_items": null,
            "left": null,
            "margin": null,
            "max_height": null,
            "max_width": null,
            "min_height": null,
            "min_width": null,
            "object_fit": null,
            "object_position": null,
            "order": null,
            "overflow": null,
            "overflow_x": null,
            "overflow_y": null,
            "padding": null,
            "right": null,
            "top": null,
            "visibility": null,
            "width": null
          }
        },
        "df1363e3bd6c4a55a1d20bfc97407290": {
          "model_module": "@jupyter-widgets/controls",
          "model_name": "ProgressStyleModel",
          "model_module_version": "1.5.0",
          "state": {
            "_model_module": "@jupyter-widgets/controls",
            "_model_module_version": "1.5.0",
            "_model_name": "ProgressStyleModel",
            "_view_count": null,
            "_view_module": "@jupyter-widgets/base",
            "_view_module_version": "1.2.0",
            "_view_name": "StyleView",
            "bar_color": null,
            "description_width": ""
          }
        },
        "53e516de44d4460fb09ae430cfcd6009": {
          "model_module": "@jupyter-widgets/base",
          "model_name": "LayoutModel",
          "model_module_version": "1.2.0",
          "state": {
            "_model_module": "@jupyter-widgets/base",
            "_model_module_version": "1.2.0",
            "_model_name": "LayoutModel",
            "_view_count": null,
            "_view_module": "@jupyter-widgets/base",
            "_view_module_version": "1.2.0",
            "_view_name": "LayoutView",
            "align_content": null,
            "align_items": null,
            "align_self": null,
            "border": null,
            "bottom": null,
            "display": null,
            "flex": null,
            "flex_flow": null,
            "grid_area": null,
            "grid_auto_columns": null,
            "grid_auto_flow": null,
            "grid_auto_rows": null,
            "grid_column": null,
            "grid_gap": null,
            "grid_row": null,
            "grid_template_areas": null,
            "grid_template_columns": null,
            "grid_template_rows": null,
            "height": null,
            "justify_content": null,
            "justify_items": null,
            "left": null,
            "margin": null,
            "max_height": null,
            "max_width": null,
            "min_height": null,
            "min_width": null,
            "object_fit": null,
            "object_position": null,
            "order": null,
            "overflow": null,
            "overflow_x": null,
            "overflow_y": null,
            "padding": null,
            "right": null,
            "top": null,
            "visibility": null,
            "width": null
          }
        },
        "f391c3d7c16e429091f521e4affab87d": {
          "model_module": "@jupyter-widgets/controls",
          "model_name": "DescriptionStyleModel",
          "model_module_version": "1.5.0",
          "state": {
            "_model_module": "@jupyter-widgets/controls",
            "_model_module_version": "1.5.0",
            "_model_name": "DescriptionStyleModel",
            "_view_count": null,
            "_view_module": "@jupyter-widgets/base",
            "_view_module_version": "1.2.0",
            "_view_name": "StyleView",
            "description_width": ""
          }
        },
        "0bbf96a458f94c05b25a85e0f4752ce2": {
          "model_module": "@jupyter-widgets/controls",
          "model_name": "HBoxModel",
          "model_module_version": "1.5.0",
          "state": {
            "_dom_classes": [],
            "_model_module": "@jupyter-widgets/controls",
            "_model_module_version": "1.5.0",
            "_model_name": "HBoxModel",
            "_view_count": null,
            "_view_module": "@jupyter-widgets/controls",
            "_view_module_version": "1.5.0",
            "_view_name": "HBoxView",
            "box_style": "",
            "children": [
              "IPY_MODEL_e3d4ecb571c7459ab13e633abc08d7dd",
              "IPY_MODEL_bec4c39dc96844f49b72a620c2f79887",
              "IPY_MODEL_7ce2c8f22d334d819372e54a9ca5d5e6"
            ],
            "layout": "IPY_MODEL_346d74ae360f43faada04575aca66f5c"
          }
        },
        "e3d4ecb571c7459ab13e633abc08d7dd": {
          "model_module": "@jupyter-widgets/controls",
          "model_name": "HTMLModel",
          "model_module_version": "1.5.0",
          "state": {
            "_dom_classes": [],
            "_model_module": "@jupyter-widgets/controls",
            "_model_module_version": "1.5.0",
            "_model_name": "HTMLModel",
            "_view_count": null,
            "_view_module": "@jupyter-widgets/controls",
            "_view_module_version": "1.5.0",
            "_view_name": "HTMLView",
            "description": "",
            "description_tooltip": null,
            "layout": "IPY_MODEL_66f0214eeee74ca6aa64f7f81c301c48",
            "placeholder": "​",
            "style": "IPY_MODEL_cc565e09d8dc4cf99b33bfcfe18ab072",
            "value": "Computing transition probabilities: 100%"
          }
        },
        "bec4c39dc96844f49b72a620c2f79887": {
          "model_module": "@jupyter-widgets/controls",
          "model_name": "FloatProgressModel",
          "model_module_version": "1.5.0",
          "state": {
            "_dom_classes": [],
            "_model_module": "@jupyter-widgets/controls",
            "_model_module_version": "1.5.0",
            "_model_name": "FloatProgressModel",
            "_view_count": null,
            "_view_module": "@jupyter-widgets/controls",
            "_view_module_version": "1.5.0",
            "_view_name": "ProgressView",
            "bar_style": "success",
            "description": "",
            "description_tooltip": null,
            "layout": "IPY_MODEL_c8f1235e73da4b2f8187ae543d17ae2c",
            "max": 2783,
            "min": 0,
            "orientation": "horizontal",
            "style": "IPY_MODEL_b28e789a10a54aefa9e240741c6db971",
            "value": 2783
          }
        },
        "7ce2c8f22d334d819372e54a9ca5d5e6": {
          "model_module": "@jupyter-widgets/controls",
          "model_name": "HTMLModel",
          "model_module_version": "1.5.0",
          "state": {
            "_dom_classes": [],
            "_model_module": "@jupyter-widgets/controls",
            "_model_module_version": "1.5.0",
            "_model_name": "HTMLModel",
            "_view_count": null,
            "_view_module": "@jupyter-widgets/controls",
            "_view_module_version": "1.5.0",
            "_view_name": "HTMLView",
            "description": "",
            "description_tooltip": null,
            "layout": "IPY_MODEL_192c4a0adf7e4b35a2c74ac61cd4d044",
            "placeholder": "​",
            "style": "IPY_MODEL_e896b249657248ba85b487b6f3717506",
            "value": " 2783/2783 [00:02&lt;00:00, 2241.89it/s]"
          }
        },
        "346d74ae360f43faada04575aca66f5c": {
          "model_module": "@jupyter-widgets/base",
          "model_name": "LayoutModel",
          "model_module_version": "1.2.0",
          "state": {
            "_model_module": "@jupyter-widgets/base",
            "_model_module_version": "1.2.0",
            "_model_name": "LayoutModel",
            "_view_count": null,
            "_view_module": "@jupyter-widgets/base",
            "_view_module_version": "1.2.0",
            "_view_name": "LayoutView",
            "align_content": null,
            "align_items": null,
            "align_self": null,
            "border": null,
            "bottom": null,
            "display": null,
            "flex": null,
            "flex_flow": null,
            "grid_area": null,
            "grid_auto_columns": null,
            "grid_auto_flow": null,
            "grid_auto_rows": null,
            "grid_column": null,
            "grid_gap": null,
            "grid_row": null,
            "grid_template_areas": null,
            "grid_template_columns": null,
            "grid_template_rows": null,
            "height": null,
            "justify_content": null,
            "justify_items": null,
            "left": null,
            "margin": null,
            "max_height": null,
            "max_width": null,
            "min_height": null,
            "min_width": null,
            "object_fit": null,
            "object_position": null,
            "order": null,
            "overflow": null,
            "overflow_x": null,
            "overflow_y": null,
            "padding": null,
            "right": null,
            "top": null,
            "visibility": null,
            "width": null
          }
        },
        "66f0214eeee74ca6aa64f7f81c301c48": {
          "model_module": "@jupyter-widgets/base",
          "model_name": "LayoutModel",
          "model_module_version": "1.2.0",
          "state": {
            "_model_module": "@jupyter-widgets/base",
            "_model_module_version": "1.2.0",
            "_model_name": "LayoutModel",
            "_view_count": null,
            "_view_module": "@jupyter-widgets/base",
            "_view_module_version": "1.2.0",
            "_view_name": "LayoutView",
            "align_content": null,
            "align_items": null,
            "align_self": null,
            "border": null,
            "bottom": null,
            "display": null,
            "flex": null,
            "flex_flow": null,
            "grid_area": null,
            "grid_auto_columns": null,
            "grid_auto_flow": null,
            "grid_auto_rows": null,
            "grid_column": null,
            "grid_gap": null,
            "grid_row": null,
            "grid_template_areas": null,
            "grid_template_columns": null,
            "grid_template_rows": null,
            "height": null,
            "justify_content": null,
            "justify_items": null,
            "left": null,
            "margin": null,
            "max_height": null,
            "max_width": null,
            "min_height": null,
            "min_width": null,
            "object_fit": null,
            "object_position": null,
            "order": null,
            "overflow": null,
            "overflow_x": null,
            "overflow_y": null,
            "padding": null,
            "right": null,
            "top": null,
            "visibility": null,
            "width": null
          }
        },
        "cc565e09d8dc4cf99b33bfcfe18ab072": {
          "model_module": "@jupyter-widgets/controls",
          "model_name": "DescriptionStyleModel",
          "model_module_version": "1.5.0",
          "state": {
            "_model_module": "@jupyter-widgets/controls",
            "_model_module_version": "1.5.0",
            "_model_name": "DescriptionStyleModel",
            "_view_count": null,
            "_view_module": "@jupyter-widgets/base",
            "_view_module_version": "1.2.0",
            "_view_name": "StyleView",
            "description_width": ""
          }
        },
        "c8f1235e73da4b2f8187ae543d17ae2c": {
          "model_module": "@jupyter-widgets/base",
          "model_name": "LayoutModel",
          "model_module_version": "1.2.0",
          "state": {
            "_model_module": "@jupyter-widgets/base",
            "_model_module_version": "1.2.0",
            "_model_name": "LayoutModel",
            "_view_count": null,
            "_view_module": "@jupyter-widgets/base",
            "_view_module_version": "1.2.0",
            "_view_name": "LayoutView",
            "align_content": null,
            "align_items": null,
            "align_self": null,
            "border": null,
            "bottom": null,
            "display": null,
            "flex": null,
            "flex_flow": null,
            "grid_area": null,
            "grid_auto_columns": null,
            "grid_auto_flow": null,
            "grid_auto_rows": null,
            "grid_column": null,
            "grid_gap": null,
            "grid_row": null,
            "grid_template_areas": null,
            "grid_template_columns": null,
            "grid_template_rows": null,
            "height": null,
            "justify_content": null,
            "justify_items": null,
            "left": null,
            "margin": null,
            "max_height": null,
            "max_width": null,
            "min_height": null,
            "min_width": null,
            "object_fit": null,
            "object_position": null,
            "order": null,
            "overflow": null,
            "overflow_x": null,
            "overflow_y": null,
            "padding": null,
            "right": null,
            "top": null,
            "visibility": null,
            "width": null
          }
        },
        "b28e789a10a54aefa9e240741c6db971": {
          "model_module": "@jupyter-widgets/controls",
          "model_name": "ProgressStyleModel",
          "model_module_version": "1.5.0",
          "state": {
            "_model_module": "@jupyter-widgets/controls",
            "_model_module_version": "1.5.0",
            "_model_name": "ProgressStyleModel",
            "_view_count": null,
            "_view_module": "@jupyter-widgets/base",
            "_view_module_version": "1.2.0",
            "_view_name": "StyleView",
            "bar_color": null,
            "description_width": ""
          }
        },
        "192c4a0adf7e4b35a2c74ac61cd4d044": {
          "model_module": "@jupyter-widgets/base",
          "model_name": "LayoutModel",
          "model_module_version": "1.2.0",
          "state": {
            "_model_module": "@jupyter-widgets/base",
            "_model_module_version": "1.2.0",
            "_model_name": "LayoutModel",
            "_view_count": null,
            "_view_module": "@jupyter-widgets/base",
            "_view_module_version": "1.2.0",
            "_view_name": "LayoutView",
            "align_content": null,
            "align_items": null,
            "align_self": null,
            "border": null,
            "bottom": null,
            "display": null,
            "flex": null,
            "flex_flow": null,
            "grid_area": null,
            "grid_auto_columns": null,
            "grid_auto_flow": null,
            "grid_auto_rows": null,
            "grid_column": null,
            "grid_gap": null,
            "grid_row": null,
            "grid_template_areas": null,
            "grid_template_columns": null,
            "grid_template_rows": null,
            "height": null,
            "justify_content": null,
            "justify_items": null,
            "left": null,
            "margin": null,
            "max_height": null,
            "max_width": null,
            "min_height": null,
            "min_width": null,
            "object_fit": null,
            "object_position": null,
            "order": null,
            "overflow": null,
            "overflow_x": null,
            "overflow_y": null,
            "padding": null,
            "right": null,
            "top": null,
            "visibility": null,
            "width": null
          }
        },
        "e896b249657248ba85b487b6f3717506": {
          "model_module": "@jupyter-widgets/controls",
          "model_name": "DescriptionStyleModel",
          "model_module_version": "1.5.0",
          "state": {
            "_model_module": "@jupyter-widgets/controls",
            "_model_module_version": "1.5.0",
            "_model_name": "DescriptionStyleModel",
            "_view_count": null,
            "_view_module": "@jupyter-widgets/base",
            "_view_module_version": "1.2.0",
            "_view_name": "StyleView",
            "description_width": ""
          }
        },
        "795de5d81d6f490a866194c32cd6c05d": {
          "model_module": "@jupyter-widgets/controls",
          "model_name": "HBoxModel",
          "model_module_version": "1.5.0",
          "state": {
            "_dom_classes": [],
            "_model_module": "@jupyter-widgets/controls",
            "_model_module_version": "1.5.0",
            "_model_name": "HBoxModel",
            "_view_count": null,
            "_view_module": "@jupyter-widgets/controls",
            "_view_module_version": "1.5.0",
            "_view_name": "HBoxView",
            "box_style": "",
            "children": [
              "IPY_MODEL_459691bda2fc480eb82f820554f9daaf",
              "IPY_MODEL_6c9d9414d64240df92c183f08e7bd0ee",
              "IPY_MODEL_1f5044f9d04842188d3f1b50c3b12875"
            ],
            "layout": "IPY_MODEL_b8233c4f4f3f48fa96bc459f89f86cc7"
          }
        },
        "459691bda2fc480eb82f820554f9daaf": {
          "model_module": "@jupyter-widgets/controls",
          "model_name": "HTMLModel",
          "model_module_version": "1.5.0",
          "state": {
            "_dom_classes": [],
            "_model_module": "@jupyter-widgets/controls",
            "_model_module_version": "1.5.0",
            "_model_name": "HTMLModel",
            "_view_count": null,
            "_view_module": "@jupyter-widgets/controls",
            "_view_module_version": "1.5.0",
            "_view_name": "HTMLView",
            "description": "",
            "description_tooltip": null,
            "layout": "IPY_MODEL_7c72abc4819c473597b6a41becda16f4",
            "placeholder": "​",
            "style": "IPY_MODEL_7bea3f0957db479aba03b9ff533c4211",
            "value": "Computing transition probabilities: 100%"
          }
        },
        "6c9d9414d64240df92c183f08e7bd0ee": {
          "model_module": "@jupyter-widgets/controls",
          "model_name": "FloatProgressModel",
          "model_module_version": "1.5.0",
          "state": {
            "_dom_classes": [],
            "_model_module": "@jupyter-widgets/controls",
            "_model_module_version": "1.5.0",
            "_model_name": "FloatProgressModel",
            "_view_count": null,
            "_view_module": "@jupyter-widgets/controls",
            "_view_module_version": "1.5.0",
            "_view_name": "ProgressView",
            "bar_style": "success",
            "description": "",
            "description_tooltip": null,
            "layout": "IPY_MODEL_191dfa6bfaeb47c888ba32200e20929c",
            "max": 2783,
            "min": 0,
            "orientation": "horizontal",
            "style": "IPY_MODEL_ed8f0930611c45f7a2226dfec414cbe4",
            "value": 2783
          }
        },
        "1f5044f9d04842188d3f1b50c3b12875": {
          "model_module": "@jupyter-widgets/controls",
          "model_name": "HTMLModel",
          "model_module_version": "1.5.0",
          "state": {
            "_dom_classes": [],
            "_model_module": "@jupyter-widgets/controls",
            "_model_module_version": "1.5.0",
            "_model_name": "HTMLModel",
            "_view_count": null,
            "_view_module": "@jupyter-widgets/controls",
            "_view_module_version": "1.5.0",
            "_view_name": "HTMLView",
            "description": "",
            "description_tooltip": null,
            "layout": "IPY_MODEL_72ffabe5f63844f6a101c72bc61bee76",
            "placeholder": "​",
            "style": "IPY_MODEL_d8714627840a4390a90120deb82916d5",
            "value": " 2783/2783 [00:01&lt;00:00, 2820.26it/s]"
          }
        },
        "b8233c4f4f3f48fa96bc459f89f86cc7": {
          "model_module": "@jupyter-widgets/base",
          "model_name": "LayoutModel",
          "model_module_version": "1.2.0",
          "state": {
            "_model_module": "@jupyter-widgets/base",
            "_model_module_version": "1.2.0",
            "_model_name": "LayoutModel",
            "_view_count": null,
            "_view_module": "@jupyter-widgets/base",
            "_view_module_version": "1.2.0",
            "_view_name": "LayoutView",
            "align_content": null,
            "align_items": null,
            "align_self": null,
            "border": null,
            "bottom": null,
            "display": null,
            "flex": null,
            "flex_flow": null,
            "grid_area": null,
            "grid_auto_columns": null,
            "grid_auto_flow": null,
            "grid_auto_rows": null,
            "grid_column": null,
            "grid_gap": null,
            "grid_row": null,
            "grid_template_areas": null,
            "grid_template_columns": null,
            "grid_template_rows": null,
            "height": null,
            "justify_content": null,
            "justify_items": null,
            "left": null,
            "margin": null,
            "max_height": null,
            "max_width": null,
            "min_height": null,
            "min_width": null,
            "object_fit": null,
            "object_position": null,
            "order": null,
            "overflow": null,
            "overflow_x": null,
            "overflow_y": null,
            "padding": null,
            "right": null,
            "top": null,
            "visibility": null,
            "width": null
          }
        },
        "7c72abc4819c473597b6a41becda16f4": {
          "model_module": "@jupyter-widgets/base",
          "model_name": "LayoutModel",
          "model_module_version": "1.2.0",
          "state": {
            "_model_module": "@jupyter-widgets/base",
            "_model_module_version": "1.2.0",
            "_model_name": "LayoutModel",
            "_view_count": null,
            "_view_module": "@jupyter-widgets/base",
            "_view_module_version": "1.2.0",
            "_view_name": "LayoutView",
            "align_content": null,
            "align_items": null,
            "align_self": null,
            "border": null,
            "bottom": null,
            "display": null,
            "flex": null,
            "flex_flow": null,
            "grid_area": null,
            "grid_auto_columns": null,
            "grid_auto_flow": null,
            "grid_auto_rows": null,
            "grid_column": null,
            "grid_gap": null,
            "grid_row": null,
            "grid_template_areas": null,
            "grid_template_columns": null,
            "grid_template_rows": null,
            "height": null,
            "justify_content": null,
            "justify_items": null,
            "left": null,
            "margin": null,
            "max_height": null,
            "max_width": null,
            "min_height": null,
            "min_width": null,
            "object_fit": null,
            "object_position": null,
            "order": null,
            "overflow": null,
            "overflow_x": null,
            "overflow_y": null,
            "padding": null,
            "right": null,
            "top": null,
            "visibility": null,
            "width": null
          }
        },
        "7bea3f0957db479aba03b9ff533c4211": {
          "model_module": "@jupyter-widgets/controls",
          "model_name": "DescriptionStyleModel",
          "model_module_version": "1.5.0",
          "state": {
            "_model_module": "@jupyter-widgets/controls",
            "_model_module_version": "1.5.0",
            "_model_name": "DescriptionStyleModel",
            "_view_count": null,
            "_view_module": "@jupyter-widgets/base",
            "_view_module_version": "1.2.0",
            "_view_name": "StyleView",
            "description_width": ""
          }
        },
        "191dfa6bfaeb47c888ba32200e20929c": {
          "model_module": "@jupyter-widgets/base",
          "model_name": "LayoutModel",
          "model_module_version": "1.2.0",
          "state": {
            "_model_module": "@jupyter-widgets/base",
            "_model_module_version": "1.2.0",
            "_model_name": "LayoutModel",
            "_view_count": null,
            "_view_module": "@jupyter-widgets/base",
            "_view_module_version": "1.2.0",
            "_view_name": "LayoutView",
            "align_content": null,
            "align_items": null,
            "align_self": null,
            "border": null,
            "bottom": null,
            "display": null,
            "flex": null,
            "flex_flow": null,
            "grid_area": null,
            "grid_auto_columns": null,
            "grid_auto_flow": null,
            "grid_auto_rows": null,
            "grid_column": null,
            "grid_gap": null,
            "grid_row": null,
            "grid_template_areas": null,
            "grid_template_columns": null,
            "grid_template_rows": null,
            "height": null,
            "justify_content": null,
            "justify_items": null,
            "left": null,
            "margin": null,
            "max_height": null,
            "max_width": null,
            "min_height": null,
            "min_width": null,
            "object_fit": null,
            "object_position": null,
            "order": null,
            "overflow": null,
            "overflow_x": null,
            "overflow_y": null,
            "padding": null,
            "right": null,
            "top": null,
            "visibility": null,
            "width": null
          }
        },
        "ed8f0930611c45f7a2226dfec414cbe4": {
          "model_module": "@jupyter-widgets/controls",
          "model_name": "ProgressStyleModel",
          "model_module_version": "1.5.0",
          "state": {
            "_model_module": "@jupyter-widgets/controls",
            "_model_module_version": "1.5.0",
            "_model_name": "ProgressStyleModel",
            "_view_count": null,
            "_view_module": "@jupyter-widgets/base",
            "_view_module_version": "1.2.0",
            "_view_name": "StyleView",
            "bar_color": null,
            "description_width": ""
          }
        },
        "72ffabe5f63844f6a101c72bc61bee76": {
          "model_module": "@jupyter-widgets/base",
          "model_name": "LayoutModel",
          "model_module_version": "1.2.0",
          "state": {
            "_model_module": "@jupyter-widgets/base",
            "_model_module_version": "1.2.0",
            "_model_name": "LayoutModel",
            "_view_count": null,
            "_view_module": "@jupyter-widgets/base",
            "_view_module_version": "1.2.0",
            "_view_name": "LayoutView",
            "align_content": null,
            "align_items": null,
            "align_self": null,
            "border": null,
            "bottom": null,
            "display": null,
            "flex": null,
            "flex_flow": null,
            "grid_area": null,
            "grid_auto_columns": null,
            "grid_auto_flow": null,
            "grid_auto_rows": null,
            "grid_column": null,
            "grid_gap": null,
            "grid_row": null,
            "grid_template_areas": null,
            "grid_template_columns": null,
            "grid_template_rows": null,
            "height": null,
            "justify_content": null,
            "justify_items": null,
            "left": null,
            "margin": null,
            "max_height": null,
            "max_width": null,
            "min_height": null,
            "min_width": null,
            "object_fit": null,
            "object_position": null,
            "order": null,
            "overflow": null,
            "overflow_x": null,
            "overflow_y": null,
            "padding": null,
            "right": null,
            "top": null,
            "visibility": null,
            "width": null
          }
        },
        "d8714627840a4390a90120deb82916d5": {
          "model_module": "@jupyter-widgets/controls",
          "model_name": "DescriptionStyleModel",
          "model_module_version": "1.5.0",
          "state": {
            "_model_module": "@jupyter-widgets/controls",
            "_model_module_version": "1.5.0",
            "_model_name": "DescriptionStyleModel",
            "_view_count": null,
            "_view_module": "@jupyter-widgets/base",
            "_view_module_version": "1.2.0",
            "_view_name": "StyleView",
            "description_width": ""
          }
        }
      }
    }
  },
  "cells": [
    {
      "cell_type": "markdown",
      "metadata": {
        "id": "view-in-github",
        "colab_type": "text"
      },
      "source": [
        "<a href=\"https://colab.research.google.com/github/chandan9t8/GraphAlignment/blob/main/Final.ipynb\" target=\"_parent\"><img src=\"https://colab.research.google.com/assets/colab-badge.svg\" alt=\"Open In Colab\"/></a>"
      ]
    },
    {
      "cell_type": "code",
      "source": [
        "!pip install torch_geometric\n",
        "!pip install node2vec"
      ],
      "metadata": {
        "colab": {
          "base_uri": "https://localhost:8080/"
        },
        "id": "iPVhnz7fOQjU",
        "outputId": "5d02956f-0d3b-42cf-992a-d8c9865b1a7b"
      },
      "execution_count": null,
      "outputs": [
        {
          "output_type": "stream",
          "name": "stdout",
          "text": [
            "Requirement already satisfied: torch_geometric in /usr/local/lib/python3.10/dist-packages (2.5.3)\n",
            "Requirement already satisfied: tqdm in /usr/local/lib/python3.10/dist-packages (from torch_geometric) (4.66.2)\n",
            "Requirement already satisfied: numpy in /usr/local/lib/python3.10/dist-packages (from torch_geometric) (1.25.2)\n",
            "Requirement already satisfied: scipy in /usr/local/lib/python3.10/dist-packages (from torch_geometric) (1.11.4)\n",
            "Requirement already satisfied: fsspec in /usr/local/lib/python3.10/dist-packages (from torch_geometric) (2023.6.0)\n",
            "Requirement already satisfied: jinja2 in /usr/local/lib/python3.10/dist-packages (from torch_geometric) (3.1.3)\n",
            "Requirement already satisfied: aiohttp in /usr/local/lib/python3.10/dist-packages (from torch_geometric) (3.9.5)\n",
            "Requirement already satisfied: requests in /usr/local/lib/python3.10/dist-packages (from torch_geometric) (2.31.0)\n",
            "Requirement already satisfied: pyparsing in /usr/local/lib/python3.10/dist-packages (from torch_geometric) (3.1.2)\n",
            "Requirement already satisfied: scikit-learn in /usr/local/lib/python3.10/dist-packages (from torch_geometric) (1.2.2)\n",
            "Requirement already satisfied: psutil>=5.8.0 in /usr/local/lib/python3.10/dist-packages (from torch_geometric) (5.9.5)\n",
            "Requirement already satisfied: aiosignal>=1.1.2 in /usr/local/lib/python3.10/dist-packages (from aiohttp->torch_geometric) (1.3.1)\n",
            "Requirement already satisfied: attrs>=17.3.0 in /usr/local/lib/python3.10/dist-packages (from aiohttp->torch_geometric) (23.2.0)\n",
            "Requirement already satisfied: frozenlist>=1.1.1 in /usr/local/lib/python3.10/dist-packages (from aiohttp->torch_geometric) (1.4.1)\n",
            "Requirement already satisfied: multidict<7.0,>=4.5 in /usr/local/lib/python3.10/dist-packages (from aiohttp->torch_geometric) (6.0.5)\n",
            "Requirement already satisfied: yarl<2.0,>=1.0 in /usr/local/lib/python3.10/dist-packages (from aiohttp->torch_geometric) (1.9.4)\n",
            "Requirement already satisfied: async-timeout<5.0,>=4.0 in /usr/local/lib/python3.10/dist-packages (from aiohttp->torch_geometric) (4.0.3)\n",
            "Requirement already satisfied: MarkupSafe>=2.0 in /usr/local/lib/python3.10/dist-packages (from jinja2->torch_geometric) (2.1.5)\n",
            "Requirement already satisfied: charset-normalizer<4,>=2 in /usr/local/lib/python3.10/dist-packages (from requests->torch_geometric) (3.3.2)\n",
            "Requirement already satisfied: idna<4,>=2.5 in /usr/local/lib/python3.10/dist-packages (from requests->torch_geometric) (3.7)\n",
            "Requirement already satisfied: urllib3<3,>=1.21.1 in /usr/local/lib/python3.10/dist-packages (from requests->torch_geometric) (2.0.7)\n",
            "Requirement already satisfied: certifi>=2017.4.17 in /usr/local/lib/python3.10/dist-packages (from requests->torch_geometric) (2024.2.2)\n",
            "Requirement already satisfied: joblib>=1.1.1 in /usr/local/lib/python3.10/dist-packages (from scikit-learn->torch_geometric) (1.4.0)\n",
            "Requirement already satisfied: threadpoolctl>=2.0.0 in /usr/local/lib/python3.10/dist-packages (from scikit-learn->torch_geometric) (3.5.0)\n",
            "Requirement already satisfied: node2vec in /usr/local/lib/python3.10/dist-packages (0.4.6)\n",
            "Requirement already satisfied: gensim<5.0.0,>=4.1.2 in /usr/local/lib/python3.10/dist-packages (from node2vec) (4.3.2)\n",
            "Requirement already satisfied: joblib<2.0.0,>=1.1.0 in /usr/local/lib/python3.10/dist-packages (from node2vec) (1.4.0)\n",
            "Requirement already satisfied: networkx<3.0,>=2.5 in /usr/local/lib/python3.10/dist-packages (from node2vec) (2.8.8)\n",
            "Requirement already satisfied: numpy<2.0.0,>=1.19.5 in /usr/local/lib/python3.10/dist-packages (from node2vec) (1.25.2)\n",
            "Requirement already satisfied: tqdm<5.0.0,>=4.55.1 in /usr/local/lib/python3.10/dist-packages (from node2vec) (4.66.2)\n",
            "Requirement already satisfied: scipy>=1.7.0 in /usr/local/lib/python3.10/dist-packages (from gensim<5.0.0,>=4.1.2->node2vec) (1.11.4)\n",
            "Requirement already satisfied: smart-open>=1.8.1 in /usr/local/lib/python3.10/dist-packages (from gensim<5.0.0,>=4.1.2->node2vec) (6.4.0)\n"
          ]
        }
      ]
    },
    {
      "cell_type": "code",
      "source": [
        "from google.colab import drive\n",
        "drive.mount('/content/drive')"
      ],
      "metadata": {
        "id": "ngN8jub4ORYT",
        "outputId": "c1e14e6d-c5a6-47aa-ee78-a97bad24120a",
        "colab": {
          "base_uri": "https://localhost:8080/"
        }
      },
      "execution_count": null,
      "outputs": [
        {
          "output_type": "stream",
          "name": "stdout",
          "text": [
            "Drive already mounted at /content/drive; to attempt to forcibly remount, call drive.mount(\"/content/drive\", force_remount=True).\n"
          ]
        }
      ]
    },
    {
      "cell_type": "code",
      "source": [
        "import torch\n",
        "from torch_geometric.data import Data, DataLoader\n",
        "from torch_geometric.nn import GCNConv, GAE\n",
        "import pandas as pd\n",
        "import numpy as np\n",
        "from sklearn.model_selection import train_test_split\n",
        "from node2vec import Node2Vec\n",
        "import networkx as nx"
      ],
      "metadata": {
        "id": "jHAYKQ4fOYjX"
      },
      "execution_count": null,
      "outputs": []
    },
    {
      "cell_type": "code",
      "source": [
        "#dataset1\n",
        "\n",
        "g1_edgelist = pd.read_csv('./drive/MyDrive/Data/g1_edgelist.csv',names=['node1','node2'])\n",
        "g2_edgelist = pd.read_csv('./drive/MyDrive/Data/g2_edgelist.csv',names=['node1','node2'])\n",
        "\n",
        "#Generate graphs from pandas dataframe\n",
        "G1 = nx.from_pandas_edgelist(g1_edgelist, 'node1', 'node2')\n",
        "G2 = nx.from_pandas_edgelist(g2_edgelist, 'node1', 'node2')\n",
        "\n",
        "# Generate walks and train node2vec model\n",
        "node2vec1 = Node2Vec(G1, dimensions=64, walk_length=50, num_walks=50, workers=4)\n",
        "model1 = node2vec1.fit(window=10, min_count=1, batch_words=4)\n",
        "\n",
        "node2vec2 = Node2Vec(G2, dimensions=64, walk_length=50, num_walks=50, workers=4)\n",
        "model2 = node2vec2.fit(window=10, min_count=1, batch_words=4)\n",
        "\n",
        "embeddings1 = {node: model1.wv[str(node)] for node in G1.nodes()}\n",
        "embeddings2 = {node: model2.wv[str(node)] for node in G2.nodes()}\n",
        "\n",
        "embeddings1_serializable = {node: embeddings1[node].tolist() for node in G1.nodes()}\n",
        "embeddings2_serializable = {node: embeddings2[node].tolist() for node in G2.nodes()}\n",
        "\n",
        "x1 = torch.tensor([embeddings1_serializable[node] for node in range(max(G1.nodes()) + 1)], dtype=torch.float)\n",
        "x2 = torch.tensor([embeddings2_serializable[node] for node in range(max(G2.nodes()) + 1)], dtype=torch.float)\n",
        "\n",
        "edge_index1 = torch.tensor(list(G1.edges), dtype=torch.long).t().contiguous()\n",
        "edge_index2 = torch.tensor(list(G2.edges), dtype=torch.long).t().contiguous()\n",
        "\n",
        "graph1_data = Data(x1, edge_index=edge_index1)\n",
        "graph2_data = Data(x2, edge_index=edge_index2)"
      ],
      "metadata": {
        "id": "Bi4unrtbOcGq",
        "outputId": "64176ee6-60ee-48c4-d324-ead3f01dad60",
        "colab": {
          "base_uri": "https://localhost:8080/",
          "height": 137,
          "referenced_widgets": [
            "a3e615d0a863492cbb6952fab41b63c4",
            "ffbfe31b7e7f415fa486f64d76c06a5c",
            "b9fac3b0742041d89964baec0f9b4aa7",
            "98061673079941cfa8cf73cf8e34506b",
            "6a369a7d12f9468da14520222a9b42df",
            "8098d1153bb540acbaf3d0ac97c87fa4",
            "4fd806d7a1554a6386ab806c6782e595",
            "e6da2219cade44e384a367b6b69edefa",
            "fc0c91af10dc403aa024cf0b854b96a4",
            "0ad031c2bfce4c4e967bccbfe7159212",
            "ab5cc3429cd4421c8b2504b52fc48ee7",
            "c96165888ae142f5afb8348dce379a6f",
            "f555c7655c9445f5bfa3ece034a28279",
            "2f06de23878d4213a05fe6790a081be9",
            "c685cd41e738488e8184712cebcb04eb",
            "056ed022cc2d499482cb7bda23f2ee84",
            "1b453d759825488c9571f7700047fae6",
            "aca72cb1a4ad4c549f78f87bff9e27d9",
            "4babd9747f2e4cf48f8c745b76626b08",
            "df1363e3bd6c4a55a1d20bfc97407290",
            "53e516de44d4460fb09ae430cfcd6009",
            "f391c3d7c16e429091f521e4affab87d"
          ]
        }
      },
      "execution_count": null,
      "outputs": [
        {
          "output_type": "display_data",
          "data": {
            "text/plain": [
              "Computing transition probabilities:   0%|          | 0/4941 [00:00<?, ?it/s]"
            ],
            "application/vnd.jupyter.widget-view+json": {
              "version_major": 2,
              "version_minor": 0,
              "model_id": "a3e615d0a863492cbb6952fab41b63c4"
            }
          },
          "metadata": {}
        },
        {
          "output_type": "stream",
          "name": "stderr",
          "text": [
            "/usr/local/lib/python3.10/dist-packages/joblib/externals/loky/backend/fork_exec.py:38: RuntimeWarning: os.fork() was called. os.fork() is incompatible with multithreaded code, and JAX is multithreaded, so this will likely lead to a deadlock.\n",
            "  pid = os.fork()\n"
          ]
        },
        {
          "output_type": "display_data",
          "data": {
            "text/plain": [
              "Computing transition probabilities:   0%|          | 0/4941 [00:00<?, ?it/s]"
            ],
            "application/vnd.jupyter.widget-view+json": {
              "version_major": 2,
              "version_minor": 0,
              "model_id": "c96165888ae142f5afb8348dce379a6f"
            }
          },
          "metadata": {}
        }
      ]
    },
    {
      "cell_type": "code",
      "source": [
        "#dataset2\n",
        "\n",
        "g1_edgelist_final = pd.read_csv('./drive/MyDrive/Data/g1_edgeListFinal.csv',names=['node1','node2'])\n",
        "g2_edgelist_final = pd.read_csv('./drive/MyDrive/Data/g2_edgeListFinal.csv',names=['node1','node2'])\n",
        "\n",
        "#Generate graphs from pandas dataframe\n",
        "G1_final = nx.from_pandas_edgelist(g1_edgelist_final, 'node1', 'node2')\n",
        "G2_final = nx.from_pandas_edgelist(g2_edgelist_final, 'node1', 'node2')\n",
        "\n",
        "# Generate walks and train node2vec model\n",
        "node2vec1_final = Node2Vec(G1_final, dimensions=64, walk_length=50, num_walks=50, workers=4)\n",
        "model1_final = node2vec1_final.fit(window=10, min_count=1, batch_words=4)\n",
        "\n",
        "node2vec2_final = Node2Vec(G2_final, dimensions=64, walk_length=50, num_walks=50, workers=4)\n",
        "model2_final = node2vec2_final.fit(window=10, min_count=1, batch_words=4)\n",
        "\n",
        "embeddings1_final = {node: model1.wv[str(node)] for node in G1.nodes()}\n",
        "embeddings2_final = {node: model2.wv[str(node)] for node in G2.nodes()}\n",
        "\n",
        "embeddings1_serializable_final = {node: embeddings1_final[node].tolist() for node in G1_final.nodes()}\n",
        "embeddings2_serializable_final = {node: embeddings2_final[node].tolist() for node in G2_final.nodes()}\n",
        "\n",
        "x1_final = torch.tensor([embeddings1_serializable_final[node] for node in range(max(G1_final.nodes()) + 1)], dtype=torch.float)\n",
        "x2_final = torch.tensor([embeddings2_serializable_final[node] for node in range(max(G2_final.nodes()) + 1)], dtype=torch.float)\n",
        "\n",
        "edge_index1_final = torch.tensor(list(G1_final.edges), dtype=torch.long).t().contiguous()\n",
        "edge_index2_final = torch.tensor(list(G2_final.edges), dtype=torch.long).t().contiguous()\n",
        "\n",
        "graph1_data_final = Data(x1_final, edge_index=edge_index1_final)\n",
        "graph2_data_final = Data(x2_final, edge_index=edge_index2_final)"
      ],
      "metadata": {
        "id": "x822_-lT7e0k",
        "outputId": "ca64a783-3e03-4424-b1b2-4f303d3d4eb1",
        "colab": {
          "base_uri": "https://localhost:8080/",
          "height": 137,
          "referenced_widgets": [
            "0bbf96a458f94c05b25a85e0f4752ce2",
            "e3d4ecb571c7459ab13e633abc08d7dd",
            "bec4c39dc96844f49b72a620c2f79887",
            "7ce2c8f22d334d819372e54a9ca5d5e6",
            "346d74ae360f43faada04575aca66f5c",
            "66f0214eeee74ca6aa64f7f81c301c48",
            "cc565e09d8dc4cf99b33bfcfe18ab072",
            "c8f1235e73da4b2f8187ae543d17ae2c",
            "b28e789a10a54aefa9e240741c6db971",
            "192c4a0adf7e4b35a2c74ac61cd4d044",
            "e896b249657248ba85b487b6f3717506",
            "795de5d81d6f490a866194c32cd6c05d",
            "459691bda2fc480eb82f820554f9daaf",
            "6c9d9414d64240df92c183f08e7bd0ee",
            "1f5044f9d04842188d3f1b50c3b12875",
            "b8233c4f4f3f48fa96bc459f89f86cc7",
            "7c72abc4819c473597b6a41becda16f4",
            "7bea3f0957db479aba03b9ff533c4211",
            "191dfa6bfaeb47c888ba32200e20929c",
            "ed8f0930611c45f7a2226dfec414cbe4",
            "72ffabe5f63844f6a101c72bc61bee76",
            "d8714627840a4390a90120deb82916d5"
          ]
        }
      },
      "execution_count": null,
      "outputs": [
        {
          "output_type": "display_data",
          "data": {
            "text/plain": [
              "Computing transition probabilities:   0%|          | 0/2783 [00:00<?, ?it/s]"
            ],
            "application/vnd.jupyter.widget-view+json": {
              "version_major": 2,
              "version_minor": 0,
              "model_id": "0bbf96a458f94c05b25a85e0f4752ce2"
            }
          },
          "metadata": {}
        },
        {
          "output_type": "stream",
          "name": "stderr",
          "text": [
            "/usr/local/lib/python3.10/dist-packages/joblib/externals/loky/backend/fork_exec.py:38: RuntimeWarning: os.fork() was called. os.fork() is incompatible with multithreaded code, and JAX is multithreaded, so this will likely lead to a deadlock.\n",
            "  pid = os.fork()\n"
          ]
        },
        {
          "output_type": "display_data",
          "data": {
            "text/plain": [
              "Computing transition probabilities:   0%|          | 0/2783 [00:00<?, ?it/s]"
            ],
            "application/vnd.jupyter.widget-view+json": {
              "version_major": 2,
              "version_minor": 0,
              "model_id": "795de5d81d6f490a866194c32cd6c05d"
            }
          },
          "metadata": {}
        }
      ]
    },
    {
      "cell_type": "code",
      "source": [
        "import json\n",
        "\n",
        "# Store embeddings in a JSON file - dataset1\n",
        "with open('embeddings64_g1.json', 'w') as f:\n",
        "    json.dump(embeddings1_serializable, f)\n",
        "\n",
        "with open('embeddings64_g2.json', 'w') as f:\n",
        "    json.dump(embeddings2_serializable, f)"
      ],
      "metadata": {
        "id": "p-_I-r6UL57i"
      },
      "execution_count": null,
      "outputs": []
    },
    {
      "cell_type": "code",
      "source": [
        "# Reload embeddings from JSON file - dataset1\n",
        "with open('embeddings64_g1.json', 'r') as f:\n",
        "    embeddings1_serializable = json.load(f)\n",
        "\n",
        "with open('embeddings64_g2.json', 'r') as f:\n",
        "    embeddings2_serializable = json.load(f)"
      ],
      "metadata": {
        "id": "iKx6TKKBDWbV"
      },
      "execution_count": null,
      "outputs": []
    },
    {
      "cell_type": "code",
      "source": [
        "# Store embeddings in a JSON file - dataset2\n",
        "with open('embeddings64_g1_final.json', 'w') as f:\n",
        "    json.dump(embeddings1_serializable_final, f)\n",
        "\n",
        "with open('embeddings64_g2_final.json', 'w') as f:\n",
        "    json.dump(embeddings2_serializable_final, f)"
      ],
      "metadata": {
        "id": "gbjhHJnVMDUu"
      },
      "execution_count": null,
      "outputs": []
    },
    {
      "cell_type": "code",
      "source": [
        "# Reload embeddings from JSON file - dataset2\n",
        "with open('embeddings64_g1_final.json', 'r') as f:\n",
        "    embeddings1_serializable_final = json.load(f)\n",
        "\n",
        "with open('embeddings64_g2_final.json', 'r') as f:\n",
        "    embeddings2_serializable_final = json.load(f)"
      ],
      "metadata": {
        "id": "Bp-Vfw3jMGT1"
      },
      "execution_count": null,
      "outputs": []
    },
    {
      "cell_type": "code",
      "source": [
        "#model\n",
        "\n",
        "from torch_geometric.nn import GCNConv\n",
        "import torch.nn.functional as F\n",
        "import torch.nn as nn\n",
        "\n",
        "class GNN(nn.Module):\n",
        "    def __init__(self, input_dim, output_dim):\n",
        "        super(GNN, self).__init__()\n",
        "        self.conv1 = GCNConv(input_dim, 128)\n",
        "        self.conv2 = GCNConv(128, output_dim)\n",
        "\n",
        "    def forward(self, x, edge_index):\n",
        "        x = F.relu(self.conv1(x, edge_index))\n",
        "        x = self.conv2(x, edge_index)\n",
        "        return x\n",
        "\n",
        "class SiameseNet(nn.Module):\n",
        "    def __init__(self, input_dim, output_dim):\n",
        "        super(SiameseNet, self).__init__()\n",
        "        self.gnn = GNN(input_dim, output_dim)\n",
        "\n",
        "    def forward(self, data1, data2):\n",
        "        # Pass both graph data through the same GNN\n",
        "        emb1 = self.gnn(data1.x, data1.edge_index)\n",
        "        emb2 = self.gnn(data2.x, data2.edge_index)\n",
        "        return emb1, emb2"
      ],
      "metadata": {
        "id": "c3dS2zVePHJ5"
      },
      "execution_count": null,
      "outputs": []
    },
    {
      "cell_type": "code",
      "source": [
        "# Load anchors - dataset1\n",
        "anchors = pd.read_csv('./drive/MyDrive/Data/map_anchors.csv')\n",
        "\n",
        "# Convert to tensor\n",
        "anchor_index = torch.tensor(anchors.values, dtype=torch.long)"
      ],
      "metadata": {
        "id": "A6RAJ_K1PMxd"
      },
      "execution_count": null,
      "outputs": []
    },
    {
      "cell_type": "code",
      "source": [
        "# Load anchors - dataset2\n",
        "anchors_final = pd.read_csv('./drive/MyDrive/Data/mapping_anchorsFinal.csv')\n",
        "\n",
        "# Convert to tensor\n",
        "anchor_index_final = torch.tensor(anchors_final.values, dtype=torch.long)"
      ],
      "metadata": {
        "id": "G6T5YtkH5qqY"
      },
      "execution_count": null,
      "outputs": []
    },
    {
      "cell_type": "code",
      "source": [
        "import torch.optim as optim\n",
        "\n",
        "# Initialize model and optimizer\n",
        "model1 = SiameseNet(input_dim=64, output_dim=32)\n",
        "optimizer = optim.Adam(model1.parameters(), lr=0.0003)\n",
        "loss_fn = nn.MSELoss()"
      ],
      "metadata": {
        "id": "u2FIqkIAPSN-"
      },
      "execution_count": null,
      "outputs": []
    },
    {
      "cell_type": "code",
      "source": [
        "import matplotlib.pyplot as plt\n",
        "def train(model, data1, data2, anchor_index, epochs, mapped_nodes_weight=1.0):\n",
        "    loss_values = []\n",
        "    for epoch in range(epochs):\n",
        "        optimizer.zero_grad()\n",
        "        emb1, emb2 = model(data1, data2)\n",
        "\n",
        "        # Compute MSE loss for all node pairs\n",
        "        loss = loss_fn(emb1[anchor_index[:, 0]], emb2[anchor_index[:, 1]])\n",
        "\n",
        "        # Penalty for already mapped nodes\n",
        "        mapped_nodes_loss = loss_fn(emb1[anchor_index[:, 0]], emb2[anchor_index[:, 1]])\n",
        "\n",
        "        # Total loss\n",
        "        loss = loss + mapped_nodes_weight * mapped_nodes_loss\n",
        "\n",
        "        loss.backward()\n",
        "        optimizer.step()\n",
        "        loss_values.append(loss.item())\n",
        "        if epoch % 1000 == 0:\n",
        "            print(f\"Epoch {epoch}: Loss {loss.item()}\")\n",
        "\n",
        "    # Plotting the loss values\n",
        "    plt.figure(figsize=(10, 5))\n",
        "    plt.plot(loss_values, label='Training Loss')\n",
        "    plt.xlabel('Epochs')\n",
        "    plt.ylabel('Loss')\n",
        "    plt.title('Cost vs Epochs')\n",
        "    plt.legend()\n",
        "    plt.grid(True)\n",
        "    plt.show()\n",
        "\n",
        "    return loss_values\n"
      ],
      "metadata": {
        "id": "X6xMPPHjhQlI"
      },
      "execution_count": null,
      "outputs": []
    },
    {
      "cell_type": "code",
      "source": [
        "loss_values = train(model1, graph1_data, graph2_data, anchor_index, epochs=20000, mapped_nodes_weight=10.0)"
      ],
      "metadata": {
        "colab": {
          "base_uri": "https://localhost:8080/",
          "height": 844
        },
        "id": "GoaE24gErkvQ",
        "outputId": "0dd1faaf-20b4-4c97-8a34-193628cd1eba"
      },
      "execution_count": null,
      "outputs": [
        {
          "output_type": "stream",
          "name": "stdout",
          "text": [
            "Epoch 0: Loss 3.6169795989990234\n",
            "Epoch 1000: Loss 0.011163334362208843\n",
            "Epoch 2000: Loss 0.004062318243086338\n",
            "Epoch 3000: Loss 0.0020026436541229486\n",
            "Epoch 4000: Loss 0.0011010067537426949\n",
            "Epoch 5000: Loss 0.0006380649865604937\n",
            "Epoch 6000: Loss 0.00037616246845573187\n",
            "Epoch 7000: Loss 0.00022691299091093242\n",
            "Epoch 8000: Loss 0.00013763400784227997\n",
            "Epoch 9000: Loss 8.559944399166852e-05\n",
            "Epoch 10000: Loss 5.5554879509145394e-05\n",
            "Epoch 11000: Loss 3.91667454096023e-05\n",
            "Epoch 12000: Loss 2.76536047749687e-05\n",
            "Epoch 13000: Loss 1.8195760276285e-05\n",
            "Epoch 14000: Loss 1.4442261999647599e-05\n",
            "Epoch 15000: Loss 1.3078187294013333e-05\n",
            "Epoch 16000: Loss 8.35992341308156e-06\n",
            "Epoch 17000: Loss 8.027822332223877e-06\n",
            "Epoch 18000: Loss 6.3428401517739985e-06\n",
            "Epoch 19000: Loss 5.632146439893404e-06\n"
          ]
        },
        {
          "output_type": "display_data",
          "data": {
            "text/plain": [
              "<Figure size 1000x500 with 1 Axes>"
            ],
            "image/png": "[encoded data removed]"
          },
          "metadata": {}
        }
      ]
    },
    {
      "cell_type": "code",
      "source": [
        "# Initialize model and optimizer\n",
        "model2 = SiameseNet(input_dim=64, output_dim=32)\n",
        "optimizer = optim.Adam(model2.parameters(), lr=0.0003)\n",
        "loss_fn = nn.MSELoss()"
      ],
      "metadata": {
        "id": "D1Q5_6rCz7tG"
      },
      "execution_count": null,
      "outputs": []
    },
    {
      "cell_type": "code",
      "source": [
        "loss_values = train(model2, graph1_data_final, graph2_data_final, anchor_index_final, epochs=20000, mapped_nodes_weight=10.0)"
      ],
      "metadata": {
        "id": "7yt2i06OF-FJ",
        "outputId": "79c14f25-5a2f-4081-d82d-e047f97ebb53",
        "colab": {
          "base_uri": "https://localhost:8080/",
          "height": 844
        }
      },
      "execution_count": null,
      "outputs": [
        {
          "output_type": "stream",
          "name": "stdout",
          "text": [
            "Epoch 0: Loss 2.0362181663513184\n",
            "Epoch 1000: Loss 0.010756740346550941\n",
            "Epoch 2000: Loss 0.0037098946049809456\n",
            "Epoch 3000: Loss 0.001726489863358438\n",
            "Epoch 4000: Loss 0.0008974890224635601\n",
            "Epoch 5000: Loss 0.0004929076530970633\n",
            "Epoch 6000: Loss 0.0002737657923717052\n",
            "Epoch 7000: Loss 0.00015331682516261935\n",
            "Epoch 8000: Loss 8.450391032965854e-05\n",
            "Epoch 9000: Loss 4.6856999688316137e-05\n",
            "Epoch 10000: Loss 2.7017085812985897e-05\n",
            "Epoch 11000: Loss 1.588820305187255e-05\n",
            "Epoch 12000: Loss 1.1017180440830998e-05\n",
            "Epoch 13000: Loss 6.1838850342610385e-06\n",
            "Epoch 14000: Loss 4.096823431609664e-06\n",
            "Epoch 15000: Loss 3.0001260711287614e-06\n",
            "Epoch 16000: Loss 2.3948168745846488e-06\n",
            "Epoch 17000: Loss 1.4354956192619284e-06\n",
            "Epoch 18000: Loss 2.60769820670248e-06\n",
            "Epoch 19000: Loss 8.549653216505249e-07\n"
          ]
        },
        {
          "output_type": "display_data",
          "data": {
            "text/plain": [
              "<Figure size 1000x500 with 1 Axes>"
            ],
            "image/png": "[encoded data removed]"
          },
          "metadata": {}
        }
      ]
    },
    {
      "cell_type": "code",
      "execution_count": null,
      "metadata": {
        "id": "fxzxzzAzNj8k"
      },
      "outputs": [],
      "source": [
        "def predict_correspondences(model, data1, data2):\n",
        "    model.eval()\n",
        "    with torch.no_grad():\n",
        "        emb1, emb2 = model(data1, data2)\n",
        "\n",
        "    # Normalize embeddings to unit vectors for cosine similarity\n",
        "    emb1 = F.normalize(emb1, p=2, dim=1)\n",
        "    emb2 = F.normalize(emb2, p=2, dim=1)\n",
        "\n",
        "    # Compute cosine similarity and predict correspondences\n",
        "    similarity = torch.matmul(emb1, emb2.t())\n",
        "    predicted_correspondences = similarity.argmax(dim=1)\n",
        "\n",
        "    # Create a dictionary mapping each node in graph1 to a node in graph2\n",
        "    correspondence_dict = {i: predicted_correspondences[i].item() for i in range(data1.num_nodes)}\n",
        "\n",
        "    return correspondence_dict"
      ]
    },
    {
      "cell_type": "code",
      "source": [
        "predicted_correspondences1 = predict_correspondences(model1, graph1_data, graph2_data)\n",
        "print(predicted_correspondences1)"
      ],
      "metadata": {
        "id": "ojpOuLtsPWd5",
        "colab": {
          "base_uri": "https://localhost:8080/"
        },
        "outputId": "df19d983-0aa3-4f16-e440-7338281ef565"
      },
      "execution_count": null,
      "outputs": [
        {
          "output_type": "stream",
          "name": "stdout",
          "text": [
            "{0: 2824, 1: 4603, 2: 1343, 3: 3194, 4: 3978, 5: 2341, 6: 2336, 7: 1302, 8: 1625, 9: 3969, 10: 908, 11: 675, 12: 991, 13: 2371, 14: 4917, 15: 2165, 16: 1370, 17: 4013, 18: 4076, 19: 590, 20: 64, 21: 4569, 22: 961, 23: 930, 24: 2046, 25: 4365, 26: 4418, 27: 965, 28: 2498, 29: 1670, 30: 4069, 31: 1859, 32: 806, 33: 4100, 34: 2517, 35: 282, 36: 2100, 37: 3661, 38: 4905, 39: 1081, 40: 1183, 41: 2356, 42: 52, 43: 602, 44: 2289, 45: 3811, 46: 4541, 47: 2533, 48: 4478, 49: 3362, 50: 1391, 51: 469, 52: 2865, 53: 4412, 54: 2091, 55: 627, 56: 4438, 57: 917, 58: 3670, 59: 3071, 60: 1677, 61: 4461, 62: 896, 63: 1848, 64: 224, 65: 2987, 66: 3796, 67: 1040, 68: 3385, 69: 275, 70: 4341, 71: 155, 72: 2996, 73: 919, 74: 4436, 75: 4611, 76: 3345, 77: 2095, 78: 2700, 79: 3352, 80: 1932, 81: 4369, 82: 4479, 83: 900, 84: 3028, 85: 2586, 86: 60, 87: 25, 88: 3554, 89: 3961, 90: 232, 91: 2031, 92: 233, 93: 4868, 94: 4401, 95: 3081, 96: 2531, 97: 4582, 98: 4323, 99: 3096, 100: 496, 101: 4019, 102: 2957, 103: 1255, 104: 4567, 105: 4584, 106: 2759, 107: 2076, 108: 107, 109: 1974, 110: 226, 111: 2911, 112: 3482, 113: 3536, 114: 4495, 115: 935, 116: 480, 117: 2466, 118: 1069, 119: 932, 120: 3690, 121: 139, 122: 2115, 123: 185, 124: 813, 125: 1387, 126: 3531, 127: 1612, 128: 1942, 129: 4612, 130: 2461, 131: 1883, 132: 3460, 133: 548, 134: 1282, 135: 1166, 136: 4367, 137: 2072, 138: 2799, 139: 3361, 140: 2838, 141: 4718, 142: 2887, 143: 4343, 144: 878, 145: 2155, 146: 1980, 147: 2394, 148: 4390, 149: 92, 150: 238, 151: 3178, 152: 1716, 153: 2278, 154: 4617, 155: 906, 156: 3354, 157: 2894, 158: 3832, 159: 2329, 160: 4699, 161: 2584, 162: 2762, 163: 112, 164: 1395, 165: 3766, 166: 4191, 167: 4137, 168: 4233, 169: 4294, 170: 3186, 171: 4517, 172: 2270, 173: 953, 174: 1020, 175: 2283, 176: 66, 177: 29, 178: 4796, 179: 3523, 180: 336, 181: 4416, 182: 2950, 183: 2431, 184: 1005, 185: 1470, 186: 4729, 187: 4130, 188: 2139, 189: 853, 190: 1074, 191: 2333, 192: 1654, 193: 441, 194: 3408, 195: 4901, 196: 271, 197: 2238, 198: 1360, 199: 3465, 200: 2654, 201: 1562, 202: 2803, 203: 3582, 204: 3825, 205: 3363, 206: 545, 207: 1208, 208: 3198, 209: 1109, 210: 1246, 211: 657, 212: 4822, 213: 4785, 214: 3221, 215: 1010, 216: 3494, 217: 82, 218: 2255, 219: 2212, 220: 4543, 221: 4410, 222: 1083, 223: 4682, 224: 2509, 225: 2420, 226: 4782, 227: 1287, 228: 179, 229: 962, 230: 4182, 231: 1976, 232: 1869, 233: 2099, 234: 2065, 235: 4480, 236: 1992, 237: 3373, 238: 767, 239: 1206, 240: 2123, 241: 4103, 242: 3199, 243: 3639, 244: 4870, 245: 2870, 246: 20, 247: 4535, 248: 1728, 249: 4110, 250: 3212, 251: 617, 252: 2346, 253: 1739, 254: 2876, 255: 399, 256: 393, 257: 1760, 258: 1271, 259: 108, 260: 1412, 261: 4154, 262: 4040, 263: 260, 264: 256, 265: 3731, 266: 2412, 267: 3378, 268: 475, 269: 4656, 270: 4659, 271: 3570, 272: 1781, 273: 53, 274: 3642, 275: 4760, 276: 3962, 277: 4918, 278: 3471, 279: 3923, 280: 3069, 281: 3545, 282: 2983, 283: 1877, 284: 683, 285: 824, 286: 4647, 287: 773, 288: 2570, 289: 3874, 290: 718, 291: 3601, 292: 1570, 293: 3849, 294: 1314, 295: 2625, 296: 2244, 297: 4714, 298: 2783, 299: 3356, 300: 3830, 301: 447, 302: 489, 303: 448, 304: 4871, 305: 4346, 306: 2606, 307: 692, 308: 4083, 309: 280, 310: 1953, 311: 3321, 312: 4858, 313: 2978, 314: 1361, 315: 335, 316: 822, 317: 2222, 318: 3556, 319: 3073, 320: 2181, 321: 4817, 322: 4235, 323: 2717, 324: 1317, 325: 3711, 326: 3392, 327: 3065, 328: 732, 329: 3565, 330: 2909, 331: 4332, 332: 4290, 333: 3133, 334: 4498, 335: 278, 336: 1354, 337: 4776, 338: 366, 339: 1463, 340: 1910, 341: 2351, 342: 663, 343: 2873, 344: 2180, 345: 4777, 346: 2977, 347: 147, 348: 4217, 349: 4180, 350: 2086, 351: 351, 352: 2992, 353: 3529, 354: 1385, 355: 2903, 356: 1365, 357: 1259, 358: 858, 359: 1560, 360: 974, 361: 4898, 362: 638, 363: 4226, 364: 3143, 365: 3262, 366: 3840, 367: 835, 368: 3693, 369: 178, 370: 149, 371: 3449, 372: 686, 373: 2259, 374: 1464, 375: 4531, 376: 2727, 377: 4831, 378: 165, 379: 2616, 380: 2073, 381: 3774, 382: 4533, 383: 257, 384: 188, 385: 4721, 386: 4497, 387: 3020, 388: 1239, 389: 2585, 390: 1137, 391: 2581, 392: 3847, 393: 4071, 394: 3380, 395: 2235, 396: 2358, 397: 169, 398: 417, 399: 1956, 400: 1192, 401: 2188, 402: 1532, 403: 1451, 404: 2938, 405: 2053, 406: 1596, 407: 1957, 408: 2929, 409: 2342, 410: 2663, 411: 2293, 412: 3517, 413: 48, 414: 2521, 415: 1422, 416: 3498, 417: 4012, 418: 1380, 419: 3818, 420: 426, 421: 4513, 422: 1024, 423: 3094, 424: 997, 425: 1025, 426: 4562, 427: 3329, 428: 3786, 429: 1508, 430: 406, 431: 4366, 432: 2660, 433: 1539, 434: 2619, 435: 611, 436: 306, 437: 3636, 438: 3489, 439: 22, 440: 897, 441: 1262, 442: 4775, 443: 631, 444: 4824, 445: 1003, 446: 2558, 447: 4268, 448: 4802, 449: 771, 450: 4875, 451: 354, 452: 2030, 453: 3372, 454: 781, 455: 2104, 456: 4104, 457: 3941, 458: 4183, 459: 716, 460: 795, 461: 3137, 462: 4793, 463: 315, 464: 1705, 465: 3958, 466: 2041, 467: 696, 468: 2613, 469: 4932, 470: 3183, 471: 4036, 472: 55, 473: 4316, 474: 1401, 475: 924, 476: 2868, 477: 1722, 478: 821, 479: 643, 480: 4558, 481: 3359, 482: 3314, 483: 4250, 484: 144, 485: 669, 486: 3526, 487: 4489, 488: 956, 489: 540, 490: 4101, 491: 2892, 492: 2697, 493: 2043, 494: 367, 495: 1526, 496: 344, 497: 2050, 498: 3613, 499: 3314, 500: 3314, 501: 2216, 502: 161, 503: 2660, 504: 3968, 505: 1539, 506: 1766, 507: 100, 508: 1055, 509: 3087, 510: 4203, 511: 903, 512: 4632, 513: 4632, 514: 4632, 515: 3613, 516: 1599, 517: 2104, 518: 923, 519: 2506, 520: 821, 521: 2506, 522: 1722, 523: 695, 524: 4632, 525: 903, 526: 4311, 527: 4311, 528: 4311, 529: 127, 530: 1391, 531: 1524, 532: 3795, 533: 1888, 534: 2283, 535: 1396, 536: 4311, 537: 1888, 538: 1888, 539: 127, 540: 3641, 541: 3410, 542: 3987, 543: 2498, 544: 3701, 545: 108, 546: 3987, 547: 2183, 548: 2803, 549: 722, 550: 1888, 551: 3795, 552: 3464, 553: 3464, 554: 3464, 555: 2862, 556: 2404, 557: 3595, 558: 2404, 559: 3595, 560: 783, 561: 2862, 562: 1073, 563: 3595, 564: 3595, 565: 2862, 566: 868, 567: 52, 568: 52, 569: 52, 570: 738, 571: 52, 572: 2795, 573: 2795, 574: 2795, 575: 3789, 576: 3789, 577: 935, 578: 4047, 579: 52, 580: 4390, 581: 4622, 582: 4622, 583: 4622, 584: 4622, 585: 4622, 586: 4622, 587: 3322, 588: 1685, 589: 2942, 590: 1685, 591: 1685, 592: 4222, 593: 3319, 594: 4390, 595: 1832, 596: 4070, 597: 4390, 598: 4390, 599: 4390, 600: 2233, 601: 832, 602: 1751, 603: 1751, 604: 83, 605: 1751, 606: 83, 607: 83, 608: 83, 609: 4533, 610: 4587, 611: 245, 612: 2805, 613: 3789, 614: 3789, 615: 52, 616: 3995, 617: 3995, 618: 52, 619: 3956, 620: 3956, 621: 3995, 622: 3995, 623: 3765, 624: 4047, 625: 301, 626: 301, 627: 301, 628: 301, 629: 301, 630: 301, 631: 4687, 632: 4687, 633: 4622, 634: 4622, 635: 4622, 636: 1620, 637: 301, 638: 301, 639: 301, 640: 4047, 641: 2795, 642: 4047, 643: 4159, 644: 301, 645: 3319, 646: 935, 647: 935, 648: 935, 649: 52, 650: 1360, 651: 1863, 652: 1863, 653: 1863, 654: 1863, 655: 1863, 656: 4203, 657: 4203, 658: 4203, 659: 4203, 660: 4021, 661: 4021, 662: 4021, 663: 2716, 664: 3322, 665: 3322, 666: 2383, 667: 2401, 668: 298, 669: 298, 670: 413, 671: 3140, 672: 413, 673: 1401, 674: 1401, 675: 4203, 676: 1401, 677: 601, 678: 2902, 679: 2370, 680: 601, 681: 3140, 682: 266, 683: 266, 684: 2494, 685: 2494, 686: 266, 687: 266, 688: 266, 689: 3335, 690: 918, 691: 3497, 692: 3033, 693: 3733, 694: 1897, 695: 3335, 696: 614, 697: 7, 698: 3497, 699: 3497, 700: 4021, 701: 3497, 702: 3335, 703: 3335, 704: 3335, 705: 3335, 706: 3335, 707: 3335, 708: 1640, 709: 918, 710: 918, 711: 1871, 712: 1640, 713: 918, 714: 1871, 715: 2716, 716: 2716, 717: 918, 718: 3033, 719: 1640, 720: 2716, 721: 2023, 722: 601, 723: 413, 724: 2023, 725: 1575, 726: 2401, 727: 2401, 728: 49, 729: 2494, 730: 2455, 731: 49, 732: 49, 733: 49, 734: 49, 735: 2455, 736: 2494, 737: 1575, 738: 3213, 739: 7, 740: 918, 741: 3732, 742: 3732, 743: 2401, 744: 2455, 745: 2455, 746: 3732, 747: 2757, 748: 2757, 749: 225, 750: 2370, 751: 816, 752: 743, 753: 3380, 754: 49, 755: 2383, 756: 49, 757: 4203, 758: 918, 759: 3872, 760: 3872, 761: 4034, 762: 1401, 763: 1401, 764: 266, 765: 2401, 766: 2401, 767: 49, 768: 601, 769: 2494, 770: 918, 771: 4021, 772: 2716, 773: 4423, 774: 3322, 775: 1871, 776: 1401, 777: 2370, 778: 2370, 779: 1575, 780: 298, 781: 266, 782: 601, 783: 601, 784: 601, 785: 49, 786: 3872, 787: 2455, 788: 2455, 789: 4423, 790: 3900, 791: 3717, 792: 918, 793: 1988, 794: 657, 795: 2383, 796: 49, 797: 3774, 798: 3774, 799: 3774, 800: 4021, 801: 3380, 802: 298, 803: 298, 804: 2455, 805: 298, 806: 298, 807: 263, 808: 263, 809: 2401, 810: 2902, 811: 1988, 812: 2455, 813: 49, 814: 49, 815: 2716, 816: 298, 817: 298, 818: 1914, 819: 298, 820: 2436, 821: 2436, 822: 2436, 823: 2436, 824: 331, 825: 2436, 826: 596, 827: 596, 828: 1199, 829: 1199, 830: 1199, 831: 596, 832: 596, 833: 596, 834: 4304, 835: 331, 836: 3380, 837: 3319, 838: 3927, 839: 1199, 840: 2758, 841: 4159, 842: 1914, 843: 1914, 844: 4159, 845: 4159, 846: 301, 847: 2117, 848: 1554, 849: 3780, 850: 2519, 851: 1050, 852: 2508, 853: 2508, 854: 2508, 855: 2508, 856: 2508, 857: 1050, 858: 1050, 859: 1050, 860: 1050, 861: 596, 862: 4651, 863: 1199, 864: 1199, 865: 4699, 866: 2584, 867: 3555, 868: 3555, 869: 1551, 870: 1050, 871: 1551, 872: 1050, 873: 1050, 874: 1050, 875: 1050, 876: 1050, 877: 1050, 878: 2066, 879: 3927, 880: 2584, 881: 4159, 882: 405, 883: 596, 884: 3927, 885: 3927, 886: 3555, 887: 3470, 888: 3319, 889: 2223, 890: 615, 891: 784, 892: 2942, 893: 2942, 894: 1685, 895: 3308, 896: 2942, 897: 3322, 898: 3322, 899: 1554, 900: 3861, 901: 3861, 902: 2932, 903: 3555, 904: 3555, 905: 4062, 906: 3555, 907: 2027, 908: 2366, 909: 2027, 910: 2366, 911: 2675, 912: 2358, 913: 2436, 914: 2584, 915: 2584, 916: 4421, 917: 2476, 918: 3400, 919: 2476, 920: 2233, 921: 4594, 922: 245, 923: 2735, 924: 2735, 925: 4679, 926: 2233, 927: 3400, 928: 3400, 929: 4594, 930: 245, 931: 309, 932: 4676, 933: 3872, 934: 3872, 935: 3128, 936: 3128, 937: 245, 938: 4247, 939: 3872, 940: 3872, 941: 4247, 942: 3872, 943: 3872, 944: 3872, 945: 2101, 946: 1693, 947: 3484, 948: 3484, 949: 1693, 950: 1302, 951: 3688, 952: 1693, 953: 3688, 954: 4729, 955: 4679, 956: 4679, 957: 4401, 958: 4401, 959: 2531, 960: 313, 961: 3854, 962: 3854, 963: 3523, 964: 1693, 965: 1693, 966: 1693, 967: 2233, 968: 2476, 969: 2439, 970: 1302, 971: 1693, 972: 3978, 973: 3978, 974: 1302, 975: 3978, 976: 4676, 977: 2476, 978: 1302, 979: 1302, 980: 1302, 981: 1302, 982: 1302, 983: 1302, 984: 1302, 985: 2476, 986: 3319, 987: 3319, 988: 3319, 989: 1302, 990: 1302, 991: 1693, 992: 4676, 993: 444, 994: 444, 995: 1693, 996: 1302, 997: 4676, 998: 444, 999: 1693, 1000: 3978, 1001: 4676, 1002: 1302, 1003: 1302, 1004: 1302, 1005: 3973, 1006: 1693, 1007: 444, 1008: 1183, 1009: 1693, 1010: 1693, 1011: 43, 1012: 4079, 1013: 1693, 1014: 444, 1015: 444, 1016: 3140, 1017: 413, 1018: 2242, 1019: 3571, 1020: 891, 1021: 891, 1022: 1302, 1023: 1302, 1024: 2336, 1025: 2336, 1026: 1302, 1027: 1693, 1028: 3012, 1029: 3012, 1030: 3012, 1031: 2654, 1032: 2654, 1033: 2971, 1034: 2654, 1035: 2065, 1036: 1739, 1037: 1326, 1038: 1739, 1039: 1326, 1040: 141, 1041: 3134, 1042: 1667, 1043: 141, 1044: 112, 1045: 141, 1046: 4754, 1047: 1667, 1048: 422, 1049: 3819, 1050: 2168, 1051: 3819, 1052: 3009, 1053: 3009, 1054: 3731, 1055: 3009, 1056: 3009, 1057: 3731, 1058: 3009, 1059: 813, 1060: 3009, 1061: 1597, 1062: 3819, 1063: 334, 1064: 334, 1065: 334, 1066: 2234, 1067: 334, 1068: 334, 1069: 334, 1070: 2234, 1071: 2234, 1072: 3330, 1073: 268, 1074: 1356, 1075: 3009, 1076: 1356, 1077: 1326, 1078: 877, 1079: 1326, 1080: 1739, 1081: 1739, 1082: 1326, 1083: 141, 1084: 1326, 1085: 2115, 1086: 1282, 1087: 3361, 1088: 1667, 1089: 3009, 1090: 619, 1091: 3009, 1092: 2115, 1093: 2115, 1094: 112, 1095: 877, 1096: 3765, 1097: 1444, 1098: 323, 1099: 112, 1100: 813, 1101: 3009, 1102: 3009, 1103: 1981, 1104: 3009, 1105: 1356, 1106: 3009, 1107: 2115, 1108: 1739, 1109: 932, 1110: 3765, 1111: 2416, 1112: 2510, 1113: 2510, 1114: 1667, 1115: 3361, 1116: 4435, 1117: 2584, 1118: 3460, 1119: 3765, 1120: 1444, 1121: 1444, 1122: 2876, 1123: 1071, 1124: 619, 1125: 1071, 1126: 3009, 1127: 3009, 1128: 546, 1129: 813, 1130: 3009, 1131: 3009, 1132: 3009, 1133: 2584, 1134: 740, 1135: 2876, 1136: 1739, 1137: 740, 1138: 2115, 1139: 1739, 1140: 323, 1141: 193, 1142: 4718, 1143: 877, 1144: 193, 1145: 193, 1146: 141, 1147: 1597, 1148: 4718, 1149: 619, 1150: 3765, 1151: 4047, 1152: 2942, 1153: 2942, 1154: 2942, 1155: 2942, 1156: 3308, 1157: 2942, 1158: 3308, 1159: 3861, 1160: 3861, 1161: 498, 1162: 3982, 1163: 3982, 1164: 3982, 1165: 1685, 1166: 1685, 1167: 3861, 1168: 1829, 1169: 2833, 1170: 1829, 1171: 2833, 1172: 3845, 1173: 4007, 1174: 3845, 1175: 3845, 1176: 4563, 1177: 3374, 1178: 3374, 1179: 3374, 1180: 3374, 1181: 48, 1182: 3374, 1183: 3517, 1184: 3374, 1185: 1636, 1186: 1467, 1187: 2097, 1188: 2097, 1189: 2097, 1190: 2097, 1191: 2808, 1192: 2808, 1193: 2808, 1194: 2808, 1195: 2808, 1196: 2808, 1197: 2808, 1198: 2808, 1199: 2808, 1200: 2021, 1201: 99, 1202: 99, 1203: 3852, 1204: 214, 1205: 99, 1206: 214, 1207: 4513, 1208: 2048, 1209: 2048, 1210: 2274, 1211: 4352, 1212: 1607, 1213: 2051, 1214: 1401, 1215: 4548, 1216: 1921, 1217: 388, 1218: 3526, 1219: 3374, 1220: 144, 1221: 144, 1222: 2048, 1223: 91, 1224: 91, 1225: 91, 1226: 2505, 1227: 3949, 1228: 2505, 1229: 3949, 1230: 1888, 1231: 1888, 1232: 2295, 1233: 3982, 1234: 2295, 1235: 1573, 1236: 2295, 1237: 2126, 1238: 1697, 1239: 3982, 1240: 2295, 1241: 3047, 1242: 2295, 1243: 2295, 1244: 2295, 1245: 3295, 1246: 1070, 1247: 2057, 1248: 1995, 1249: 120, 1250: 803, 1251: 120, 1252: 1476, 1253: 377, 1254: 3187, 1255: 3764, 1256: 3764, 1257: 3982, 1258: 3861, 1259: 3861, 1260: 3764, 1261: 4753, 1262: 3731, 1263: 2509, 1264: 3549, 1265: 2914, 1266: 2914, 1267: 1337, 1268: 3475, 1269: 2509, 1270: 3731, 1271: 907, 1272: 3731, 1273: 3295, 1274: 317, 1275: 317, 1276: 2929, 1277: 3982, 1278: 521, 1279: 15, 1280: 3764, 1281: 1607, 1282: 1888, 1283: 15, 1284: 1236, 1285: 4533, 1286: 4533, 1287: 4533, 1288: 2521, 1289: 4533, 1290: 4533, 1291: 4533, 1292: 4533, 1293: 2972, 1294: 2279, 1295: 2279, 1296: 2279, 1297: 543, 1298: 2279, 1299: 2279, 1300: 1496, 1301: 1102, 1302: 1186, 1303: 4215, 1304: 4215, 1305: 4215, 1306: 4215, 1307: 4215, 1308: 3204, 1309: 3204, 1310: 4593, 1311: 4593, 1312: 4593, 1313: 4593, 1314: 2919, 1315: 4390, 1316: 3204, 1317: 3409, 1318: 1496, 1319: 543, 1320: 3204, 1321: 4390, 1322: 2919, 1323: 2274, 1324: 3550, 1325: 4086, 1326: 326, 1327: 1950, 1328: 30, 1329: 1666, 1330: 4352, 1331: 2051, 1332: 1607, 1333: 4218, 1334: 1607, 1335: 3996, 1336: 4194, 1337: 1636, 1338: 1636, 1339: 1636, 1340: 3508, 1341: 453, 1342: 453, 1343: 4563, 1344: 4563, 1345: 361, 1346: 4548, 1347: 2071, 1348: 564, 1349: 983, 1350: 2807, 1351: 3033, 1352: 3475, 1353: 1206, 1354: 3861, 1355: 4803, 1356: 4803, 1357: 3308, 1358: 2079, 1359: 4171, 1360: 4171, 1361: 4171, 1362: 4171, 1363: 1599, 1364: 1401, 1365: 1322, 1366: 1322, 1367: 1386, 1368: 3982, 1369: 4541, 1370: 3982, 1371: 4541, 1372: 2168, 1373: 4352, 1374: 4101, 1375: 3956, 1376: 2051, 1377: 903, 1378: 2051, 1379: 903, 1380: 3277, 1381: 4101, 1382: 3277, 1383: 3277, 1384: 67, 1385: 4625, 1386: 4625, 1387: 31, 1388: 1921, 1389: 264, 1390: 3202, 1391: 3643, 1392: 635, 1393: 3084, 1394: 3084, 1395: 4753, 1396: 48, 1397: 1921, 1398: 4753, 1399: 1164, 1400: 4753, 1401: 3420, 1402: 4753, 1403: 4753, 1404: 4387, 1405: 353, 1406: 353, 1407: 3449, 1408: 3409, 1409: 3409, 1410: 32, 1411: 860, 1412: 4593, 1413: 4593, 1414: 1551, 1415: 521, 1416: 4631, 1417: 521, 1418: 4920, 1419: 1981, 1420: 993, 1421: 65, 1422: 4548, 1423: 4171, 1424: 4171, 1425: 1686, 1426: 4171, 1427: 4753, 1428: 134, 1429: 4753, 1430: 4753, 1431: 3774, 1432: 1921, 1433: 1912, 1434: 2972, 1435: 1473, 1436: 4171, 1437: 4171, 1438: 4171, 1439: 2942, 1440: 2942, 1441: 2942, 1442: 2942, 1443: 3319, 1444: 3319, 1445: 3319, 1446: 4281, 1447: 1168, 1448: 4024, 1449: 3347, 1450: 3852, 1451: 4513, 1452: 1596, 1453: 4513, 1454: 3852, 1455: 2079, 1456: 3308, 1457: 4171, 1458: 2030, 1459: 2613, 1460: 2030, 1461: 4171, 1462: 1920, 1463: 246, 1464: 2935, 1465: 2390, 1466: 2390, 1467: 798, 1468: 1467, 1469: 1467, 1470: 803, 1471: 4548, 1472: 4548, 1473: 4631, 1474: 521, 1475: 510, 1476: 13, 1477: 510, 1478: 4427, 1479: 1473, 1480: 2008, 1481: 2357, 1482: 1195, 1483: 4549, 1484: 1390, 1485: 4092, 1486: 4426, 1487: 4426, 1488: 2613, 1489: 3464, 1490: 1239, 1491: 4682, 1492: 3084, 1493: 750, 1494: 3084, 1495: 4839, 1496: 4839, 1497: 1539, 1498: 4426, 1499: 3706, 1500: 1697, 1501: 3806, 1502: 1697, 1503: 1798, 1504: 1384, 1505: 2071, 1506: 1025, 1507: 4839, 1508: 4839, 1509: 4753, 1510: 4548, 1511: 2983, 1512: 480, 1513: 4548, 1514: 968, 1515: 2124, 1516: 1102, 1517: 238, 1518: 1772, 1519: 2124, 1520: 238, 1521: 1786, 1522: 2358, 1523: 1774, 1524: 2358, 1525: 1687, 1526: 3143, 1527: 131, 1528: 1772, 1529: 238, 1530: 3834, 1531: 521, 1532: 1467, 1533: 1467, 1534: 1467, 1535: 1467, 1536: 1467, 1537: 783, 1538: 783, 1539: 4384, 1540: 2972, 1541: 3307, 1542: 1957, 1543: 1957, 1544: 4513, 1545: 2181, 1546: 256, 1547: 1102, 1548: 214, 1549: 473, 1550: 969, 1551: 969, 1552: 4753, 1553: 969, 1554: 103, 1555: 3596, 1556: 3596, 1557: 3596, 1558: 103, 1559: 2295, 1560: 3982, 1561: 1697, 1562: 1697, 1563: 2048, 1564: 1264, 1565: 2048, 1566: 2048, 1567: 1264, 1568: 195, 1569: 1264, 1570: 2048, 1571: 1264, 1572: 390, 1573: 2581, 1574: 1697, 1575: 993, 1576: 4040, 1577: 837, 1578: 1168, 1579: 480, 1580: 1168, 1581: 480, 1582: 873, 1583: 4546, 1584: 4040, 1585: 1386, 1586: 4171, 1587: 2051, 1588: 2030, 1589: 361, 1590: 4625, 1591: 361, 1592: 1551, 1593: 4316, 1594: 2963, 1595: 1921, 1596: 2181, 1597: 48, 1598: 4171, 1599: 3507, 1600: 1636, 1601: 3319, 1602: 2126, 1603: 2212, 1604: 1412, 1605: 4154, 1606: 2667, 1607: 2599, 1608: 3347, 1609: 3507, 1610: 2271, 1611: 3982, 1612: 1467, 1613: 2048, 1614: 2048, 1615: 2048, 1616: 3087, 1617: 1547, 1618: 4563, 1619: 3374, 1620: 3550, 1621: 4342, 1622: 3487, 1623: 2537, 1624: 2379, 1625: 2379, 1626: 4753, 1627: 4753, 1628: 473, 1629: 855, 1630: 855, 1631: 855, 1632: 855, 1633: 4171, 1634: 3774, 1635: 3774, 1636: 2521, 1637: 4533, 1638: 3852, 1639: 4753, 1640: 2021, 1641: 4352, 1642: 2008, 1643: 1686, 1644: 1686, 1645: 4171, 1646: 353, 1647: 353, 1648: 353, 1649: 963, 1650: 3517, 1651: 4563, 1652: 48, 1653: 1467, 1654: 3982, 1655: 1636, 1656: 1467, 1657: 1772, 1658: 361, 1659: 1551, 1660: 1168, 1661: 2105, 1662: 631, 1663: 1275, 1664: 2686, 1665: 2686, 1666: 4171, 1667: 3386, 1668: 3386, 1669: 4171, 1670: 958, 1671: 48, 1672: 4154, 1673: 4352, 1674: 4352, 1675: 4623, 1676: 1168, 1677: 2531, 1678: 1921, 1679: 4384, 1680: 1921, 1681: 4384, 1682: 2187, 1683: 3112, 1684: 2254, 1685: 2057, 1686: 1995, 1687: 1995, 1688: 1055, 1689: 103, 1690: 103, 1691: 4384, 1692: 1102, 1693: 1496, 1694: 4753, 1695: 4753, 1696: 3240, 1697: 4225, 1698: 261, 1699: 4513, 1700: 2181, 1701: 1596, 1702: 4387, 1703: 1000, 1704: 543, 1705: 67, 1706: 67, 1707: 1168, 1708: 3347, 1709: 1168, 1710: 903, 1711: 3062, 1712: 2048, 1713: 4007, 1714: 521, 1715: 4040, 1716: 1249, 1717: 4548, 1718: 4548, 1719: 4548, 1720: 4548, 1721: 4548, 1722: 4425, 1723: 3667, 1724: 3667, 1725: 3667, 1726: 2956, 1727: 543, 1728: 1337, 1729: 353, 1730: 3614, 1731: 1739, 1732: 4218, 1733: 3774, 1734: 3032, 1735: 1905, 1736: 3464, 1737: 256, 1738: 1206, 1739: 4110, 1740: 3319, 1741: 3982, 1742: 4425, 1743: 4699, 1744: 353, 1745: 519, 1746: 4446, 1747: 4447, 1748: 4753, 1749: 2929, 1750: 188, 1751: 4443, 1752: 1532, 1753: 2145, 1754: 4753, 1755: 257, 1756: 1551, 1757: 1921, 1758: 3445, 1759: 3295, 1760: 392, 1761: 4548, 1762: 4548, 1763: 602, 1764: 2145, 1765: 1164, 1766: 2145, 1767: 2145, 1768: 3643, 1769: 2314, 1770: 2279, 1771: 4171, 1772: 3045, 1773: 1322, 1774: 317, 1775: 4040, 1776: 256, 1777: 4171, 1778: 4171, 1779: 3847, 1780: 3295, 1781: 1697, 1782: 1921, 1783: 3693, 1784: 1948, 1785: 4154, 1786: 4154, 1787: 4281, 1788: 3718, 1789: 1683, 1790: 1168, 1791: 4167, 1792: 2882, 1793: 4699, 1794: 4763, 1795: 2938, 1796: 4839, 1797: 2983, 1798: 2181, 1799: 1118, 1800: 4753, 1801: 3596, 1802: 4563, 1803: 4563, 1804: 4563, 1805: 4563, 1806: 1221, 1807: 2097, 1808: 3464, 1809: 2048, 1810: 1942, 1811: 722, 1812: 4706, 1813: 1467, 1814: 828, 1815: 1467, 1816: 993, 1817: 3445, 1818: 4271, 1819: 4271, 1820: 91, 1821: 3475, 1822: 521, 1823: 3643, 1824: 4563, 1825: 4563, 1826: 4305, 1827: 4753, 1828: 106, 1829: 2807, 1830: 106, 1831: 106, 1832: 106, 1833: 1327, 1834: 106, 1835: 106, 1836: 1739, 1837: 1834, 1838: 4766, 1839: 2790, 1840: 4304, 1841: 2521, 1842: 4549, 1843: 4092, 1844: 2929, 1845: 3084, 1846: 2929, 1847: 3374, 1848: 3374, 1849: 264, 1850: 353, 1851: 353, 1852: 1697, 1853: 4563, 1854: 4563, 1855: 264, 1856: 4593, 1857: 1051, 1858: 2094, 1859: 3303, 1860: 4432, 1861: 3051, 1862: 4432, 1863: 4311, 1864: 4311, 1865: 4086, 1866: 256, 1867: 3852, 1868: 4040, 1869: 1921, 1870: 1730, 1871: 4167, 1872: 4064, 1873: 3411, 1874: 2265, 1875: 968, 1876: 2265, 1877: 2123, 1878: 2123, 1879: 3550, 1880: 3550, 1881: 282, 1882: 464, 1883: 464, 1884: 1337, 1885: 388, 1886: 3774, 1887: 3774, 1888: 3081, 1889: 2521, 1890: 43, 1891: 4443, 1892: 2947, 1893: 4215, 1894: 3348, 1895: 1765, 1896: 6, 1897: 4635, 1898: 6, 1899: 2097, 1900: 2097, 1901: 86, 1902: 1765, 1903: 86, 1904: 4271, 1905: 3088, 1906: 4763, 1907: 1885, 1908: 4763, 1909: 680, 1910: 2826, 1911: 4275, 1912: 4275, 1913: 1551, 1914: 2808, 1915: 2808, 1916: 2808, 1917: 2808, 1918: 2808, 1919: 2808, 1920: 2808, 1921: 2808, 1922: 1693, 1923: 1496, 1924: 4013, 1925: 51, 1926: 51, 1927: 3255, 1928: 2774, 1929: 4013, 1930: 1988, 1931: 4013, 1932: 855, 1933: 3718, 1934: 1547, 1935: 1547, 1936: 1081, 1937: 1168, 1938: 3964, 1939: 2008, 1940: 4719, 1941: 794, 1942: 4412, 1943: 4478, 1944: 4872, 1945: 336, 1946: 336, 1947: 336, 1948: 4218, 1949: 1607, 1950: 4811, 1951: 1080, 1952: 4726, 1953: 1080, 1954: 1080, 1955: 696, 1956: 696, 1957: 1635, 1958: 1635, 1959: 3475, 1960: 3475, 1961: 3718, 1962: 2072, 1963: 1979, 1964: 3192, 1965: 631, 1966: 4336, 1967: 3596, 1968: 3596, 1969: 2097, 1970: 4706, 1971: 1686, 1972: 1686, 1973: 3482, 1974: 2654, 1975: 2808, 1976: 2404, 1977: 453, 1978: 4625, 1979: 3995, 1980: 409, 1981: 2047, 1982: 3995, 1983: 409, 1984: 1138, 1985: 1138, 1986: 409, 1987: 858, 1988: 2938, 1989: 225, 1990: 2370, 1991: 3277, 1992: 3279, 1993: 3279, 1994: 1083, 1995: 2938, 1996: 48, 1997: 2208, 1998: 3508, 1999: 2208, 2000: 4625, 2001: 4625, 2002: 1978, 2003: 1828, 2004: 1828, 2005: 2758, 2006: 51, 2007: 51, 2008: 50, 2009: 4863, 2010: 102, 2011: 1763, 2012: 1763, 2013: 4753, 2014: 4706, 2015: 2251, 2016: 3515, 2017: 453, 2018: 396, 2019: 855, 2020: 2508, 2021: 3982, 2022: 1476, 2023: 1003, 2024: 4623, 2025: 4603, 2026: 2370, 2027: 3503, 2028: 4593, 2029: 4541, 2030: 572, 2031: 572, 2032: 3493, 2033: 572, 2034: 2079, 2035: 2806, 2036: 3596, 2037: 3596, 2038: 4013, 2039: 4013, 2040: 4929, 2041: 1751, 2042: 4100, 2043: 1625, 2044: 1888, 2045: 51, 2046: 3255, 2047: 13, 2048: 13, 2049: 389, 2050: 3614, 2051: 390, 2052: 635, 2053: 1885, 2054: 4275, 2055: 2509, 2056: 2509, 2057: 3926, 2058: 3255, 2059: 1687, 2060: 1979, 2061: 1687, 2062: 3731, 2063: 4416, 2064: 1519, 2065: 4821, 2066: 4264, 2067: 3487, 2068: 3550, 2069: 2988, 2070: 2938, 2071: 4872, 2072: 3926, 2073: 3964, 2074: 3964, 2075: 2808, 2076: 336, 2077: 2509, 2078: 4839, 2079: 3172, 2080: 325, 2081: 3172, 2082: 1979, 2083: 3198, 2084: 3669, 2085: 15, 2086: 4637, 2087: 1551, 2088: 1885, 2089: 1467, 2090: 3374, 2091: 4010, 2092: 1888, 2093: 195, 2094: 3964, 2095: 1979, 2096: 1979, 2097: 4013, 2098: 4123, 2099: 4123, 2100: 4432, 2101: 646, 2102: 646, 2103: 50, 2104: 1832, 2105: 4195, 2106: 523, 2107: 523, 2108: 2064, 2109: 389, 2110: 389, 2111: 389, 2112: 4283, 2113: 4558, 2114: 1633, 2115: 2854, 2116: 3596, 2117: 3596, 2118: 51, 2119: 1888, 2120: 4218, 2121: 1666, 2122: 3747, 2123: 1666, 2124: 103, 2125: 4215, 2126: 4343, 2127: 4541, 2128: 4625, 2129: 4625, 2130: 361, 2131: 1934, 2132: 3471, 2133: 1551, 2134: 4432, 2135: 1885, 2136: 1138, 2137: 1934, 2138: 572, 2139: 4352, 2140: 4416, 2141: 4682, 2142: 2509, 2143: 3731, 2144: 1083, 2145: 3852, 2146: 3852, 2147: 3852, 2148: 3347, 2149: 2509, 2150: 1080, 2151: 3978, 2152: 2094, 2153: 2094, 2154: 4131, 2155: 1438, 2156: 2808, 2157: 3199, 2158: 3199, 2159: 2654, 2160: 4432, 2161: 523, 2162: 4342, 2163: 1133, 2164: 1885, 2165: 1829, 2166: 4352, 2167: 3731, 2168: 2008, 2169: 3612, 2170: 3614, 2171: 1636, 2172: 43, 2173: 3242, 2174: 4195, 2175: 646, 2176: 4336, 2177: 3683, 2178: 3225, 2179: 4558, 2180: 4557, 2181: 993, 2182: 1636, 2183: 2807, 2184: 2807, 2185: 2807, 2186: 1888, 2187: 282, 2188: 4905, 2189: 4191, 2190: 2536, 2191: 4660, 2192: 4570, 2193: 4570, 2194: 3347, 2195: 3895, 2196: 4226, 2197: 4191, 2198: 2506, 2199: 2506, 2200: 2654, 2201: 4081, 2202: 499, 2203: 659, 2204: 2123, 2205: 361, 2206: 855, 2207: 3104, 2208: 282, 2209: 282, 2210: 2506, 2211: 2123, 2212: 4905, 2213: 222, 2214: 1138, 2215: 4872, 2216: 4766, 2217: 1765, 2218: 4766, 2219: 4766, 2220: 4766, 2221: 4766, 2222: 4753, 2223: 3411, 2224: 4283, 2225: 2882, 2226: 4934, 2227: 3995, 2228: 4086, 2229: 4524, 2230: 760, 2231: 2950, 2232: 2950, 2233: 4905, 2234: 4086, 2235: 4807, 2236: 377, 2237: 2008, 2238: 4660, 2239: 3422, 2240: 106, 2241: 106, 2242: 3716, 2243: 446, 2244: 446, 2245: 4706, 2246: 1960, 2247: 2807, 2248: 1561, 2249: 181, 2250: 1327, 2251: 2369, 2252: 3716, 2253: 3716, 2254: 818, 2255: 4746, 2256: 106, 2257: 907, 2258: 2808, 2259: 684, 2260: 497, 2261: 3895, 2262: 294, 2263: 4570, 2264: 4226, 2265: 4600, 2266: 1083, 2267: 4771, 2268: 4771, 2269: 260, 2270: 3468, 2271: 425, 2272: 425, 2273: 1584, 2274: 4038, 2275: 2008, 2276: 4342, 2277: 2187, 2278: 4548, 2279: 1176, 2280: 4548, 2281: 856, 2282: 1437, 2283: 3342, 2284: 3342, 2285: 3774, 2286: 3774, 2287: 1477, 2288: 3774, 2289: 3774, 2290: 2489, 2291: 2646, 2292: 2489, 2293: 3444, 2294: 2587, 2295: 1929, 2296: 2587, 2297: 3452, 2298: 4841, 2299: 3452, 2300: 1014, 2301: 2075, 2302: 1014, 2303: 2933, 2304: 2189, 2305: 2933, 2306: 2189, 2307: 2933, 2308: 4841, 2309: 3774, 2310: 3774, 2311: 3774, 2312: 3774, 2313: 2808, 2314: 1234, 2315: 1234, 2316: 1234, 2317: 1234, 2318: 1234, 2319: 1234, 2320: 781, 2321: 1675, 2322: 781, 2323: 1675, 2324: 781, 2325: 781, 2326: 1675, 2327: 1234, 2328: 1675, 2329: 2074, 2330: 821, 2331: 821, 2332: 821, 2333: 570, 2334: 570, 2335: 2868, 2336: 1262, 2337: 821, 2338: 570, 2339: 3452, 2340: 4841, 2341: 2489, 2342: 2489, 2343: 3687, 2344: 2489, 2345: 570, 2346: 386, 2347: 3527, 2348: 1675, 2349: 1675, 2350: 1234, 2351: 2060, 2352: 158, 2353: 2060, 2354: 2060, 2355: 3537, 2356: 2709, 2357: 2709, 2358: 2709, 2359: 1671, 2360: 1671, 2361: 1671, 2362: 1575, 2363: 2489, 2364: 1575, 2365: 1575, 2366: 889, 2367: 2489, 2368: 1014, 2369: 1671, 2370: 2591, 2371: 4744, 2372: 78, 2373: 3718, 2374: 1532, 2375: 1532, 2376: 4533, 2377: 1532, 2378: 614, 2379: 614, 2380: 614, 2381: 4050, 2382: 3319, 2383: 2268, 2384: 1746, 2385: 4050, 2386: 4050, 2387: 615, 2388: 2374, 2389: 2374, 2390: 2933, 2391: 1933, 2392: 1933, 2393: 1792, 2394: 2929, 2395: 4533, 2396: 4533, 2397: 614, 2398: 784, 2399: 784, 2400: 386, 2401: 386, 2402: 386, 2403: 2587, 2404: 3254, 2405: 2643, 2406: 2359, 2407: 3254, 2408: 637, 2409: 3920, 2410: 147, 2411: 1137, 2412: 4533, 2413: 1137, 2414: 1137, 2415: 4533, 2416: 4533, 2417: 444, 2418: 858, 2419: 3774, 2420: 300, 2421: 2034, 2422: 1266, 2423: 784, 2424: 3774, 2425: 3774, 2426: 147, 2427: 3774, 2428: 2953, 2429: 821, 2430: 2591, 2431: 2117, 2432: 787, 2433: 2643, 2434: 603, 2435: 2643, 2436: 2643, 2437: 2933, 2438: 4862, 2439: 1014, 2440: 2189, 2441: 4533, 2442: 4533, 2443: 147, 2444: 3403, 2445: 425, 2446: 603, 2447: 3774, 2448: 3527, 2449: 4884, 2450: 3402, 2451: 1266, 2452: 1266, 2453: 2210, 2454: 784, 2455: 614, 2456: 2021, 2457: 1532, 2458: 313, 2459: 3774, 2460: 821, 2461: 821, 2462: 821, 2463: 821, 2464: 1671, 2465: 2591, 2466: 2521, 2467: 1957, 2468: 2929, 2469: 2929, 2470: 4481, 2471: 603, 2472: 787, 2473: 3452, 2474: 4533, 2475: 4533, 2476: 1158, 2477: 570, 2478: 386, 2479: 1158, 2480: 3283, 2481: 4533, 2482: 1014, 2483: 781, 2484: 570, 2485: 1158, 2486: 142, 2487: 614, 2488: 4533, 2489: 4533, 2490: 3774, 2491: 3774, 2492: 2622, 2493: 4862, 2494: 4862, 2495: 1929, 2496: 2652, 2497: 2652, 2498: 2374, 2499: 2374, 2500: 2489, 2501: 2374, 2502: 2374, 2503: 957, 2504: 3219, 2505: 3718, 2506: 1636, 2507: 1636, 2508: 1636, 2509: 3902, 2510: 3902, 2511: 903, 2512: 903, 2513: 1073, 2514: 4471, 2515: 1313, 2516: 1313, 2517: 1313, 2518: 4660, 2519: 2531, 2520: 2531, 2521: 4660, 2522: 853, 2523: 853, 2524: 853, 2525: 4155, 2526: 4155, 2527: 3491, 2528: 3491, 2529: 3491, 2530: 3491, 2531: 4353, 2532: 4401, 2533: 133, 2534: 233, 2535: 4401, 2536: 444, 2537: 4401, 2538: 1252, 2539: 444, 2540: 4013, 2541: 444, 2542: 233, 2543: 801, 2544: 444, 2545: 801, 2546: 4040, 2547: 1551, 2548: 1313, 2549: 1160, 2550: 4189, 2551: 801, 2552: 1372, 2553: 695, 2554: 695, 2555: 695, 2556: 695, 2557: 695, 2558: 695, 2559: 4688, 2560: 1372, 2561: 695, 2562: 1372, 2563: 3811, 2564: 1372, 2565: 4587, 2566: 2255, 2567: 4679, 2568: 3172, 2569: 3172, 2570: 3172, 2571: 4401, 2572: 3172, 2573: 4638, 2574: 2341, 2575: 2341, 2576: 444, 2577: 444, 2578: 444, 2579: 444, 2580: 444, 2581: 4401, 2582: 444, 2583: 4638, 2584: 4638, 2585: 4638, 2586: 4638, 2587: 2465, 2588: 2465, 2589: 853, 2590: 853, 2591: 2941, 2592: 4395, 2593: 2941, 2594: 2941, 2595: 1139, 2596: 1139, 2597: 2650, 2598: 323, 2599: 2650, 2600: 1139, 2601: 1228, 2602: 1228, 2603: 1073, 2604: 1228, 2605: 4401, 2606: 4401, 2607: 4401, 2608: 2531, 2609: 1118, 2610: 2181, 2611: 1118, 2612: 1118, 2613: 1118, 2614: 426, 2615: 4109, 2616: 853, 2617: 3491, 2618: 3491, 2619: 1672, 2620: 1672, 2621: 4109, 2622: 1672, 2623: 226, 2624: 903, 2625: 1165, 2626: 2859, 2627: 133, 2628: 4401, 2629: 444, 2630: 462, 2631: 444, 2632: 4274, 2633: 4274, 2634: 2208, 2635: 2208, 2636: 323, 2637: 1981, 2638: 3906, 2639: 1701, 2640: 1701, 2641: 323, 2642: 323, 2643: 3261, 2644: 3261, 2645: 54, 2646: 1372, 2647: 3943, 2648: 444, 2649: 444, 2650: 444, 2651: 4754, 2652: 3051, 2653: 435, 2654: 435, 2655: 903, 2656: 903, 2657: 903, 2658: 903, 2659: 4638, 2660: 3613, 2661: 903, 2662: 903, 2663: 435, 2664: 435, 2665: 1081, 2666: 1081, 2667: 1081, 2668: 1988, 2669: 1988, 2670: 225, 2671: 225, 2672: 1988, 2673: 1286, 2674: 4938, 2675: 3425, 2676: 4938, 2677: 4938, 2678: 4938, 2679: 2434, 2680: 2457, 2681: 4243, 2682: 3595, 2683: 1073, 2684: 4274, 2685: 2214, 2686: 4660, 2687: 4884, 2688: 3767, 2689: 3980, 2690: 4660, 2691: 2531, 2692: 2531, 2693: 1551, 2694: 1313, 2695: 3374, 2696: 1313, 2697: 3039, 2698: 3039, 2699: 4754, 2700: 4436, 2701: 3536, 2702: 4754, 2703: 4638, 2704: 4754, 2705: 4754, 2706: 2434, 2707: 2114, 2708: 1608, 2709: 1608, 2710: 1608, 2711: 3170, 2712: 4155, 2713: 1118, 2714: 4155, 2715: 4155, 2716: 4155, 2717: 4177, 2718: 3597, 2719: 4177, 2720: 4177, 2721: 55, 2722: 1672, 2723: 55, 2724: 55, 2725: 55, 2726: 55, 2727: 55, 2728: 2475, 2729: 2202, 2730: 963, 2731: 963, 2732: 233, 2733: 233, 2734: 3715, 2735: 614, 2736: 2941, 2737: 2941, 2738: 4421, 2739: 4913, 2740: 3374, 2741: 2358, 2742: 2519, 2743: 2985, 2744: 4352, 2745: 2985, 2746: 3172, 2747: 743, 2748: 743, 2749: 1209, 2750: 3342, 2751: 4189, 2752: 4155, 2753: 4155, 2754: 4189, 2755: 4155, 2756: 924, 2757: 924, 2758: 924, 2759: 4352, 2760: 4155, 2761: 3595, 2762: 4155, 2763: 394, 2764: 4638, 2765: 2941, 2766: 614, 2767: 2941, 2768: 2941, 2769: 2926, 2770: 7, 2771: 4203, 2772: 233, 2773: 1209, 2774: 3342, 2775: 3261, 2776: 1228, 2777: 2457, 2778: 3261, 2779: 3314, 2780: 4171, 2781: 903, 2782: 4688, 2783: 2830, 2784: 2830, 2785: 595, 2786: 1672, 2787: 4203, 2788: 1672, 2789: 2868, 2790: 1672, 2791: 1672, 2792: 1672, 2793: 1672, 2794: 903, 2795: 4155, 2796: 3595, 2797: 4155, 2798: 4155, 2799: 279, 2800: 4155, 2801: 4155, 2802: 4155, 2803: 1751, 2804: 480, 2805: 1751, 2806: 1073, 2807: 638, 2808: 1073, 2809: 3359, 2810: 1228, 2811: 4177, 2812: 595, 2813: 3359, 2814: 3319, 2815: 3319, 2816: 4265, 2817: 2862, 2818: 2862, 2819: 2862, 2820: 3595, 2821: 3595, 2822: 3595, 2823: 783, 2824: 4177, 2825: 2785, 2826: 2785, 2827: 4177, 2828: 614, 2829: 853, 2830: 4688, 2831: 4688, 2832: 4688, 2833: 614, 2834: 1073, 2835: 1073, 2836: 3595, 2837: 3595, 2838: 3314, 2839: 3314, 2840: 1228, 2841: 4177, 2842: 1228, 2843: 3359, 2844: 3359, 2845: 2202, 2846: 2797, 2847: 1911, 2848: 3103, 2849: 4607, 2850: 3103, 2851: 1304, 2852: 695, 2853: 4688, 2854: 3979, 2855: 3103, 2856: 3103, 2857: 3103, 2858: 3103, 2859: 4607, 2860: 2971, 2861: 3103, 2862: 4607, 2863: 4607, 2864: 2941, 2865: 4688, 2866: 4688, 2867: 2958, 2868: 2958, 2869: 2958, 2870: 2874, 2871: 4638, 2872: 4638, 2873: 226, 2874: 2434, 2875: 1106, 2876: 2434, 2877: 396, 2878: 1228, 2879: 4541, 2880: 396, 2881: 396, 2882: 4155, 2883: 4155, 2884: 226, 2885: 226, 2886: 226, 2887: 1988, 2888: 1165, 2889: 1165, 2890: 1165, 2891: 1165, 2892: 1165, 2893: 1165, 2894: 3319, 2895: 225, 2896: 3295, 2897: 4218, 2898: 1165, 2899: 731, 2900: 1079, 2901: 2112, 2902: 2374, 2903: 2112, 2904: 2112, 2905: 2374, 2906: 2374, 2907: 595, 2908: 2112, 2909: 3680, 2910: 444, 2911: 444, 2912: 3680, 2913: 3680, 2914: 3680, 2915: 3680, 2916: 1139, 2917: 1139, 2918: 4754, 2919: 1905, 2920: 1905, 2921: 4353, 2922: 924, 2923: 1506, 2924: 695, 2925: 4353, 2926: 4354, 2927: 4354, 2928: 1327, 2929: 1183, 2930: 1859, 2931: 1183, 2932: 801, 2933: 1183, 2934: 1327, 2935: 4354, 2936: 4354, 2937: 1252, 2938: 3443, 2939: 3342, 2940: 1496, 2941: 1165, 2942: 1607, 2943: 2531, 2944: 4189, 2945: 695, 2946: 695, 2947: 1372, 2948: 1165, 2949: 1608, 2950: 4541, 2951: 4688, 2952: 2531, 2953: 444, 2954: 7, 2955: 444, 2956: 4541, 2957: 4638, 2958: 444, 2959: 3811, 2960: 3715, 2961: 444, 2962: 444, 2963: 4203, 2964: 4203, 2965: 614, 2966: 3926, 2967: 3926, 2968: 853, 2969: 853, 2970: 614, 2971: 444, 2972: 435, 2973: 253, 2974: 2874, 2975: 1160, 2976: 4013, 2977: 444, 2978: 4638, 2979: 4638, 2980: 619, 2981: 1426, 2982: 2650, 2983: 1751, 2984: 1751, 2985: 4431, 2986: 1286, 2987: 3943, 2988: 1506, 2989: 3820, 2990: 1160, 2991: 444, 2992: 394, 2993: 3536, 2994: 3536, 2995: 3465, 2996: 3536, 2997: 3465, 2998: 4416, 2999: 4416, 3000: 4436, 3001: 78, 3002: 4416, 3003: 4093, 3004: 903, 3005: 903, 3006: 3359, 3007: 903, 3008: 903, 3009: 3536, 3010: 4093, 3011: 4093, 3012: 4909, 3013: 4688, 3014: 4155, 3015: 1751, 3016: 519, 3017: 444, 3018: 357, 3019: 659, 3020: 2598, 3021: 2598, 3022: 2467, 3023: 2467, 3024: 1672, 3025: 1672, 3026: 1672, 3027: 4155, 3028: 2724, 3029: 2724, 3030: 2724, 3031: 233, 3032: 801, 3033: 3817, 3034: 958, 3035: 4638, 3036: 4638, 3037: 4638, 3038: 4638, 3039: 801, 3040: 3595, 3041: 3595, 3042: 1165, 3043: 4189, 3044: 4189, 3045: 3491, 3046: 3491, 3047: 1183, 3048: 2990, 3049: 1934, 3050: 2990, 3051: 4354, 3052: 4354, 3053: 2287, 3054: 2287, 3055: 226, 3056: 2097, 3057: 2097, 3058: 2097, 3059: 783, 3060: 783, 3061: 444, 3062: 444, 3063: 462, 3064: 3252, 3065: 2941, 3066: 2374, 3067: 2374, 3068: 3252, 3069: 4799, 3070: 3425, 3071: 2097, 3072: 958, 3073: 2097, 3074: 2374, 3075: 2374, 3076: 2374, 3077: 1165, 3078: 1165, 3079: 54, 3080: 2051, 3081: 54, 3082: 2051, 3083: 4426, 3084: 4265, 3085: 4265, 3086: 3954, 3087: 3954, 3088: 3954, 3089: 3954, 3090: 3954, 3091: 3954, 3092: 444, 3093: 1118, 3094: 1118, 3095: 3374, 3096: 4265, 3097: 4265, 3098: 225, 3099: 1081, 3100: 1751, 3101: 3977, 3102: 2843, 3103: 3977, 3104: 3977, 3105: 3977, 3106: 1290, 3107: 1290, 3108: 1043, 3109: 323, 3110: 323, 3111: 52, 3112: 4527, 3113: 4527, 3114: 1118, 3115: 4527, 3116: 4527, 3117: 1118, 3118: 1672, 3119: 3645, 3120: 4265, 3121: 3645, 3122: 3789, 3123: 864, 3124: 2862, 3125: 1313, 3126: 1313, 3127: 2880, 3128: 3435, 3129: 3435, 3130: 3319, 3131: 3319, 3132: 3435, 3133: 4421, 3134: 3435, 3135: 3513, 3136: 3824, 3137: 2114, 3138: 2114, 3139: 2457, 3140: 3170, 3141: 2809, 3142: 2809, 3143: 1500, 3144: 1500, 3145: 4421, 3146: 4421, 3147: 1205, 3148: 1205, 3149: 4421, 3150: 3051, 3151: 77, 3152: 77, 3153: 2355, 3154: 2355, 3155: 3303, 3156: 3303, 3157: 1386, 3158: 1386, 3159: 3977, 3160: 1106, 3161: 4310, 3162: 4155, 3163: 2990, 3164: 3742, 3165: 532, 3166: 1666, 3167: 2855, 3168: 2855, 3169: 2869, 3170: 3645, 3171: 2941, 3172: 2941, 3173: 4265, 3174: 4265, 3175: 4265, 3176: 2880, 3177: 1285, 3178: 4527, 3179: 4369, 3180: 2862, 3181: 2862, 3182: 4369, 3183: 2862, 3184: 4369, 3185: 2862, 3186: 4369, 3187: 4369, 3188: 3595, 3189: 3595, 3190: 4369, 3191: 1426, 3192: 4623, 3193: 3051, 3194: 578, 3195: 2869, 3196: 444, 3197: 4191, 3198: 4191, 3199: 4265, 3200: 1608, 3201: 1608, 3202: 1608, 3203: 4541, 3204: 3817, 3205: 958, 3206: 2862, 3207: 4155, 3208: 4155, 3209: 2862, 3210: 3595, 3211: 3595, 3212: 864, 3213: 2404, 3214: 4527, 3215: 1118, 3216: 3824, 3217: 2869, 3218: 2869, 3219: 3854, 3220: 2374, 3221: 3854, 3222: 2859, 3223: 2287, 3224: 2287, 3225: 2859, 3226: 2287, 3227: 2859, 3228: 2287, 3229: 2859, 3230: 2859, 3231: 1118, 3232: 2941, 3233: 2116, 3234: 1275, 3235: 1751, 3236: 1751, 3237: 1751, 3238: 1751, 3239: 2043, 3240: 2043, 3241: 342, 3242: 342, 3243: 17, 3244: 2933, 3245: 3943, 3246: 4012, 3247: 2114, 3248: 498, 3249: 498, 3250: 498, 3251: 52, 3252: 52, 3253: 52, 3254: 396, 3255: 3172, 3256: 4688, 3257: 2941, 3258: 4541, 3259: 4541, 3260: 4541, 3261: 4541, 3262: 3319, 3263: 3319, 3264: 4839, 3265: 3242, 3266: 3720, 3267: 2287, 3268: 1676, 3269: 3054, 3270: 1672, 3271: 798, 3272: 1205, 3273: 3103, 3274: 2859, 3275: 2859, 3276: 2859, 3277: 3622, 3278: 2148, 3279: 2868, 3280: 3037, 3281: 3824, 3282: 2374, 3283: 2374, 3284: 2374, 3285: 2859, 3286: 2859, 3287: 972, 3288: 972, 3289: 4485, 3290: 2274, 3291: 958, 3292: 783, 3293: 2114, 3294: 2862, 3295: 4541, 3296: 3817, 3297: 3817, 3298: 3817, 3299: 3817, 3300: 3817, 3301: 4607, 3302: 3715, 3303: 84, 3304: 614, 3305: 853, 3306: 7, 3307: 4265, 3308: 366, 3309: 1073, 3310: 4426, 3311: 3491, 3312: 3491, 3313: 783, 3314: 1751, 3315: 2650, 3316: 2137, 3317: 2865, 3318: 1685, 3319: 1685, 3320: 3189, 3321: 4189, 3322: 2466, 3323: 1905, 3324: 4189, 3325: 4189, 3326: 1606, 3327: 3995, 3328: 3051, 3329: 1608, 3330: 4477, 3331: 4421, 3332: 4421, 3333: 130, 3334: 98, 3335: 1500, 3336: 4799, 3337: 3425, 3338: 3425, 3339: 3547, 3340: 4527, 3341: 4561, 3342: 4060, 3343: 342, 3344: 3037, 3345: 2548, 3346: 2865, 3347: 4510, 3348: 4180, 3349: 4180, 3350: 4180, 3351: 1205, 3352: 4881, 3353: 1686, 3354: 1686, 3355: 3051, 3356: 98, 3357: 98, 3358: 1185, 3359: 1185, 3360: 1751, 3361: 2287, 3362: 1106, 3363: 2865, 3364: 1106, 3365: 2941, 3366: 1751, 3367: 3979, 3368: 2307, 3369: 595, 3370: 1165, 3371: 4909, 3372: 4909, 3373: 1296, 3374: 285, 3375: 1296, 3376: 1296, 3377: 3908, 3378: 3451, 3379: 3908, 3380: 3908, 3381: 3908, 3382: 3451, 3383: 3451, 3384: 4049, 3385: 4049, 3386: 4049, 3387: 2508, 3388: 4049, 3389: 4049, 3390: 789, 3391: 789, 3392: 4427, 3393: 3979, 3394: 600, 3395: 48, 3396: 364, 3397: 3979, 3398: 3979, 3399: 2137, 3400: 4345, 3401: 4345, 3402: 3525, 3403: 3525, 3404: 3525, 3405: 4797, 3406: 1912, 3407: 1912, 3408: 4797, 3409: 1722, 3410: 1722, 3411: 1722, 3412: 1722, 3413: 2824, 3414: 1722, 3415: 1631, 3416: 3968, 3417: 2548, 3418: 1722, 3419: 1722, 3420: 4603, 3421: 3968, 3422: 4603, 3423: 1247, 3424: 1247, 3425: 1247, 3426: 1247, 3427: 1390, 3428: 3908, 3429: 4430, 3430: 504, 3431: 504, 3432: 4430, 3433: 66, 3434: 2078, 3435: 2078, 3436: 2078, 3437: 4430, 3438: 4643, 3439: 1296, 3440: 4430, 3441: 4430, 3442: 4643, 3443: 4643, 3444: 473, 3445: 4430, 3446: 4430, 3447: 2170, 3448: 3979, 3449: 1730, 3450: 4313, 3451: 4313, 3452: 4313, 3453: 4313, 3454: 4313, 3455: 4447, 3456: 2824, 3457: 377, 3458: 377, 3459: 377, 3460: 377, 3461: 2824, 3462: 2824, 3463: 2824, 3464: 2824, 3465: 3319, 3466: 4603, 3467: 4425, 3468: 4425, 3469: 2914, 3470: 164, 3471: 1628, 3472: 1014, 3473: 2374, 3474: 2374, 3475: 2329, 3476: 3966, 3477: 2450, 3478: 3966, 3479: 3966, 3480: 2824, 3481: 3966, 3482: 4430, 3483: 4430, 3484: 4430, 3485: 4734, 3486: 1912, 3487: 4734, 3488: 4734, 3489: 4734, 3490: 4430, 3491: 3525, 3492: 1733, 3493: 1733, 3494: 1733, 3495: 2508, 3496: 789, 3497: 4430, 3498: 4430, 3499: 4430, 3500: 4430, 3501: 4430, 3502: 364, 3503: 364, 3504: 1671, 3505: 3517, 3506: 364, 3507: 1390, 3508: 1390, 3509: 3464, 3510: 4430, 3511: 4734, 3512: 4427, 3513: 3231, 3514: 4430, 3515: 4427, 3516: 4823, 3517: 4823, 3518: 2492, 3519: 4430, 3520: 4797, 3521: 1060, 3522: 1556, 3523: 1060, 3524: 1060, 3525: 1791, 3526: 1791, 3527: 3, 3528: 3, 3529: 1733, 3530: 1733, 3531: 1209, 3532: 1733, 3533: 1733, 3534: 4313, 3535: 3389, 3536: 3389, 3537: 3452, 3538: 3452, 3539: 4560, 3540: 2248, 3541: 2248, 3542: 2824, 3543: 3966, 3544: 1060, 3545: 2803, 3546: 2803, 3547: 2803, 3548: 2803, 3549: 2803, 3550: 1733, 3551: 1060, 3552: 726, 3553: 504, 3554: 504, 3555: 3308, 3556: 3308, 3557: 3047, 3558: 4430, 3559: 4430, 3560: 4430, 3561: 2155, 3562: 1467, 3563: 1467, 3564: 2824, 3565: 1636, 3566: 1733, 3567: 4075, 3568: 1473, 3569: 1733, 3570: 4229, 3571: 489, 3572: 3540, 3573: 2227, 3574: 2342, 3575: 2581, 3576: 3540, 3577: 3540, 3578: 462, 3579: 1473, 3580: 1670, 3581: 1473, 3582: 1670, 3583: 1058, 3584: 1983, 3585: 3894, 3586: 1983, 3587: 1983, 3588: 2824, 3589: 1636, 3590: 1636, 3591: 2450, 3592: 1477, 3593: 1477, 3594: 1477, 3595: 2290, 3596: 2290, 3597: 2290, 3598: 4304, 3599: 4304, 3600: 4304, 3601: 4304, 3602: 2202, 3603: 1912, 3604: 1912, 3605: 4430, 3606: 1912, 3607: 1086, 3608: 1206, 3609: 1206, 3610: 2926, 3611: 2926, 3612: 2926, 3613: 2926, 3614: 1017, 3615: 1962, 3616: 1962, 3617: 1003, 3618: 1003, 3619: 1003, 3620: 1003, 3621: 1138, 3622: 1138, 3623: 1599, 3624: 1343, 3625: 2450, 3626: 3568, 3627: 3968, 3628: 1138, 3629: 1666, 3630: 1666, 3631: 1206, 3632: 1390, 3633: 4447, 3634: 1390, 3635: 3166, 3636: 531, 3637: 1880, 3638: 908, 3639: 908, 3640: 4313, 3641: 3919, 3642: 1575, 3643: 1746, 3644: 3268, 3645: 1087, 3646: 3268, 3647: 906, 3648: 4178, 3649: 105, 3650: 2248, 3651: 2248, 3652: 1980, 3653: 1060, 3654: 3096, 3655: 171, 3656: 171, 3657: 285, 3658: 285, 3659: 1296, 3660: 285, 3661: 285, 3662: 1296, 3663: 4427, 3664: 285, 3665: 285, 3666: 285, 3667: 1722, 3668: 1014, 3669: 4430, 3670: 4447, 3671: 2824, 3672: 2942, 3673: 3968, 3674: 2926, 3675: 2926, 3676: 2926, 3677: 1263, 3678: 3353, 3679: 600, 3680: 600, 3681: 3774, 3682: 3774, 3683: 2271, 3684: 2271, 3685: 726, 3686: 3464, 3687: 2757, 3688: 1556, 3689: 1829, 3690: 2926, 3691: 2508, 3692: 4229, 3693: 1473, 3694: 4430, 3695: 2868, 3696: 80, 3697: 3194, 3698: 4731, 3699: 1670, 3700: 524, 3701: 1432, 3702: 1631, 3703: 1599, 3704: 1666, 3705: 1666, 3706: 4345, 3707: 4550, 3708: 1666, 3709: 4550, 3710: 3568, 3711: 3568, 3712: 1014, 3713: 4734, 3714: 48, 3715: 4734, 3716: 1060, 3717: 1060, 3718: 1151, 3719: 1151, 3720: 1151, 3721: 1151, 3722: 1343, 3723: 1722, 3724: 1722, 3725: 1722, 3726: 1722, 3727: 3525, 3728: 1211, 3729: 1962, 3730: 4770, 3731: 4447, 3732: 377, 3733: 1473, 3734: 166, 3735: 166, 3736: 2697, 3737: 855, 3738: 855, 3739: 4888, 3740: 1556, 3741: 559, 3742: 4798, 3743: 1014, 3744: 559, 3745: 1014, 3746: 1014, 3747: 21, 3748: 1954, 3749: 264, 3750: 462, 3751: 1623, 3752: 2942, 3753: 1912, 3754: 4430, 3755: 1912, 3756: 3231, 3757: 3047, 3758: 3047, 3759: 3894, 3760: 3894, 3761: 1733, 3762: 1733, 3763: 1733, 3764: 2721, 3765: 3308, 3766: 1058, 3767: 1860, 3768: 3169, 3769: 377, 3770: 235, 3771: 4767, 3772: 1014, 3773: 4447, 3774: 4447, 3775: 4447, 3776: 1722, 3777: 3322, 3778: 3322, 3779: 2824, 3780: 2450, 3781: 2730, 3782: 2630, 3783: 4823, 3784: 1390, 3785: 1988, 3786: 1988, 3787: 1988, 3788: 1988, 3789: 829, 3790: 1206, 3791: 3525, 3792: 1666, 3793: 1666, 3794: 1467, 3795: 3322, 3796: 1060, 3797: 1417, 3798: 1417, 3799: 2290, 3800: 1343, 3801: 3683, 3802: 4294, 3803: 1403, 3804: 4439, 3805: 3319, 3806: 2508, 3807: 2508, 3808: 2490, 3809: 2490, 3810: 2236, 3811: 1670, 3812: 1722, 3813: 2236, 3814: 855, 3815: 4823, 3816: 3670, 3817: 4294, 3818: 4898, 3819: 2992, 3820: 1988, 3821: 1417, 3822: 3966, 3823: 521, 3824: 2145, 3825: 4430, 3826: 1473, 3827: 4430, 3828: 4427, 3829: 2137, 3830: 4353, 3831: 2547, 3832: 32, 3833: 1697, 3834: 3, 3835: 4430, 3836: 3096, 3837: 2236, 3838: 54, 3839: 1670, 3840: 1670, 3841: 1473, 3842: 1817, 3843: 906, 3844: 1247, 3845: 1829, 3846: 3525, 3847: 4664, 3848: 2697, 3849: 375, 3850: 375, 3851: 375, 3852: 342, 3853: 1774, 3854: 3657, 3855: 342, 3856: 342, 3857: 3517, 3858: 3517, 3859: 3471, 3860: 3790, 3861: 3657, 3862: 1657, 3863: 375, 3864: 1763, 3865: 2268, 3866: 4347, 3867: 4347, 3868: 54, 3869: 4347, 3870: 4347, 3871: 4226, 3872: 1383, 3873: 1383, 3874: 1223, 3875: 342, 3876: 342, 3877: 342, 3878: 342, 3879: 342, 3880: 2112, 3881: 2112, 3882: 342, 3883: 3517, 3884: 2112, 3885: 2112, 3886: 2268, 3887: 750, 3888: 342, 3889: 750, 3890: 576, 3891: 2803, 3892: 1017, 3893: 1017, 3894: 2268, 3895: 1017, 3896: 1017, 3897: 417, 3898: 1657, 3899: 1763, 3900: 4731, 3901: 1657, 3902: 1017, 3903: 2859, 3904: 4731, 3905: 4731, 3906: 2268, 3907: 3165, 3908: 3165, 3909: 3165, 3910: 3165, 3911: 3165, 3912: 2268, 3913: 2268, 3914: 2268, 3915: 2902, 3916: 2223, 3917: 370, 3918: 370, 3919: 2268, 3920: 2268, 3921: 2268, 3922: 1017, 3923: 2823, 3924: 80, 3925: 1035, 3926: 80, 3927: 80, 3928: 80, 3929: 342, 3930: 1657, 3931: 2859, 3932: 80, 3933: 342, 3934: 342, 3935: 3790, 3936: 1657, 3937: 462, 3938: 462, 3939: 462, 3940: 462, 3941: 462, 3942: 2341, 3943: 462, 3944: 1657, 3945: 2902, 3946: 2902, 3947: 2902, 3948: 2268, 3949: 342, 3950: 1017, 3951: 1017, 3952: 724, 3953: 724, 3954: 750, 3955: 750, 3956: 750, 3957: 1118, 3958: 2823, 3959: 2823, 3960: 342, 3961: 4731, 3962: 1709, 3963: 1709, 3964: 1709, 3965: 1709, 3966: 3747, 3967: 750, 3968: 750, 3969: 2117, 3970: 3084, 3971: 3747, 3972: 1693, 3973: 1693, 3974: 1693, 3975: 600, 3976: 600, 3977: 600, 3978: 3747, 3979: 3747, 3980: 80, 3981: 3319, 3982: 1625, 3983: 3899, 3984: 4731, 3985: 1017, 3986: 1017, 3987: 724, 3988: 3319, 3989: 2361, 3990: 2361, 3991: 417, 3992: 1956, 3993: 1956, 3994: 417, 3995: 1160, 3996: 1160, 3997: 3192, 3998: 724, 3999: 724, 4000: 724, 4001: 724, 4002: 750, 4003: 750, 4004: 750, 4005: 750, 4006: 3747, 4007: 3192, 4008: 3192, 4009: 827, 4010: 80, 4011: 1017, 4012: 3192, 4013: 3790, 4014: 3790, 4015: 3321, 4016: 2517, 4017: 4753, 4018: 462, 4019: 248, 4020: 2200, 4021: 2200, 4022: 342, 4023: 342, 4024: 342, 4025: 3192, 4026: 187, 4027: 2341, 4028: 3747, 4029: 4531, 4030: 827, 4031: 342, 4032: 1118, 4033: 3084, 4034: 1625, 4035: 1017, 4036: 3899, 4037: 342, 4038: 342, 4039: 600, 4040: 1498, 4041: 2117, 4042: 1956, 4043: 2686, 4044: 576, 4045: 3049, 4046: 3049, 4047: 4896, 4048: 4896, 4049: 4896, 4050: 4896, 4051: 2111, 4052: 1996, 4053: 2111, 4054: 79, 4055: 2284, 4056: 4896, 4057: 3234, 4058: 3234, 4059: 317, 4060: 3774, 4061: 3774, 4062: 3224, 4063: 4716, 4064: 1965, 4065: 2356, 4066: 4716, 4067: 4773, 4068: 4773, 4069: 4773, 4070: 4773, 4071: 4896, 4072: 4896, 4073: 4444, 4074: 4444, 4075: 4444, 4076: 4444, 4077: 4444, 4078: 1742, 4079: 4606, 4080: 1966, 4081: 1742, 4082: 4312, 4083: 1232, 4084: 1472, 4085: 1472, 4086: 1472, 4087: 4220, 4088: 3906, 4089: 4220, 4090: 619, 4091: 1659, 4092: 4444, 4093: 1705, 4094: 1040, 4095: 4716, 4096: 4773, 4097: 4773, 4098: 619, 4099: 619, 4100: 619, 4101: 619, 4102: 619, 4103: 1309, 4104: 2054, 4105: 3049, 4106: 395, 4107: 1275, 4108: 2284, 4109: 1232, 4110: 1232, 4111: 4444, 4112: 1232, 4113: 3774, 4114: 2008, 4115: 3283, 4116: 614, 4117: 1336, 4118: 1336, 4119: 1336, 4120: 4365, 4121: 4886, 4122: 4365, 4123: 1472, 4124: 1309, 4125: 1309, 4126: 2567, 4127: 705, 4128: 1232, 4129: 3224, 4130: 4312, 4131: 292, 4132: 3774, 4133: 2855, 4134: 2008, 4135: 4896, 4136: 4773, 4137: 154, 4138: 4651, 4139: 4651, 4140: 1477, 4141: 1248, 4142: 2008, 4143: 2008, 4144: 1232, 4145: 2008, 4146: 16, 4147: 16, 4148: 3759, 4149: 4485, 4150: 619, 4151: 2008, 4152: 619, 4153: 681, 4154: 1040, 4155: 1040, 4156: 602, 4157: 3906, 4158: 292, 4159: 4047, 4160: 4047, 4161: 4047, 4162: 4047, 4163: 4773, 4164: 2356, 4165: 1183, 4166: 2356, 4167: 353, 4168: 3821, 4169: 2054, 4170: 2054, 4171: 2054, 4172: 2054, 4173: 395, 4174: 75, 4175: 75, 4176: 2958, 4177: 2958, 4178: 2958, 4179: 75, 4180: 75, 4181: 4709, 4182: 2208, 4183: 2208, 4184: 1643, 4185: 2208, 4186: 3053, 4187: 3053, 4188: 3053, 4189: 1706, 4190: 3382, 4191: 3275, 4192: 75, 4193: 3809, 4194: 1863, 4195: 2208, 4196: 1863, 4197: 2208, 4198: 2208, 4199: 3032, 4200: 3032, 4201: 3032, 4202: 855, 4203: 3515, 4204: 425, 4205: 2035, 4206: 3084, 4207: 3084, 4208: 3904, 4209: 3904, 4210: 3904, 4211: 150, 4212: 3904, 4213: 3904, 4214: 3515, 4215: 2466, 4216: 2385, 4217: 2385, 4218: 2385, 4219: 2958, 4220: 3549, 4221: 2874, 4222: 2912, 4223: 2912, 4224: 2912, 4225: 4395, 4226: 4395, 4227: 3374, 4228: 3319, 4229: 3374, 4230: 3869, 4231: 389, 4232: 389, 4233: 4387, 4234: 3084, 4235: 4387, 4236: 1495, 4237: 4387, 4238: 4709, 4239: 1173, 4240: 1173, 4241: 3410, 4242: 3410, 4243: 3410, 4244: 3410, 4245: 1391, 4246: 4311, 4247: 4660, 4248: 1706, 4249: 2000, 4250: 968, 4251: 2000, 4252: 1114, 4253: 3347, 4254: 3275, 4255: 968, 4256: 1736, 4257: 738, 4258: 4465, 4259: 1896, 4260: 1896, 4261: 3849, 4262: 3849, 4263: 3410, 4264: 3410, 4265: 3410, 4266: 3410, 4267: 3410, 4268: 3410, 4269: 4233, 4270: 4233, 4271: 55, 4272: 55, 4273: 4035, 4274: 4154, 4275: 1706, 4276: 2862, 4277: 4465, 4278: 3507, 4279: 2862, 4280: 1230, 4281: 1230, 4282: 1230, 4283: 2862, 4284: 3515, 4285: 3589, 4286: 2268, 4287: 2268, 4288: 2268, 4289: 3956, 4290: 1495, 4291: 1495, 4292: 4679, 4293: 1856, 4294: 3515, 4295: 3374, 4296: 2075, 4297: 4753, 4298: 1168, 4299: 1168, 4300: 2958, 4301: 256, 4302: 2356, 4303: 2356, 4304: 2356, 4305: 2208, 4306: 1230, 4307: 1230, 4308: 1230, 4309: 1230, 4310: 4869, 4311: 3507, 4312: 4869, 4313: 4649, 4314: 3507, 4315: 3507, 4316: 3586, 4317: 857, 4318: 857, 4319: 1164, 4320: 1164, 4321: 2208, 4322: 2208, 4323: 4035, 4324: 3060, 4325: 4035, 4326: 1751, 4327: 2747, 4328: 2747, 4329: 141, 4330: 141, 4331: 4728, 4332: 2739, 4333: 2739, 4334: 3490, 4335: 2208, 4336: 2208, 4337: 2208, 4338: 2208, 4339: 2272, 4340: 1242, 4341: 2385, 4342: 3410, 4343: 55, 4344: 2208, 4345: 4709, 4346: 4709, 4347: 4709, 4348: 4709, 4349: 4035, 4350: 2206, 4351: 2206, 4352: 4035, 4353: 1896, 4354: 1896, 4355: 1896, 4356: 4133, 4357: 4133, 4358: 4133, 4359: 4133, 4360: 4133, 4361: 1495, 4362: 1495, 4363: 4190, 4364: 2075, 4365: 2075, 4366: 2075, 4367: 2075, 4368: 2075, 4369: 221, 4370: 221, 4371: 221, 4372: 221, 4373: 4274, 4374: 4190, 4375: 3410, 4376: 1939, 4377: 4522, 4378: 4522, 4379: 4522, 4380: 4522, 4381: 4522, 4382: 968, 4383: 30, 4384: 30, 4385: 2874, 4386: 1135, 4387: 1135, 4388: 425, 4389: 425, 4390: 425, 4391: 425, 4392: 2208, 4393: 2208, 4394: 2066, 4395: 2066, 4396: 2066, 4397: 3053, 4398: 3053, 4399: 853, 4400: 4636, 4401: 3319, 4402: 1556, 4403: 2054, 4404: 2054, 4405: 1556, 4406: 119, 4407: 3024, 4408: 1776, 4409: 1776, 4410: 1776, 4411: 1776, 4412: 1776, 4413: 119, 4414: 119, 4415: 1776, 4416: 3775, 4417: 1267, 4418: 2054, 4419: 2258, 4420: 3775, 4421: 2054, 4422: 119, 4423: 1758, 4424: 1318, 4425: 4601, 4426: 3888, 4427: 119, 4428: 2258, 4429: 3650, 4430: 1776, 4431: 3215, 4432: 3650, 4433: 2258, 4434: 1267, 4435: 2054, 4436: 4750, 4437: 4750, 4438: 2180, 4439: 2180, 4440: 2054, 4441: 2258, 4442: 119, 4443: 119, 4444: 2054, 4445: 2054, 4446: 3024, 4447: 3024, 4448: 4750, 4449: 4750, 4450: 119, 4451: 119, 4452: 119, 4453: 119, 4454: 4750, 4455: 3902, 4456: 4750, 4457: 24, 4458: 24, 4459: 1341, 4460: 24, 4461: 1392, 4462: 2021, 4463: 2314, 4464: 2314, 4465: 2026, 4466: 988, 4467: 1341, 4468: 1776, 4469: 3024, 4470: 3650, 4471: 24, 4472: 4562, 4473: 2314, 4474: 2314, 4475: 4750, 4476: 2314, 4477: 2314, 4478: 4750, 4479: 1450, 4480: 1450, 4481: 3720, 4482: 119, 4483: 2314, 4484: 4033, 4485: 2314, 4486: 3993, 4487: 3650, 4488: 3650, 4489: 3215, 4490: 1167, 4491: 2051, 4492: 300, 4493: 3193, 4494: 3193, 4495: 102, 4496: 3308, 4497: 4863, 4498: 3193, 4499: 2933, 4500: 1681, 4501: 1374, 4502: 102, 4503: 3295, 4504: 3193, 4505: 3308, 4506: 3308, 4507: 4863, 4508: 4863, 4509: 18, 4510: 3369, 4511: 3369, 4512: 4679, 4513: 4679, 4514: 4679, 4515: 1693, 4516: 4676, 4517: 1693, 4518: 2233, 4519: 2233, 4520: 2233, 4521: 2233, 4522: 82, 4523: 1025, 4524: 1722, 4525: 4426, 4526: 1025, 4527: 1722, 4528: 2268, 4529: 3165, 4530: 2629, 4531: 2629, 4532: 3165, 4533: 3198, 4534: 3198, 4535: 534, 4536: 3198, 4537: 1206, 4538: 1206, 4539: 867, 4540: 2636, 4541: 2636, 4542: 2170, 4543: 3586, 4544: 3095, 4545: 1675, 4546: 3368, 4547: 4195, 4548: 4528, 4549: 2654, 4550: 622, 4551: 2778, 4552: 4528, 4553: 313, 4554: 3489, 4555: 1025, 4556: 4872, 4557: 4495, 4558: 1733, 4559: 4495, 4560: 1733, 4561: 2931, 4562: 3838, 4563: 375, 4564: 2660, 4565: 2660, 4566: 2660, 4567: 4221, 4568: 1614, 4569: 4221, 4570: 4221, 4571: 301, 4572: 161, 4573: 4881, 4574: 4881, 4575: 4881, 4576: 3095, 4577: 3095, 4578: 3028, 4579: 3352, 4580: 900, 4581: 1636, 4582: 1636, 4583: 3319, 4584: 1636, 4585: 1636, 4586: 375, 4587: 3920, 4588: 375, 4589: 375, 4590: 289, 4591: 289, 4592: 289, 4593: 4426, 4594: 2892, 4595: 4881, 4596: 1666, 4597: 635, 4598: 635, 4599: 43, 4600: 3352, 4601: 3258, 4602: 2636, 4603: 3352, 4604: 3352, 4605: 2341, 4606: 3368, 4607: 1746, 4608: 1717, 4609: 1717, 4610: 2562, 4611: 167, 4612: 375, 4613: 2589, 4614: 2922, 4615: 3095, 4616: 3095, 4617: 3095, 4618: 2008, 4619: 595, 4620: 595, 4621: 4426, 4622: 3817, 4623: 3032, 4624: 3032, 4625: 2021, 4626: 2021, 4627: 2066, 4628: 2021, 4629: 1636, 4630: 2562, 4631: 4927, 4632: 4927, 4633: 4132, 4634: 2290, 4635: 4927, 4636: 2665, 4637: 4679, 4638: 4679, 4639: 2008, 4640: 2298, 4641: 2008, 4642: 2008, 4643: 2008, 4644: 1573, 4645: 2008, 4646: 2008, 4647: 2008, 4648: 2008, 4649: 4524, 4650: 2712, 4651: 3844, 4652: 2712, 4653: 2021, 4654: 2021, 4655: 1966, 4656: 3451, 4657: 3095, 4658: 2021, 4659: 743, 4660: 534, 4661: 1705, 4662: 3095, 4663: 3095, 4664: 3095, 4665: 289, 4666: 3586, 4667: 3586, 4668: 2341, 4669: 600, 4670: 2341, 4671: 2341, 4672: 600, 4673: 2868, 4674: 2868, 4675: 2868, 4676: 1094, 4677: 3451, 4678: 3451, 4679: 1094, 4680: 3451, 4681: 2831, 4682: 2452, 4683: 2831, 4684: 2831, 4685: 3838, 4686: 462, 4687: 4195, 4688: 4195, 4689: 3295, 4690: 4003, 4691: 2592, 4692: 275, 4693: 2592, 4694: 2592, 4695: 2589, 4696: 3, 4697: 3, 4698: 957, 4699: 62, 4700: 4426, 4701: 4132, 4702: 120, 4703: 3295, 4704: 275, 4705: 3198, 4706: 3368, 4707: 4003, 4708: 1636, 4709: 798, 4710: 1746, 4711: 798, 4712: 4881, 4713: 1636, 4714: 523, 4715: 523, 4716: 3095, 4717: 3374, 4718: 3977, 4719: 4813, 4720: 3444, 4721: 3451, 4722: 3586, 4723: 1675, 4724: 4927, 4725: 2290, 4726: 2290, 4727: 4528, 4728: 4271, 4729: 4271, 4730: 1557, 4731: 3374, 4732: 4927, 4733: 600, 4734: 1636, 4735: 1636, 4736: 1467, 4737: 4159, 4738: 2629, 4739: 867, 4740: 2635, 4741: 595, 4742: 2635, 4743: 2008, 4744: 3095, 4745: 3374, 4746: 3374, 4747: 336, 4748: 336, 4749: 1730, 4750: 1988, 4751: 1014, 4752: 2868, 4753: 3451, 4754: 3451, 4755: 2712, 4756: 1014, 4757: 375, 4758: 336, 4759: 1094, 4760: 2008, 4761: 2778, 4762: 62, 4763: 2712, 4764: 2712, 4765: 743, 4766: 615, 4767: 3198, 4768: 3906, 4769: 3374, 4770: 2401, 4771: 2636, 4772: 595, 4773: 957, 4774: 375, 4775: 2008, 4776: 2868, 4777: 2665, 4778: 2341, 4779: 1291, 4780: 3451, 4781: 3451, 4782: 3234, 4783: 3451, 4784: 3369, 4785: 301, 4786: 4159, 4787: 4159, 4788: 3898, 4789: 1389, 4790: 3898, 4791: 161, 4792: 4607, 4793: 4607, 4794: 4607, 4795: 62, 4796: 62, 4797: 62, 4798: 62, 4799: 62, 4800: 62, 4801: 62, 4802: 62, 4803: 4177, 4804: 4177, 4805: 4177, 4806: 4177, 4807: 837, 4808: 4607, 4809: 4607, 4810: 4177, 4811: 4177, 4812: 62, 4813: 595, 4814: 595, 4815: 4177, 4816: 4177, 4817: 595, 4818: 595, 4819: 595, 4820: 595, 4821: 595, 4822: 3574, 4823: 595, 4824: 595, 4825: 2374, 4826: 2374, 4827: 2374, 4828: 595, 4829: 595, 4830: 4177, 4831: 595, 4832: 595, 4833: 2423, 4834: 2423, 4835: 595, 4836: 595, 4837: 595, 4838: 2991, 4839: 62, 4840: 3574, 4841: 3574, 4842: 2290, 4843: 2290, 4844: 1878, 4845: 4881, 4846: 4881, 4847: 1262, 4848: 1262, 4849: 2374, 4850: 2778, 4851: 2548, 4852: 3526, 4853: 161, 4854: 2385, 4855: 406, 4856: 2892, 4857: 2341, 4858: 462, 4859: 3374, 4860: 1929, 4861: 1929, 4862: 4195, 4863: 1929, 4864: 4734, 4865: 1683, 4866: 2647, 4867: 2977, 4868: 2977, 4869: 4734, 4870: 4461, 4871: 2371, 4872: 4461, 4873: 4130, 4874: 2587, 4875: 2587, 4876: 2777, 4877: 813, 4878: 3906, 4879: 2815, 4880: 2772, 4881: 276, 4882: 2170, 4883: 3368, 4884: 2170, 4885: 1683, 4886: 1683, 4887: 3862, 4888: 2803, 4889: 422, 4890: 2647, 4891: 2383, 4892: 481, 4893: 3130, 4894: 3408, 4895: 2838, 4896: 1628, 4897: 1628, 4898: 4409, 4899: 1628, 4900: 2838, 4901: 1744, 4902: 1575, 4903: 829, 4904: 1034, 4905: 238, 4906: 2170, 4907: 2868, 4908: 1557, 4909: 3862, 4910: 4195, 4911: 5, 4912: 1248, 4913: 2377, 4914: 3973, 4915: 422, 4916: 1206, 4917: 1206, 4918: 813, 4919: 4195, 4920: 2647, 4921: 1557, 4922: 2977, 4923: 238, 4924: 481, 4925: 238, 4926: 481, 4927: 2035, 4928: 3186, 4929: 4367, 4930: 2759, 4931: 5, 4932: 301, 4933: 301, 4934: 3760, 4935: 3760, 4936: 3470, 4937: 2688, 4938: 1939, 4939: 1939, 4940: 618}\n"
          ]
        }
      ]
    },
    {
      "cell_type": "code",
      "source": [
        "import csv\n",
        "\n",
        "with open('Node_mappings_final1.csv', 'w', newline='') as csvfile:\n",
        "    fieldnames = ['g1', 'g2']\n",
        "    writer = csv.DictWriter(csvfile, fieldnames=fieldnames)\n",
        "\n",
        "    writer.writeheader()\n",
        "    for node_g1, node_g2 in predicted_correspondences1.items():\n",
        "        writer.writerow({'g1': node_g1, 'g2': node_g2})"
      ],
      "metadata": {
        "id": "5u_tpk2TTGIN"
      },
      "execution_count": null,
      "outputs": []
    },
    {
      "cell_type": "code",
      "source": [
        "predicted_correspondences2 = predict_correspondences(model2, graph1_data_final, graph2_data_final)\n",
        "print(predicted_correspondences2)"
      ],
      "metadata": {
        "id": "tPmuksL66MsO",
        "outputId": "3f67a945-e75b-462f-865b-154b33092868",
        "colab": {
          "base_uri": "https://localhost:8080/"
        }
      },
      "execution_count": null,
      "outputs": [
        {
          "output_type": "stream",
          "name": "stdout",
          "text": [
            "{0: 1041, 1: 1475, 2: 1578, 3: 1277, 4: 1113, 5: 854, 6: 2207, 7: 1855, 8: 2546, 9: 232, 10: 1144, 11: 1513, 12: 1572, 13: 487, 14: 1604, 15: 1400, 16: 1195, 17: 44, 18: 983, 19: 2168, 20: 126, 21: 1284, 22: 840, 23: 212, 24: 1458, 25: 2100, 26: 1544, 27: 1041, 28: 790, 29: 978, 30: 2182, 31: 1697, 32: 863, 33: 196, 34: 1107, 35: 2073, 36: 485, 37: 2372, 38: 844, 39: 1125, 40: 2429, 41: 2014, 42: 1018, 43: 5, 44: 659, 45: 1505, 46: 1393, 47: 851, 48: 325, 49: 1588, 50: 2066, 51: 540, 52: 900, 53: 1301, 54: 1086, 55: 1060, 56: 2172, 57: 2446, 58: 1554, 59: 1774, 60: 1737, 61: 2745, 62: 1742, 63: 1825, 64: 346, 65: 2633, 66: 2500, 67: 1434, 68: 1498, 69: 2190, 70: 1582, 71: 128, 72: 2508, 73: 2068, 74: 43, 75: 2555, 76: 545, 77: 1905, 78: 2501, 79: 943, 80: 554, 81: 1985, 82: 518, 83: 1594, 84: 2518, 85: 2027, 86: 53, 87: 2387, 88: 2016, 89: 59, 90: 1468, 91: 1449, 92: 2440, 93: 1055, 94: 234, 95: 745, 96: 66, 97: 1860, 98: 166, 99: 778, 100: 2416, 101: 1079, 102: 2523, 103: 359, 104: 1464, 105: 802, 106: 1088, 107: 1022, 108: 1605, 109: 674, 110: 464, 111: 2646, 112: 79, 113: 1160, 114: 2001, 115: 72, 116: 2291, 117: 258, 118: 513, 119: 814, 120: 2305, 121: 1197, 122: 2378, 123: 2406, 124: 2705, 125: 549, 126: 429, 127: 1175, 128: 2232, 129: 1234, 130: 2269, 131: 1601, 132: 1014, 133: 449, 134: 2624, 135: 2000, 136: 2542, 137: 194, 138: 2427, 139: 2040, 140: 1952, 141: 1898, 142: 1499, 143: 1270, 144: 1878, 145: 357, 146: 2670, 147: 2316, 148: 2441, 149: 265, 150: 1820, 151: 1719, 152: 1748, 153: 2356, 154: 1815, 155: 1727, 156: 970, 157: 2488, 158: 521, 159: 1186, 160: 566, 161: 118, 162: 1676, 163: 1910, 164: 898, 165: 1509, 166: 708, 167: 214, 168: 1476, 169: 557, 170: 2348, 171: 1771, 172: 537, 173: 442, 174: 856, 175: 1105, 176: 415, 177: 185, 178: 2728, 179: 2010, 180: 904, 181: 2093, 182: 198, 183: 703, 184: 1783, 185: 403, 186: 869, 187: 2373, 188: 181, 189: 1614, 190: 546, 191: 1851, 192: 494, 193: 1753, 194: 1639, 195: 2004, 196: 2507, 197: 1721, 198: 2313, 199: 1684, 200: 1537, 201: 2044, 202: 526, 203: 1067, 204: 1375, 205: 1118, 206: 2205, 207: 593, 208: 2738, 209: 1327, 210: 742, 211: 1115, 212: 2404, 213: 2564, 214: 1637, 215: 661, 216: 1813, 217: 93, 218: 2722, 219: 1970, 220: 1807, 221: 2224, 222: 1320, 223: 1756, 224: 2108, 225: 2585, 226: 24, 227: 218, 228: 2712, 229: 1158, 230: 58, 231: 2338, 232: 1461, 233: 236, 234: 1489, 235: 137, 236: 1540, 237: 2473, 238: 1177, 239: 81, 240: 2677, 241: 1193, 242: 421, 243: 478, 244: 2077, 245: 2381, 246: 2700, 247: 2215, 248: 1802, 249: 859, 250: 847, 251: 2212, 252: 523, 253: 264, 254: 2038, 255: 1403, 256: 463, 257: 1219, 258: 248, 259: 1288, 260: 1627, 261: 1466, 262: 2034, 263: 1573, 264: 1767, 265: 88, 266: 252, 267: 2478, 268: 693, 269: 2724, 270: 1840, 271: 1323, 272: 1445, 273: 1843, 274: 1936, 275: 370, 276: 1700, 277: 308, 278: 1992, 279: 222, 280: 1567, 281: 381, 282: 2202, 283: 2691, 284: 2103, 285: 630, 286: 811, 287: 734, 288: 1845, 289: 1621, 290: 868, 291: 1507, 292: 1599, 293: 2035, 294: 1366, 295: 1299, 296: 1564, 297: 1972, 298: 609, 299: 2285, 300: 2176, 301: 2773, 302: 1518, 303: 2708, 304: 711, 305: 1, 306: 1414, 307: 1530, 308: 385, 309: 1921, 310: 2580, 311: 683, 312: 673, 313: 411, 314: 20, 315: 247, 316: 736, 317: 1266, 318: 2560, 319: 897, 320: 2209, 321: 927, 322: 2615, 323: 1863, 324: 1087, 325: 342, 326: 718, 327: 1511, 328: 1943, 329: 1729, 330: 1946, 331: 2672, 332: 2046, 333: 36, 334: 2490, 335: 1944, 336: 2682, 337: 1282, 338: 1176, 339: 1329, 340: 1220, 341: 914, 342: 290, 343: 895, 344: 2150, 345: 1164, 346: 2537, 347: 1061, 348: 946, 349: 1169, 350: 1024, 351: 529, 352: 738, 353: 110, 354: 1749, 355: 483, 356: 2301, 357: 1151, 358: 1933, 359: 2332, 360: 2301, 361: 2302, 362: 17, 363: 1550, 364: 269, 365: 2106, 366: 2750, 367: 1556, 368: 1389, 369: 97, 370: 2517, 371: 1224, 372: 1570, 373: 2469, 374: 977, 375: 270, 376: 277, 377: 552, 378: 1200, 379: 402, 380: 553, 381: 2534, 382: 568, 383: 2532, 384: 406, 385: 11, 386: 2496, 387: 2166, 388: 1453, 389: 1474, 390: 1492, 391: 2513, 392: 2096, 393: 319, 394: 1255, 395: 275, 396: 2411, 397: 1950, 398: 2754, 399: 1051, 400: 568, 401: 1424, 402: 1299, 403: 1602, 404: 1100, 405: 2576, 406: 1456, 407: 868, 408: 805, 409: 1017, 410: 988, 411: 1456, 412: 2599, 413: 31, 414: 1456, 415: 2033, 416: 1992, 417: 100, 418: 178, 419: 1041, 420: 612, 421: 64, 422: 534, 423: 2591, 424: 2271, 425: 2322, 426: 2712, 427: 1992, 428: 1514, 429: 1605, 430: 599, 431: 2052, 432: 276, 433: 1138, 434: 2062, 435: 1453, 436: 1659, 437: 958, 438: 684, 439: 37, 440: 1381, 441: 349, 442: 1703, 443: 1816, 444: 2566, 445: 1204, 446: 1504, 447: 302, 448: 225, 449: 1872, 450: 1611, 451: 600, 452: 2770, 453: 2392, 454: 612, 455: 1551, 456: 2542, 457: 254, 458: 2446, 459: 660, 460: 904, 461: 66, 462: 1623, 463: 2084, 464: 2154, 465: 2480, 466: 903, 467: 382, 468: 1943, 469: 1034, 470: 1747, 471: 120, 472: 1105, 473: 2728, 474: 972, 475: 2573, 476: 1189, 477: 1465, 478: 1476, 479: 2248, 480: 1097, 481: 489, 482: 2179, 483: 2084, 484: 790, 485: 1027, 486: 2555, 487: 251, 488: 661, 489: 2223, 490: 2481, 491: 2249, 492: 372, 493: 1753, 494: 1378, 495: 1957, 496: 2395, 497: 146, 498: 2144, 499: 2033, 500: 1191, 501: 1458, 502: 2472, 503: 2222, 504: 2587, 505: 2304, 506: 1759, 507: 215, 508: 500, 509: 685, 510: 215, 511: 1110, 512: 527, 513: 2279, 514: 2487, 515: 2065, 516: 1938, 517: 1564, 518: 936, 519: 650, 520: 650, 521: 1523, 522: 856, 523: 606, 524: 1635, 525: 41, 526: 1131, 527: 2212, 528: 728, 529: 1728, 530: 1412, 531: 921, 532: 492, 533: 387, 534: 1502, 535: 2531, 536: 2531, 537: 960, 538: 902, 539: 2153, 540: 802, 541: 1496, 542: 1311, 543: 142, 544: 320, 545: 302, 546: 1311, 547: 142, 548: 1817, 549: 207, 550: 771, 551: 594, 552: 982, 553: 410, 554: 2026, 555: 1160, 556: 1487, 557: 1402, 558: 673, 559: 2342, 560: 2342, 561: 2357, 562: 1708, 563: 1825, 564: 789, 565: 944, 566: 2731, 567: 1308, 568: 615, 569: 615, 570: 401, 571: 1308, 572: 1505, 573: 481, 574: 2574, 575: 379, 576: 383, 577: 1241, 578: 2177, 579: 1950, 580: 991, 581: 1043, 582: 2620, 583: 2702, 584: 780, 585: 911, 586: 2622, 587: 153, 588: 112, 589: 1436, 590: 1683, 591: 1330, 592: 995, 593: 721, 594: 1207, 595: 2712, 596: 2414, 597: 1536, 598: 810, 599: 1579, 600: 2573, 601: 2613, 602: 931, 603: 245, 604: 2441, 605: 1573, 606: 695, 607: 1019, 608: 63, 609: 704, 610: 1737, 611: 1858, 612: 2197, 613: 2724, 614: 1244, 615: 917, 616: 232, 617: 965, 618: 1284, 619: 1209, 620: 245, 621: 1358, 622: 2092, 623: 2141, 624: 393, 625: 1223, 626: 2144, 627: 2333, 628: 467, 629: 2352, 630: 941, 631: 1962, 632: 69, 633: 1253, 634: 2418, 635: 770, 636: 1759, 637: 2659, 638: 1887, 639: 1525, 640: 2001, 641: 1097, 642: 310, 643: 2606, 644: 2098, 645: 1600, 646: 2636, 647: 2653, 648: 193, 649: 31, 650: 70, 651: 612, 652: 68, 653: 1931, 654: 1690, 655: 1959, 656: 805, 657: 302, 658: 662, 659: 436, 660: 1332, 661: 1349, 662: 1822, 663: 2510, 664: 235, 665: 235, 666: 672, 667: 2392, 668: 1992, 669: 1730, 670: 1534, 671: 2347, 672: 239, 673: 2198, 674: 2611, 675: 120, 676: 1485, 677: 308, 678: 308, 679: 308, 680: 939, 681: 1416, 682: 2223, 683: 2477, 684: 388, 685: 695, 686: 2700, 687: 17, 688: 884, 689: 2700, 690: 1444, 691: 2332, 692: 2540, 693: 219, 694: 731, 695: 834, 696: 1787, 697: 450, 698: 265, 699: 486, 700: 265, 701: 265, 702: 2430, 703: 2430, 704: 731, 705: 731, 706: 98, 707: 1426, 708: 1464, 709: 1785, 710: 1931, 711: 2116, 712: 411, 713: 2411, 714: 1764, 715: 2084, 716: 568, 717: 1331, 718: 1775, 719: 1076, 720: 468, 721: 342, 722: 2534, 723: 1521, 724: 1302, 725: 2294, 726: 263, 727: 985, 728: 199, 729: 12, 730: 1358, 731: 1383, 732: 132, 733: 1997, 734: 102, 735: 1051, 736: 395, 737: 540, 738: 746, 739: 2446, 740: 662, 741: 259, 742: 2010, 743: 1528, 744: 1239, 745: 305, 746: 1683, 747: 1933, 748: 1655, 749: 617, 750: 1520, 751: 2302, 752: 921, 753: 1933, 754: 1476, 755: 965, 756: 1755, 757: 2765, 758: 294, 759: 1566, 760: 1358, 761: 2603, 762: 1540, 763: 2510, 764: 2662, 765: 2533, 766: 2510, 767: 2744, 768: 939, 769: 1506, 770: 1640, 771: 1625, 772: 2512, 773: 1329, 774: 212, 775: 1644, 776: 1421, 777: 2124, 778: 1514, 779: 2528, 780: 1928, 781: 1497, 782: 983, 783: 1992, 784: 606, 785: 2683, 786: 2177, 787: 1020, 788: 1549, 789: 434, 790: 793, 791: 2568, 792: 2415, 793: 1007, 794: 2636, 795: 1791, 796: 2516, 797: 1387, 798: 1958, 799: 1982, 800: 1965, 801: 2271, 802: 747, 803: 747, 804: 2401, 805: 1572, 806: 2084, 807: 1644, 808: 2151, 809: 1551, 810: 549, 811: 556, 812: 762, 813: 2507, 814: 1412, 815: 770, 816: 617, 817: 1458, 818: 1026, 819: 1593, 820: 2169, 821: 2782, 822: 254, 823: 674, 824: 985, 825: 1226, 826: 1992, 827: 1807, 828: 1520, 829: 2654, 830: 1465, 831: 1839, 832: 1839, 833: 1465, 834: 1034, 835: 414, 836: 584, 837: 1086, 838: 2611, 839: 308, 840: 2254, 841: 1165, 842: 1017, 843: 439, 844: 2388, 845: 2040, 846: 2711, 847: 649, 848: 1992, 849: 194, 850: 1200, 851: 1992, 852: 1050, 853: 2104, 854: 1992, 855: 75, 856: 762, 857: 1701, 858: 1983, 859: 642, 860: 1992, 861: 481, 862: 29, 863: 1026, 864: 29, 865: 1044, 866: 2092, 867: 1872, 868: 1165, 869: 1388, 870: 29, 871: 1177, 872: 1676, 873: 1848, 874: 1964, 875: 8, 876: 793, 877: 1804, 878: 1525, 879: 2033, 880: 772, 881: 2321, 882: 2018, 883: 935, 884: 1415, 885: 184, 886: 1887, 887: 2475, 888: 2707, 889: 2589, 890: 935, 891: 1584, 892: 1112, 893: 1630, 894: 2333, 895: 2071, 896: 625, 897: 2310, 898: 457, 899: 2395, 900: 2630, 901: 272, 902: 1467, 903: 1387, 904: 381, 905: 931, 906: 450, 907: 2121, 908: 961, 909: 1743, 910: 961, 911: 439, 912: 1125, 913: 2543, 914: 162, 915: 143, 916: 757, 917: 674, 918: 422, 919: 1088, 920: 1041, 921: 312, 922: 1043, 923: 1453, 924: 2077, 925: 2100, 926: 1697, 927: 1195, 928: 966, 929: 1801, 930: 1536, 931: 2370, 932: 1255, 933: 2342, 934: 541, 935: 1777, 936: 1273, 937: 2051, 938: 2534, 939: 1195, 940: 2052, 941: 998, 942: 359, 943: 1813, 944: 484, 945: 319, 946: 1457, 947: 2521, 948: 1442, 949: 2152, 950: 1933, 951: 1064, 952: 617, 953: 212, 954: 1520, 955: 826, 956: 2465, 957: 2526, 958: 2395, 959: 1853, 960: 174, 961: 1758, 962: 2304, 963: 2408, 964: 1143, 965: 1904, 966: 1904, 967: 605, 968: 386, 969: 278, 970: 2482, 971: 1668, 972: 386, 973: 1759, 974: 2178, 975: 2052, 976: 2052, 977: 2275, 978: 2118, 979: 545, 980: 861, 981: 1875, 982: 7, 983: 425, 984: 802, 985: 412, 986: 921, 987: 1836, 988: 1067, 989: 921, 990: 921, 991: 1990, 992: 2707, 993: 1576, 994: 289, 995: 279, 996: 1076, 997: 545, 998: 1044, 999: 1668, 1000: 570, 1001: 1714, 1002: 1273, 1003: 223, 1004: 872, 1005: 459, 1006: 1421, 1007: 1827, 1008: 340, 1009: 1177, 1010: 215, 1011: 779, 1012: 1228, 1013: 1849, 1014: 1001, 1015: 1838, 1016: 223, 1017: 1657, 1018: 1385, 1019: 173, 1020: 511, 1021: 732, 1022: 2701, 1023: 401, 1024: 551, 1025: 1271, 1026: 2588, 1027: 269, 1028: 2182, 1029: 681, 1030: 879, 1031: 849, 1032: 861, 1033: 407, 1034: 2133, 1035: 2611, 1036: 879, 1037: 2611, 1038: 2446, 1039: 1066, 1040: 1175, 1041: 1395, 1042: 1222, 1043: 1887, 1044: 1949, 1045: 1938, 1046: 1037, 1047: 1914, 1048: 1586, 1049: 2551, 1050: 2032, 1051: 1542, 1052: 811, 1053: 1509, 1054: 1229, 1055: 1239, 1056: 1992, 1057: 388, 1058: 2271, 1059: 1509, 1060: 781, 1061: 1764, 1062: 1542, 1063: 117, 1064: 413, 1065: 860, 1066: 663, 1067: 2110, 1068: 1807, 1069: 1154, 1070: 220, 1071: 2665, 1072: 1975, 1073: 2600, 1074: 1938, 1075: 1941, 1076: 1926, 1077: 991, 1078: 1300, 1079: 2639, 1080: 1285, 1081: 1285, 1082: 236, 1083: 1300, 1084: 2639, 1085: 468, 1086: 2328, 1087: 365, 1088: 525, 1089: 2149, 1090: 2188, 1091: 1064, 1092: 2778, 1093: 899, 1094: 2249, 1095: 2552, 1096: 577, 1097: 801, 1098: 899, 1099: 1764, 1100: 2371, 1101: 2381, 1102: 342, 1103: 2369, 1104: 1755, 1105: 924, 1106: 1346, 1107: 2568, 1108: 2115, 1109: 1389, 1110: 2744, 1111: 389, 1112: 904, 1113: 2564, 1114: 837, 1115: 2776, 1116: 555, 1117: 326, 1118: 2068, 1119: 38, 1120: 801, 1121: 801, 1122: 2745, 1123: 2665, 1124: 2278, 1125: 972, 1126: 1374, 1127: 2769, 1128: 1271, 1129: 2068, 1130: 1612, 1131: 785, 1132: 517, 1133: 1175, 1134: 1838, 1135: 690, 1136: 1838, 1137: 801, 1138: 1995, 1139: 537, 1140: 2671, 1141: 980, 1142: 1745, 1143: 2075, 1144: 2226, 1145: 283, 1146: 770, 1147: 2042, 1148: 1748, 1149: 2665, 1150: 2229, 1151: 2240, 1152: 829, 1153: 8, 1154: 800, 1155: 389, 1156: 2360, 1157: 1527, 1158: 1035, 1159: 2304, 1160: 1718, 1161: 379, 1162: 130, 1163: 2088, 1164: 1163, 1165: 1126, 1166: 2757, 1167: 294, 1168: 1899, 1169: 1486, 1170: 1938, 1171: 2621, 1172: 2241, 1173: 821, 1174: 145, 1175: 2241, 1176: 2271, 1177: 2700, 1178: 2430, 1179: 1509, 1180: 232, 1181: 1916, 1182: 486, 1183: 1416, 1184: 2564, 1185: 743, 1186: 102, 1187: 2527, 1188: 1471, 1189: 1761, 1190: 536, 1191: 777, 1192: 49, 1193: 248, 1194: 752, 1195: 434, 1196: 29, 1197: 500, 1198: 49, 1199: 972, 1200: 1957, 1201: 271, 1202: 1639, 1203: 1449, 1204: 313, 1205: 1605, 1206: 1496, 1207: 212, 1208: 1111, 1209: 1308, 1210: 2747, 1211: 1367, 1212: 836, 1213: 1367, 1214: 489, 1215: 2415, 1216: 2069, 1217: 2544, 1218: 2203, 1219: 2203, 1220: 2630, 1221: 1037, 1222: 488, 1223: 802, 1224: 1440, 1225: 2022, 1226: 2562, 1227: 254, 1228: 387, 1229: 822, 1230: 1165, 1231: 388, 1232: 1638, 1233: 1179, 1234: 2408, 1235: 1815, 1236: 1456, 1237: 294, 1238: 2124, 1239: 524, 1240: 1394, 1241: 2726, 1242: 606, 1243: 2457, 1244: 1149, 1245: 1149, 1246: 1123, 1247: 899, 1248: 1311, 1249: 2504, 1250: 2317, 1251: 2255, 1252: 1062, 1253: 577, 1254: 1906, 1255: 863, 1256: 2102, 1257: 414, 1258: 752, 1259: 2080, 1260: 2102, 1261: 2099, 1262: 406, 1263: 1123, 1264: 236, 1265: 1663, 1266: 171, 1267: 1123, 1268: 752, 1269: 2062, 1270: 1942, 1271: 1475, 1272: 47, 1273: 2043, 1274: 2043, 1275: 2279, 1276: 1747, 1277: 2473, 1278: 1062, 1279: 182, 1280: 2229, 1281: 1764, 1282: 724, 1283: 804, 1284: 1268, 1285: 1065, 1286: 1285, 1287: 2499, 1288: 2102, 1289: 261, 1290: 2627, 1291: 2380, 1292: 13, 1293: 1750, 1294: 774, 1295: 277, 1296: 1644, 1297: 1710, 1298: 99, 1299: 2671, 1300: 396, 1301: 2732, 1302: 1992, 1303: 380, 1304: 411, 1305: 1637, 1306: 1366, 1307: 1540, 1308: 897, 1309: 80, 1310: 646, 1311: 2148, 1312: 395, 1313: 395, 1314: 2019, 1315: 461, 1316: 395, 1317: 121, 1318: 693, 1319: 395, 1320: 735, 1321: 572, 1322: 572, 1323: 556, 1324: 2592, 1325: 262, 1326: 465, 1327: 2757, 1328: 1569, 1329: 1500, 1330: 376, 1331: 2622, 1332: 601, 1333: 285, 1334: 2694, 1335: 16, 1336: 326, 1337: 2654, 1338: 1945, 1339: 2711, 1340: 2485, 1341: 266, 1342: 1358, 1343: 1066, 1344: 2276, 1345: 2051, 1346: 1835, 1347: 1933, 1348: 921, 1349: 655, 1350: 2250, 1351: 85, 1352: 2662, 1353: 1933, 1354: 1341, 1355: 510, 1356: 2226, 1357: 572, 1358: 1746, 1359: 1269, 1360: 858, 1361: 1269, 1362: 2710, 1363: 1682, 1364: 1981, 1365: 354, 1366: 2174, 1367: 1985, 1368: 2446, 1369: 2711, 1370: 232, 1371: 1520, 1372: 2174, 1373: 1096, 1374: 1340, 1375: 1559, 1376: 461, 1377: 1019, 1378: 1288, 1379: 2308, 1380: 1079, 1381: 634, 1382: 1298, 1383: 1046, 1384: 2463, 1385: 1658, 1386: 1424, 1387: 59, 1388: 2644, 1389: 919, 1390: 490, 1391: 2701, 1392: 1928, 1393: 1064, 1394: 2608, 1395: 2223, 1396: 318, 1397: 183, 1398: 2287, 1399: 2317, 1400: 1497, 1401: 318, 1402: 2460, 1403: 147, 1404: 577, 1405: 2408, 1406: 1663, 1407: 2099, 1408: 989, 1409: 1119, 1410: 204, 1411: 1476, 1412: 877, 1413: 2124, 1414: 1845, 1415: 1119, 1416: 1119, 1417: 1177, 1418: 59, 1419: 2274, 1420: 1119, 1421: 236, 1422: 2005, 1423: 1904, 1424: 2223, 1425: 1750, 1426: 1559, 1427: 699, 1428: 650, 1429: 1655, 1430: 1585, 1431: 889, 1432: 2448, 1433: 732, 1434: 273, 1435: 650, 1436: 1985, 1437: 354, 1438: 985, 1439: 1512, 1440: 2198, 1441: 902, 1442: 1062, 1443: 762, 1444: 1223, 1445: 2198, 1446: 682, 1447: 177, 1448: 2394, 1449: 130, 1450: 676, 1451: 1022, 1452: 2408, 1453: 2084, 1454: 2187, 1455: 2652, 1456: 2182, 1457: 2106, 1458: 2106, 1459: 258, 1460: 595, 1461: 802, 1462: 1605, 1463: 1266, 1464: 1859, 1465: 901, 1466: 1138, 1467: 8, 1468: 2417, 1469: 2201, 1470: 2417, 1471: 941, 1472: 2400, 1473: 2308, 1474: 2677, 1475: 1704, 1476: 1529, 1477: 256, 1478: 2073, 1479: 1369, 1480: 2394, 1481: 762, 1482: 1992, 1483: 1982, 1484: 1982, 1485: 1257, 1486: 2420, 1487: 1228, 1488: 388, 1489: 263, 1490: 2377, 1491: 1455, 1492: 1314, 1493: 1950, 1494: 1853, 1495: 1429, 1496: 2052, 1497: 2446, 1498: 1273, 1499: 2275, 1500: 1237, 1501: 496, 1502: 2075, 1503: 1514, 1504: 2560, 1505: 1576, 1506: 1569, 1507: 472, 1508: 450, 1509: 978, 1510: 450, 1511: 1014, 1512: 81, 1513: 2646, 1514: 2588, 1515: 2574, 1516: 2419, 1517: 1520, 1518: 1045, 1519: 1047, 1520: 2169, 1521: 1350, 1522: 2337, 1523: 1436, 1524: 2030, 1525: 2654, 1526: 2454, 1527: 913, 1528: 1784, 1529: 489, 1530: 913, 1531: 690, 1532: 1126, 1533: 572, 1534: 2455, 1535: 2333, 1536: 434, 1537: 1362, 1538: 1853, 1539: 1421, 1540: 1427, 1541: 1093, 1542: 826, 1543: 826, 1544: 1921, 1545: 514, 1546: 2602, 1547: 263, 1548: 922, 1549: 677, 1550: 1538, 1551: 2004, 1552: 1053, 1553: 2004, 1554: 2371, 1555: 2065, 1556: 2568, 1557: 2371, 1558: 2371, 1559: 2173, 1560: 2192, 1561: 2325, 1562: 906, 1563: 1091, 1564: 1111, 1565: 832, 1566: 1585, 1567: 1728, 1568: 488, 1569: 1007, 1570: 724, 1571: 1500, 1572: 1035, 1573: 1721, 1574: 2252, 1575: 1824, 1576: 285, 1577: 1430, 1578: 1631, 1579: 2104, 1580: 1106, 1581: 1656, 1582: 1106, 1583: 1106, 1584: 1269, 1585: 541, 1586: 1781, 1587: 1456, 1588: 2106, 1589: 184, 1590: 1046, 1591: 379, 1592: 575, 1593: 489, 1594: 1140, 1595: 285, 1596: 1091, 1597: 2601, 1598: 1964, 1599: 2372, 1600: 1993, 1601: 1755, 1602: 2193, 1603: 1104, 1604: 474, 1605: 2463, 1606: 2277, 1607: 1595, 1608: 1191, 1609: 902, 1610: 1198, 1611: 1328, 1612: 2727, 1613: 564, 1614: 1698, 1615: 724, 1616: 294, 1617: 1363, 1618: 1381, 1619: 1645, 1620: 1066, 1621: 263, 1622: 279, 1623: 1743, 1624: 1342, 1625: 2454, 1626: 378, 1627: 857, 1628: 2369, 1629: 1139, 1630: 638, 1631: 389, 1632: 819, 1633: 2678, 1634: 2353, 1635: 49, 1636: 1540, 1637: 49, 1638: 121, 1639: 2180, 1640: 2386, 1641: 26, 1642: 922, 1643: 2068, 1644: 461, 1645: 239, 1646: 163, 1647: 2635, 1648: 266, 1649: 2227, 1650: 2762, 1651: 2542, 1652: 2723, 1653: 1740, 1654: 1982, 1655: 1064, 1656: 1064, 1657: 1853, 1658: 1346, 1659: 2333, 1660: 1809, 1661: 2226, 1662: 1789, 1663: 1789, 1664: 2395, 1665: 2033, 1666: 1668, 1667: 79, 1668: 1390, 1669: 552, 1670: 1118, 1671: 1214, 1672: 85, 1673: 2480, 1674: 774, 1675: 1187, 1676: 2671, 1677: 846, 1678: 1182, 1679: 1031, 1680: 2223, 1681: 656, 1682: 862, 1683: 456, 1684: 344, 1685: 642, 1686: 344, 1687: 2433, 1688: 549, 1689: 767, 1690: 1216, 1691: 377, 1692: 60, 1693: 560, 1694: 1445, 1695: 1422, 1696: 2151, 1697: 523, 1698: 2512, 1699: 1150, 1700: 2325, 1701: 1779, 1702: 2540, 1703: 958, 1704: 2180, 1705: 852, 1706: 961, 1707: 1476, 1708: 600, 1709: 2114, 1710: 276, 1711: 1653, 1712: 1578, 1713: 2573, 1714: 1476, 1715: 1746, 1716: 2302, 1717: 644, 1718: 1654, 1719: 1086, 1720: 2600, 1721: 439, 1722: 1344, 1723: 1608, 1724: 2756, 1725: 1436, 1726: 2621, 1727: 862, 1728: 1167, 1729: 1201, 1730: 361, 1731: 2177, 1732: 1191, 1733: 1106, 1734: 834, 1735: 2770, 1736: 378, 1737: 2327, 1738: 792, 1739: 1992, 1740: 994, 1741: 484, 1742: 1331, 1743: 1789, 1744: 394, 1745: 907, 1746: 966, 1747: 580, 1748: 2718, 1749: 117, 1750: 1663, 1751: 1283, 1752: 1061, 1753: 1756, 1754: 643, 1755: 608, 1756: 994, 1757: 1344, 1758: 2279, 1759: 263, 1760: 1001, 1761: 1576, 1762: 1781, 1763: 346, 1764: 1851, 1765: 278, 1766: 1388, 1767: 1976, 1768: 2354, 1769: 1541, 1770: 2023, 1771: 371, 1772: 371, 1773: 913, 1774: 489, 1775: 1842, 1776: 1969, 1777: 1191, 1778: 2397, 1779: 1444, 1780: 1992, 1781: 725, 1782: 1199, 1783: 1236, 1784: 1992, 1785: 2110, 1786: 2221, 1787: 181, 1788: 1906, 1789: 1648, 1790: 1777, 1791: 1275, 1792: 391, 1793: 737, 1794: 2154, 1795: 2319, 1796: 2750, 1797: 2471, 1798: 1682, 1799: 2180, 1800: 2664, 1801: 1004, 1802: 1941, 1803: 1513, 1804: 1937, 1805: 632, 1806: 559, 1807: 2648, 1808: 634, 1809: 1992, 1810: 2758, 1811: 1440, 1812: 2778, 1813: 245, 1814: 381, 1815: 319, 1816: 651, 1817: 698, 1818: 2630, 1819: 451, 1820: 1759, 1821: 2292, 1822: 1331, 1823: 770, 1824: 3, 1825: 2451, 1826: 2778, 1827: 829, 1828: 408, 1829: 2003, 1830: 2126, 1831: 1070, 1832: 1606, 1833: 821, 1834: 1011, 1835: 149, 1836: 1398, 1837: 1496, 1838: 1006, 1839: 2345, 1840: 962, 1841: 2043, 1842: 124, 1843: 124, 1844: 158, 1845: 1296, 1846: 2223, 1847: 1347, 1848: 1202, 1849: 418, 1850: 1711, 1851: 1092, 1852: 720, 1853: 293, 1854: 1926, 1855: 225, 1856: 646, 1857: 438, 1858: 2366, 1859: 2270, 1860: 1257, 1861: 1257, 1862: 121, 1863: 2412, 1864: 1835, 1865: 1651, 1866: 1513, 1867: 1714, 1868: 1323, 1869: 1706, 1870: 2043, 1871: 357, 1872: 1050, 1873: 1976, 1874: 1328, 1875: 1853, 1876: 1615, 1877: 1349, 1878: 1004, 1879: 69, 1880: 1600, 1881: 541, 1882: 235, 1883: 376, 1884: 199, 1885: 834, 1886: 834, 1887: 2430, 1888: 486, 1889: 1076, 1890: 2267, 1891: 2267, 1892: 961, 1893: 1863, 1894: 1159, 1895: 1863, 1896: 1761, 1897: 1638, 1898: 1638, 1899: 1522, 1900: 1938, 1901: 526, 1902: 286, 1903: 526, 1904: 2022, 1905: 2318, 1906: 127, 1907: 1325, 1908: 1375, 1909: 1764, 1910: 1764, 1911: 1216, 1912: 142, 1913: 617, 1914: 2047, 1915: 1510, 1916: 2679, 1917: 599, 1918: 2200, 1919: 1485, 1920: 2200, 1921: 1221, 1922: 2305, 1923: 469, 1924: 1862, 1925: 688, 1926: 2703, 1927: 1311, 1928: 2536, 1929: 241, 1930: 965, 1931: 1795, 1932: 19, 1933: 2329, 1934: 2203, 1935: 2203, 1936: 1052, 1937: 612, 1938: 240, 1939: 240, 1940: 2600, 1941: 2764, 1942: 1321, 1943: 2472, 1944: 1392, 1945: 1796, 1946: 1796, 1947: 2541, 1948: 1838, 1949: 799, 1950: 1838, 1951: 802, 1952: 2510, 1953: 1218, 1954: 1645, 1955: 2580, 1956: 528, 1957: 1780, 1958: 1938, 1959: 2654, 1960: 2654, 1961: 1384, 1962: 1778, 1963: 1197, 1964: 2333, 1965: 1415, 1966: 2441, 1967: 439, 1968: 439, 1969: 935, 1970: 935, 1971: 1265, 1972: 1265, 1973: 775, 1974: 1429, 1975: 908, 1976: 608, 1977: 608, 1978: 2471, 1979: 117, 1980: 1422, 1981: 2386, 1982: 861, 1983: 2357, 1984: 2243, 1985: 1054, 1986: 2107, 1987: 1163, 1988: 215, 1989: 2672, 1990: 1415, 1991: 1563, 1992: 388, 1993: 907, 1994: 2551, 1995: 1536, 1996: 1013, 1997: 481, 1998: 175, 1999: 1706, 2000: 2211, 2001: 1139, 2002: 2250, 2003: 842, 2004: 465, 2005: 1553, 2006: 2091, 2007: 2064, 2008: 965, 2009: 320, 2010: 2201, 2011: 486, 2012: 486, 2013: 1425, 2014: 2600, 2015: 1004, 2016: 770, 2017: 2641, 2018: 1858, 2019: 1108, 2020: 1078, 2021: 1605, 2022: 1430, 2023: 2276, 2024: 2276, 2025: 2276, 2026: 1066, 2027: 1878, 2028: 775, 2029: 1674, 2030: 2158, 2031: 1764, 2032: 1678, 2033: 2418, 2034: 1512, 2035: 1280, 2036: 2279, 2037: 2712, 2038: 2471, 2039: 1842, 2040: 2710, 2041: 713, 2042: 909, 2043: 1999, 2044: 2378, 2045: 835, 2046: 2318, 2047: 2085, 2048: 2700, 2049: 106, 2050: 2065, 2051: 317, 2052: 1096, 2053: 1096, 2054: 700, 2055: 2022, 2056: 599, 2057: 412, 2058: 479, 2059: 2369, 2060: 2369, 2061: 2369, 2062: 457, 2063: 1838, 2064: 26, 2065: 902, 2066: 649, 2067: 1026, 2068: 287, 2069: 2227, 2070: 2223, 2071: 1980, 2072: 608, 2073: 1497, 2074: 1789, 2075: 2395, 2076: 617, 2077: 450, 2078: 732, 2079: 2731, 2080: 29, 2081: 29, 2082: 1371, 2083: 2250, 2084: 2226, 2085: 409, 2086: 514, 2087: 2328, 2088: 2539, 2089: 802, 2090: 459, 2091: 1814, 2092: 2619, 2093: 132, 2094: 1465, 2095: 2416, 2096: 2416, 2097: 2279, 2098: 655, 2099: 1284, 2100: 2254, 2101: 559, 2102: 14, 2103: 559, 2104: 1497, 2105: 2383, 2106: 1101, 2107: 1638, 2108: 527, 2109: 2200, 2110: 2200, 2111: 308, 2112: 1381, 2113: 2664, 2114: 484, 2115: 1850, 2116: 2022, 2117: 2022, 2118: 608, 2119: 393, 2120: 612, 2121: 1289, 2122: 1289, 2123: 1289, 2124: 1937, 2125: 93, 2126: 724, 2127: 15, 2128: 1918, 2129: 2705, 2130: 1750, 2131: 22, 2132: 2160, 2133: 2160, 2134: 1949, 2135: 2124, 2136: 192, 2137: 920, 2138: 1512, 2139: 1535, 2140: 1787, 2141: 1064, 2142: 1866, 2143: 319, 2144: 1790, 2145: 2397, 2146: 378, 2147: 378, 2148: 439, 2149: 583, 2150: 2328, 2151: 1840, 2152: 2141, 2153: 1510, 2154: 2203, 2155: 1485, 2156: 2655, 2157: 1937, 2158: 182, 2159: 2485, 2160: 2595, 2161: 643, 2162: 2628, 2163: 1627, 2164: 2510, 2165: 833, 2166: 1159, 2167: 2022, 2168: 2180, 2169: 582, 2170: 520, 2171: 1640, 2172: 52, 2173: 791, 2174: 1314, 2175: 1314, 2176: 582, 2177: 2542, 2178: 1390, 2179: 2126, 2180: 174, 2181: 189, 2182: 1079, 2183: 1723, 2184: 902, 2185: 1407, 2186: 2407, 2187: 494, 2188: 1640, 2189: 124, 2190: 2272, 2191: 918, 2192: 2126, 2193: 2102, 2194: 227, 2195: 227, 2196: 813, 2197: 2130, 2198: 314, 2199: 1928, 2200: 2418, 2201: 1552, 2202: 2433, 2203: 211, 2204: 2557, 2205: 152, 2206: 2641, 2207: 2032, 2208: 1356, 2209: 1356, 2210: 1928, 2211: 132, 2212: 1340, 2213: 2705, 2214: 853, 2215: 2484, 2216: 1308, 2217: 344, 2218: 1356, 2219: 587, 2220: 587, 2221: 464, 2222: 2499, 2223: 2499, 2224: 834, 2225: 844, 2226: 856, 2227: 736, 2228: 924, 2229: 638, 2230: 2500, 2231: 2551, 2232: 2229, 2233: 2430, 2234: 2733, 2235: 1318, 2236: 2622, 2237: 470, 2238: 1378, 2239: 510, 2240: 2248, 2241: 2389, 2242: 1567, 2243: 2162, 2244: 2162, 2245: 291, 2246: 2252, 2247: 1287, 2248: 2268, 2249: 496, 2250: 265, 2251: 409, 2252: 731, 2253: 2565, 2254: 2380, 2255: 889, 2256: 1346, 2257: 1474, 2258: 2183, 2259: 1244, 2260: 70, 2261: 929, 2262: 2703, 2263: 224, 2264: 807, 2265: 1139, 2266: 158, 2267: 344, 2268: 1328, 2269: 1222, 2270: 2050, 2271: 1801, 2272: 858, 2273: 91, 2274: 623, 2275: 1185, 2276: 1297, 2277: 2241, 2278: 517, 2279: 1240, 2280: 2601, 2281: 2595, 2282: 1140, 2283: 1140, 2284: 408, 2285: 2239, 2286: 2368, 2287: 1340, 2288: 2733, 2289: 2510, 2290: 1231, 2291: 2192, 2292: 1305, 2293: 201, 2294: 575, 2295: 630, 2296: 630, 2297: 2695, 2298: 534, 2299: 1455, 2300: 387, 2301: 2706, 2302: 352, 2303: 1315, 2304: 1927, 2305: 994, 2306: 933, 2307: 1050, 2308: 2496, 2309: 158, 2310: 757, 2311: 163, 2312: 2544, 2313: 2538, 2314: 866, 2315: 2743, 2316: 379, 2317: 1445, 2318: 965, 2319: 479, 2320: 2461, 2321: 480, 2322: 2196, 2323: 1300, 2324: 1830, 2325: 1232, 2326: 541, 2327: 2052, 2328: 2558, 2329: 2086, 2330: 2633, 2331: 603, 2332: 2525, 2333: 976, 2334: 976, 2335: 1441, 2336: 1946, 2337: 1430, 2338: 751, 2339: 1576, 2340: 1430, 2341: 605, 2342: 2146, 2343: 2454, 2344: 496, 2345: 2454, 2346: 2276, 2347: 1299, 2348: 2707, 2349: 844, 2350: 2052, 2351: 561, 2352: 561, 2353: 612, 2354: 117, 2355: 31, 2356: 2368, 2357: 861, 2358: 2580, 2359: 41, 2360: 41, 2361: 683, 2362: 1064, 2363: 1971, 2364: 332, 2365: 1064, 2366: 1772, 2367: 605, 2368: 2458, 2369: 2756, 2370: 55, 2371: 608, 2372: 1325, 2373: 117, 2374: 550, 2375: 1495, 2376: 2748, 2377: 1055, 2378: 369, 2379: 14, 2380: 104, 2381: 1473, 2382: 305, 2383: 2032, 2384: 2299, 2385: 2337, 2386: 2337, 2387: 2584, 2388: 2676, 2389: 700, 2390: 1450, 2391: 2004, 2392: 520, 2393: 1140, 2394: 205, 2395: 2415, 2396: 1035, 2397: 2280, 2398: 649, 2399: 2447, 2400: 1961, 2401: 1223, 2402: 1223, 2403: 1856, 2404: 162, 2405: 1091, 2406: 2480, 2407: 1498, 2408: 2480, 2409: 106, 2410: 1534, 2411: 2533, 2412: 2684, 2413: 1661, 2414: 522, 2415: 235, 2416: 1074, 2417: 2625, 2418: 735, 2419: 1378, 2420: 1583, 2421: 2551, 2422: 2601, 2423: 2601, 2424: 1835, 2425: 382, 2426: 1091, 2427: 1654, 2428: 510, 2429: 1013, 2430: 2054, 2431: 829, 2432: 618, 2433: 1091, 2434: 912, 2435: 1342, 2436: 2124, 2437: 1017, 2438: 1992, 2439: 862, 2440: 2586, 2441: 2036, 2442: 2469, 2443: 1917, 2444: 699, 2445: 1750, 2446: 752, 2447: 1043, 2448: 544, 2449: 924, 2450: 1559, 2451: 1640, 2452: 1986, 2453: 2004, 2454: 843, 2455: 1674, 2456: 535, 2457: 752, 2458: 2531, 2459: 2411, 2460: 2633, 2461: 759, 2462: 388, 2463: 114, 2464: 2609, 2465: 2171, 2466: 1916, 2467: 2544, 2468: 1035, 2469: 707, 2470: 415, 2471: 683, 2472: 2580, 2473: 1633, 2474: 707, 2475: 352, 2476: 399, 2477: 651, 2478: 1621, 2479: 2782, 2480: 1547, 2481: 541, 2482: 1399, 2483: 2271, 2484: 1630, 2485: 1378, 2486: 10, 2487: 2508, 2488: 589, 2489: 1496, 2490: 1037, 2491: 1580, 2492: 1789, 2493: 65, 2494: 1617, 2495: 2293, 2496: 1340, 2497: 2763, 2498: 1324, 2499: 769, 2500: 796, 2501: 2454, 2502: 1089, 2503: 793, 2504: 2115, 2505: 2547, 2506: 1350, 2507: 1394, 2508: 1350, 2509: 1350, 2510: 1543, 2511: 15, 2512: 1179, 2513: 533, 2514: 138, 2515: 1609, 2516: 2184, 2517: 1867, 2518: 461, 2519: 1746, 2520: 662, 2521: 1097, 2522: 2388, 2523: 599, 2524: 2780, 2525: 2686, 2526: 79, 2527: 1879, 2528: 530, 2529: 382, 2530: 1795, 2531: 1608, 2532: 123, 2533: 123, 2534: 2288, 2535: 2160, 2536: 1309, 2537: 1818, 2538: 927, 2539: 525, 2540: 1995, 2541: 900, 2542: 900, 2543: 1185, 2544: 271, 2545: 2272, 2546: 319, 2547: 1451, 2548: 1995, 2549: 2491, 2550: 2491, 2551: 2272, 2552: 13, 2553: 378, 2554: 150, 2555: 150, 2556: 466, 2557: 1407, 2558: 1440, 2559: 2165, 2560: 2085, 2561: 1668, 2562: 1669, 2563: 1049, 2564: 1095, 2565: 2018, 2566: 2487, 2567: 2526, 2568: 130, 2569: 90, 2570: 2621, 2571: 2762, 2572: 1017, 2573: 2002, 2574: 1342, 2575: 23, 2576: 2043, 2577: 2622, 2578: 102, 2579: 1064, 2580: 1927, 2581: 2033, 2582: 1035, 2583: 1502, 2584: 50, 2585: 1610, 2586: 381, 2587: 1485, 2588: 1616, 2589: 2487, 2590: 2428, 2591: 964, 2592: 1769, 2593: 1657, 2594: 273, 2595: 273, 2596: 1236, 2597: 1287, 2598: 1295, 2599: 1287, 2600: 1287, 2601: 1734, 2602: 155, 2603: 1995, 2604: 1967, 2605: 1468, 2606: 2275, 2607: 2275, 2608: 465, 2609: 651, 2610: 651, 2611: 1263, 2612: 651, 2613: 935, 2614: 1547, 2615: 1372, 2616: 1263, 2617: 1738, 2618: 894, 2619: 1953, 2620: 1021, 2621: 1372, 2622: 1396, 2623: 2487, 2624: 2487, 2625: 1567, 2626: 1912, 2627: 967, 2628: 430, 2629: 2163, 2630: 363, 2631: 287, 2632: 1663, 2633: 2246, 2634: 239, 2635: 2043, 2636: 239, 2637: 187, 2638: 1123, 2639: 1123, 2640: 49, 2641: 187, 2642: 1902, 2643: 2216, 2644: 594, 2645: 1457, 2646: 585, 2647: 544, 2648: 2222, 2649: 76, 2650: 737, 2651: 2543, 2652: 942, 2653: 1787, 2654: 1787, 2655: 1787, 2656: 1680, 2657: 1343, 2658: 108, 2659: 1110, 2660: 2360, 2661: 271, 2662: 1682, 2663: 2393, 2664: 2393, 2665: 1881, 2666: 254, 2667: 213, 2668: 213, 2669: 2629, 2670: 1091, 2671: 1938, 2672: 184, 2673: 683, 2674: 1522, 2675: 1120, 2676: 1126, 2677: 569, 2678: 1595, 2679: 1585, 2680: 1917, 2681: 2747, 2682: 288, 2683: 2405, 2684: 201, 2685: 2651, 2686: 1785, 2687: 1275, 2688: 1634, 2689: 601, 2690: 2447, 2691: 395, 2692: 1385, 2693: 915, 2694: 970, 2695: 2368, 2696: 2368, 2697: 1915, 2698: 1915, 2699: 2295, 2700: 1690, 2701: 2056, 2702: 1415, 2703: 1089, 2704: 2516, 2705: 393, 2706: 1744, 2707: 2394, 2708: 325, 2709: 1381, 2710: 1547, 2711: 540, 2712: 2479, 2713: 865, 2714: 1867, 2715: 1181, 2716: 2322, 2717: 120, 2718: 1385, 2719: 826, 2720: 298, 2721: 1796, 2722: 474, 2723: 1308, 2724: 41, 2725: 2522, 2726: 1001, 2727: 1995, 2728: 135, 2729: 2124, 2730: 1421, 2731: 1021, 2732: 829, 2733: 873, 2734: 1879, 2735: 1863, 2736: 1116, 2737: 2465, 2738: 1031, 2739: 864, 2740: 2243, 2741: 2399, 2742: 2322, 2743: 1305, 2744: 1912, 2745: 469, 2746: 1773, 2747: 1355, 2748: 1938, 2749: 245, 2750: 935, 2751: 1981, 2752: 1721, 2753: 2035, 2754: 213, 2755: 1969, 2756: 1578, 2757: 1578, 2758: 918, 2759: 1091, 2760: 1074, 2761: 1816, 2762: 2035, 2763: 1087, 2764: 543, 2765: 226, 2766: 1985, 2767: 1238, 2768: 1238, 2769: 1863, 2770: 1863, 2771: 441, 2772: 1615, 2773: 2543, 2774: 1482, 2775: 2574, 2776: 792, 2777: 976, 2778: 594, 2779: 1942, 2780: 245, 2781: 1915, 2782: 1590}\n"
          ]
        }
      ]
    },
    {
      "cell_type": "code",
      "source": [
        "import csv\n",
        "\n",
        "with open('Node_mappings_final2.csv', 'w', newline='') as csvfile:\n",
        "    fieldnames = ['g1', 'g2']\n",
        "    writer = csv.DictWriter(csvfile, fieldnames=fieldnames)\n",
        "\n",
        "    writer.writeheader()\n",
        "    for node_g1, node_g2 in predicted_correspondences2.items():\n",
        "        writer.writerow({'g1': node_g1, 'g2': node_g2})"
      ],
      "metadata": {
        "id": "VYAIgrgwS2un"
      },
      "execution_count": null,
      "outputs": []
    }
  ]
}