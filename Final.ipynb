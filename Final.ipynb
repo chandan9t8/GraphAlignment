{
  "nbformat": 4,
  "nbformat_minor": 0,
  "metadata": {
    "colab": {
      "provenance": [],
      "include_colab_link": true
    },
    "kernelspec": {
      "name": "python3",
      "display_name": "Python 3"
    },
    "language_info": {
      "name": "python"
    },
    "widgets": {
      "application/vnd.jupyter.widget-state+json": {
        "a3e615d0a863492cbb6952fab41b63c4": {
          "model_module": "@jupyter-widgets/controls",
          "model_name": "HBoxModel",
          "model_module_version": "1.5.0",
          "state": {
            "_dom_classes": [],
            "_model_module": "@jupyter-widgets/controls",
            "_model_module_version": "1.5.0",
            "_model_name": "HBoxModel",
            "_view_count": null,
            "_view_module": "@jupyter-widgets/controls",
            "_view_module_version": "1.5.0",
            "_view_name": "HBoxView",
            "box_style": "",
            "children": [
              "IPY_MODEL_ffbfe31b7e7f415fa486f64d76c06a5c",
              "IPY_MODEL_b9fac3b0742041d89964baec0f9b4aa7",
              "IPY_MODEL_98061673079941cfa8cf73cf8e34506b"
            ],
            "layout": "IPY_MODEL_6a369a7d12f9468da14520222a9b42df"
          }
        },
        "ffbfe31b7e7f415fa486f64d76c06a5c": {
          "model_module": "@jupyter-widgets/controls",
          "model_name": "HTMLModel",
          "model_module_version": "1.5.0",
          "state": {
            "_dom_classes": [],
            "_model_module": "@jupyter-widgets/controls",
            "_model_module_version": "1.5.0",
            "_model_name": "HTMLModel",
            "_view_count": null,
            "_view_module": "@jupyter-widgets/controls",
            "_view_module_version": "1.5.0",
            "_view_name": "HTMLView",
            "description": "",
            "description_tooltip": null,
            "layout": "IPY_MODEL_8098d1153bb540acbaf3d0ac97c87fa4",
            "placeholder": "​",
            "style": "IPY_MODEL_4fd806d7a1554a6386ab806c6782e595",
            "value": "Computing transition probabilities: 100%"
          }
        },
        "b9fac3b0742041d89964baec0f9b4aa7": {
          "model_module": "@jupyter-widgets/controls",
          "model_name": "FloatProgressModel",
          "model_module_version": "1.5.0",
          "state": {
            "_dom_classes": [],
            "_model_module": "@jupyter-widgets/controls",
            "_model_module_version": "1.5.0",
            "_model_name": "FloatProgressModel",
            "_view_count": null,
            "_view_module": "@jupyter-widgets/controls",
            "_view_module_version": "1.5.0",
            "_view_name": "ProgressView",
            "bar_style": "success",
            "description": "",
            "description_tooltip": null,
            "layout": "IPY_MODEL_e6da2219cade44e384a367b6b69edefa",
            "max": 4941,
            "min": 0,
            "orientation": "horizontal",
            "style": "IPY_MODEL_fc0c91af10dc403aa024cf0b854b96a4",
            "value": 4941
          }
        },
        "98061673079941cfa8cf73cf8e34506b": {
          "model_module": "@jupyter-widgets/controls",
          "model_name": "HTMLModel",
          "model_module_version": "1.5.0",
          "state": {
            "_dom_classes": [],
            "_model_module": "@jupyter-widgets/controls",
            "_model_module_version": "1.5.0",
            "_model_name": "HTMLModel",
            "_view_count": null,
            "_view_module": "@jupyter-widgets/controls",
            "_view_module_version": "1.5.0",
            "_view_name": "HTMLView",
            "description": "",
            "description_tooltip": null,
            "layout": "IPY_MODEL_0ad031c2bfce4c4e967bccbfe7159212",
            "placeholder": "​",
            "style": "IPY_MODEL_ab5cc3429cd4421c8b2504b52fc48ee7",
            "value": " 4941/4941 [00:00&lt;00:00, 6422.02it/s]"
          }
        },
        "6a369a7d12f9468da14520222a9b42df": {
          "model_module": "@jupyter-widgets/base",
          "model_name": "LayoutModel",
          "model_module_version": "1.2.0",
          "state": {
            "_model_module": "@jupyter-widgets/base",
            "_model_module_version": "1.2.0",
            "_model_name": "LayoutModel",
            "_view_count": null,
            "_view_module": "@jupyter-widgets/base",
            "_view_module_version": "1.2.0",
            "_view_name": "LayoutView",
            "align_content": null,
            "align_items": null,
            "align_self": null,
            "border": null,
            "bottom": null,
            "display": null,
            "flex": null,
            "flex_flow": null,
            "grid_area": null,
            "grid_auto_columns": null,
            "grid_auto_flow": null,
            "grid_auto_rows": null,
            "grid_column": null,
            "grid_gap": null,
            "grid_row": null,
            "grid_template_areas": null,
            "grid_template_columns": null,
            "grid_template_rows": null,
            "height": null,
            "justify_content": null,
            "justify_items": null,
            "left": null,
            "margin": null,
            "max_height": null,
            "max_width": null,
            "min_height": null,
            "min_width": null,
            "object_fit": null,
            "object_position": null,
            "order": null,
            "overflow": null,
            "overflow_x": null,
            "overflow_y": null,
            "padding": null,
            "right": null,
            "top": null,
            "visibility": null,
            "width": null
          }
        },
        "8098d1153bb540acbaf3d0ac97c87fa4": {
          "model_module": "@jupyter-widgets/base",
          "model_name": "LayoutModel",
          "model_module_version": "1.2.0",
          "state": {
            "_model_module": "@jupyter-widgets/base",
            "_model_module_version": "1.2.0",
            "_model_name": "LayoutModel",
            "_view_count": null,
            "_view_module": "@jupyter-widgets/base",
            "_view_module_version": "1.2.0",
            "_view_name": "LayoutView",
            "align_content": null,
            "align_items": null,
            "align_self": null,
            "border": null,
            "bottom": null,
            "display": null,
            "flex": null,
            "flex_flow": null,
            "grid_area": null,
            "grid_auto_columns": null,
            "grid_auto_flow": null,
            "grid_auto_rows": null,
            "grid_column": null,
            "grid_gap": null,
            "grid_row": null,
            "grid_template_areas": null,
            "grid_template_columns": null,
            "grid_template_rows": null,
            "height": null,
            "justify_content": null,
            "justify_items": null,
            "left": null,
            "margin": null,
            "max_height": null,
            "max_width": null,
            "min_height": null,
            "min_width": null,
            "object_fit": null,
            "object_position": null,
            "order": null,
            "overflow": null,
            "overflow_x": null,
            "overflow_y": null,
            "padding": null,
            "right": null,
            "top": null,
            "visibility": null,
            "width": null
          }
        },
        "4fd806d7a1554a6386ab806c6782e595": {
          "model_module": "@jupyter-widgets/controls",
          "model_name": "DescriptionStyleModel",
          "model_module_version": "1.5.0",
          "state": {
            "_model_module": "@jupyter-widgets/controls",
            "_model_module_version": "1.5.0",
            "_model_name": "DescriptionStyleModel",
            "_view_count": null,
            "_view_module": "@jupyter-widgets/base",
            "_view_module_version": "1.2.0",
            "_view_name": "StyleView",
            "description_width": ""
          }
        },
        "e6da2219cade44e384a367b6b69edefa": {
          "model_module": "@jupyter-widgets/base",
          "model_name": "LayoutModel",
          "model_module_version": "1.2.0",
          "state": {
            "_model_module": "@jupyter-widgets/base",
            "_model_module_version": "1.2.0",
            "_model_name": "LayoutModel",
            "_view_count": null,
            "_view_module": "@jupyter-widgets/base",
            "_view_module_version": "1.2.0",
            "_view_name": "LayoutView",
            "align_content": null,
            "align_items": null,
            "align_self": null,
            "border": null,
            "bottom": null,
            "display": null,
            "flex": null,
            "flex_flow": null,
            "grid_area": null,
            "grid_auto_columns": null,
            "grid_auto_flow": null,
            "grid_auto_rows": null,
            "grid_column": null,
            "grid_gap": null,
            "grid_row": null,
            "grid_template_areas": null,
            "grid_template_columns": null,
            "grid_template_rows": null,
            "height": null,
            "justify_content": null,
            "justify_items": null,
            "left": null,
            "margin": null,
            "max_height": null,
            "max_width": null,
            "min_height": null,
            "min_width": null,
            "object_fit": null,
            "object_position": null,
            "order": null,
            "overflow": null,
            "overflow_x": null,
            "overflow_y": null,
            "padding": null,
            "right": null,
            "top": null,
            "visibility": null,
            "width": null
          }
        },
        "fc0c91af10dc403aa024cf0b854b96a4": {
          "model_module": "@jupyter-widgets/controls",
          "model_name": "ProgressStyleModel",
          "model_module_version": "1.5.0",
          "state": {
            "_model_module": "@jupyter-widgets/controls",
            "_model_module_version": "1.5.0",
            "_model_name": "ProgressStyleModel",
            "_view_count": null,
            "_view_module": "@jupyter-widgets/base",
            "_view_module_version": "1.2.0",
            "_view_name": "StyleView",
            "bar_color": null,
            "description_width": ""
          }
        },
        "0ad031c2bfce4c4e967bccbfe7159212": {
          "model_module": "@jupyter-widgets/base",
          "model_name": "LayoutModel",
          "model_module_version": "1.2.0",
          "state": {
            "_model_module": "@jupyter-widgets/base",
            "_model_module_version": "1.2.0",
            "_model_name": "LayoutModel",
            "_view_count": null,
            "_view_module": "@jupyter-widgets/base",
            "_view_module_version": "1.2.0",
            "_view_name": "LayoutView",
            "align_content": null,
            "align_items": null,
            "align_self": null,
            "border": null,
            "bottom": null,
            "display": null,
            "flex": null,
            "flex_flow": null,
            "grid_area": null,
            "grid_auto_columns": null,
            "grid_auto_flow": null,
            "grid_auto_rows": null,
            "grid_column": null,
            "grid_gap": null,
            "grid_row": null,
            "grid_template_areas": null,
            "grid_template_columns": null,
            "grid_template_rows": null,
            "height": null,
            "justify_content": null,
            "justify_items": null,
            "left": null,
            "margin": null,
            "max_height": null,
            "max_width": null,
            "min_height": null,
            "min_width": null,
            "object_fit": null,
            "object_position": null,
            "order": null,
            "overflow": null,
            "overflow_x": null,
            "overflow_y": null,
            "padding": null,
            "right": null,
            "top": null,
            "visibility": null,
            "width": null
          }
        },
        "ab5cc3429cd4421c8b2504b52fc48ee7": {
          "model_module": "@jupyter-widgets/controls",
          "model_name": "DescriptionStyleModel",
          "model_module_version": "1.5.0",
          "state": {
            "_model_module": "@jupyter-widgets/controls",
            "_model_module_version": "1.5.0",
            "_model_name": "DescriptionStyleModel",
            "_view_count": null,
            "_view_module": "@jupyter-widgets/base",
            "_view_module_version": "1.2.0",
            "_view_name": "StyleView",
            "description_width": ""
          }
        },
        "c96165888ae142f5afb8348dce379a6f": {
          "model_module": "@jupyter-widgets/controls",
          "model_name": "HBoxModel",
          "model_module_version": "1.5.0",
          "state": {
            "_dom_classes": [],
            "_model_module": "@jupyter-widgets/controls",
            "_model_module_version": "1.5.0",
            "_model_name": "HBoxModel",
            "_view_count": null,
            "_view_module": "@jupyter-widgets/controls",
            "_view_module_version": "1.5.0",
            "_view_name": "HBoxView",
            "box_style": "",
            "children": [
              "IPY_MODEL_f555c7655c9445f5bfa3ece034a28279",
              "IPY_MODEL_2f06de23878d4213a05fe6790a081be9",
              "IPY_MODEL_c685cd41e738488e8184712cebcb04eb"
            ],
            "layout": "IPY_MODEL_056ed022cc2d499482cb7bda23f2ee84"
          }
        },
        "f555c7655c9445f5bfa3ece034a28279": {
          "model_module": "@jupyter-widgets/controls",
          "model_name": "HTMLModel",
          "model_module_version": "1.5.0",
          "state": {
            "_dom_classes": [],
            "_model_module": "@jupyter-widgets/controls",
            "_model_module_version": "1.5.0",
            "_model_name": "HTMLModel",
            "_view_count": null,
            "_view_module": "@jupyter-widgets/controls",
            "_view_module_version": "1.5.0",
            "_view_name": "HTMLView",
            "description": "",
            "description_tooltip": null,
            "layout": "IPY_MODEL_1b453d759825488c9571f7700047fae6",
            "placeholder": "​",
            "style": "IPY_MODEL_aca72cb1a4ad4c549f78f87bff9e27d9",
            "value": "Computing transition probabilities: 100%"
          }
        },
        "2f06de23878d4213a05fe6790a081be9": {
          "model_module": "@jupyter-widgets/controls",
          "model_name": "FloatProgressModel",
          "model_module_version": "1.5.0",
          "state": {
            "_dom_classes": [],
            "_model_module": "@jupyter-widgets/controls",
            "_model_module_version": "1.5.0",
            "_model_name": "FloatProgressModel",
            "_view_count": null,
            "_view_module": "@jupyter-widgets/controls",
            "_view_module_version": "1.5.0",
            "_view_name": "ProgressView",
            "bar_style": "success",
            "description": "",
            "description_tooltip": null,
            "layout": "IPY_MODEL_4babd9747f2e4cf48f8c745b76626b08",
            "max": 4941,
            "min": 0,
            "orientation": "horizontal",
            "style": "IPY_MODEL_df1363e3bd6c4a55a1d20bfc97407290",
            "value": 4941
          }
        },
        "c685cd41e738488e8184712cebcb04eb": {
          "model_module": "@jupyter-widgets/controls",
          "model_name": "HTMLModel",
          "model_module_version": "1.5.0",
          "state": {
            "_dom_classes": [],
            "_model_module": "@jupyter-widgets/controls",
            "_model_module_version": "1.5.0",
            "_model_name": "HTMLModel",
            "_view_count": null,
            "_view_module": "@jupyter-widgets/controls",
            "_view_module_version": "1.5.0",
            "_view_name": "HTMLView",
            "description": "",
            "description_tooltip": null,
            "layout": "IPY_MODEL_53e516de44d4460fb09ae430cfcd6009",
            "placeholder": "​",
            "style": "IPY_MODEL_f391c3d7c16e429091f521e4affab87d",
            "value": " 4941/4941 [00:00&lt;00:00, 8022.15it/s]"
          }
        },
        "056ed022cc2d499482cb7bda23f2ee84": {
          "model_module": "@jupyter-widgets/base",
          "model_name": "LayoutModel",
          "model_module_version": "1.2.0",
          "state": {
            "_model_module": "@jupyter-widgets/base",
            "_model_module_version": "1.2.0",
            "_model_name": "LayoutModel",
            "_view_count": null,
            "_view_module": "@jupyter-widgets/base",
            "_view_module_version": "1.2.0",
            "_view_name": "LayoutView",
            "align_content": null,
            "align_items": null,
            "align_self": null,
            "border": null,
            "bottom": null,
            "display": null,
            "flex": null,
            "flex_flow": null,
            "grid_area": null,
            "grid_auto_columns": null,
            "grid_auto_flow": null,
            "grid_auto_rows": null,
            "grid_column": null,
            "grid_gap": null,
            "grid_row": null,
            "grid_template_areas": null,
            "grid_template_columns": null,
            "grid_template_rows": null,
            "height": null,
            "justify_content": null,
            "justify_items": null,
            "left": null,
            "margin": null,
            "max_height": null,
            "max_width": null,
            "min_height": null,
            "min_width": null,
            "object_fit": null,
            "object_position": null,
            "order": null,
            "overflow": null,
            "overflow_x": null,
            "overflow_y": null,
            "padding": null,
            "right": null,
            "top": null,
            "visibility": null,
            "width": null
          }
        },
        "1b453d759825488c9571f7700047fae6": {
          "model_module": "@jupyter-widgets/base",
          "model_name": "LayoutModel",
          "model_module_version": "1.2.0",
          "state": {
            "_model_module": "@jupyter-widgets/base",
            "_model_module_version": "1.2.0",
            "_model_name": "LayoutModel",
            "_view_count": null,
            "_view_module": "@jupyter-widgets/base",
            "_view_module_version": "1.2.0",
            "_view_name": "LayoutView",
            "align_content": null,
            "align_items": null,
            "align_self": null,
            "border": null,
            "bottom": null,
            "display": null,
            "flex": null,
            "flex_flow": null,
            "grid_area": null,
            "grid_auto_columns": null,
            "grid_auto_flow": null,
            "grid_auto_rows": null,
            "grid_column": null,
            "grid_gap": null,
            "grid_row": null,
            "grid_template_areas": null,
            "grid_template_columns": null,
            "grid_template_rows": null,
            "height": null,
            "justify_content": null,
            "justify_items": null,
            "left": null,
            "margin": null,
            "max_height": null,
            "max_width": null,
            "min_height": null,
            "min_width": null,
            "object_fit": null,
            "object_position": null,
            "order": null,
            "overflow": null,
            "overflow_x": null,
            "overflow_y": null,
            "padding": null,
            "right": null,
            "top": null,
            "visibility": null,
            "width": null
          }
        },
        "aca72cb1a4ad4c549f78f87bff9e27d9": {
          "model_module": "@jupyter-widgets/controls",
          "model_name": "DescriptionStyleModel",
          "model_module_version": "1.5.0",
          "state": {
            "_model_module": "@jupyter-widgets/controls",
            "_model_module_version": "1.5.0",
            "_model_name": "DescriptionStyleModel",
            "_view_count": null,
            "_view_module": "@jupyter-widgets/base",
            "_view_module_version": "1.2.0",
            "_view_name": "StyleView",
            "description_width": ""
          }
        },
        "4babd9747f2e4cf48f8c745b76626b08": {
          "model_module": "@jupyter-widgets/base",
          "model_name": "LayoutModel",
          "model_module_version": "1.2.0",
          "state": {
            "_model_module": "@jupyter-widgets/base",
            "_model_module_version": "1.2.0",
            "_model_name": "LayoutModel",
            "_view_count": null,
            "_view_module": "@jupyter-widgets/base",
            "_view_module_version": "1.2.0",
            "_view_name": "LayoutView",
            "align_content": null,
            "align_items": null,
            "align_self": null,
            "border": null,
            "bottom": null,
            "display": null,
            "flex": null,
            "flex_flow": null,
            "grid_area": null,
            "grid_auto_columns": null,
            "grid_auto_flow": null,
            "grid_auto_rows": null,
            "grid_column": null,
            "grid_gap": null,
            "grid_row": null,
            "grid_template_areas": null,
            "grid_template_columns": null,
            "grid_template_rows": null,
            "height": null,
            "justify_content": null,
            "justify_items": null,
            "left": null,
            "margin": null,
            "max_height": null,
            "max_width": null,
            "min_height": null,
            "min_width": null,
            "object_fit": null,
            "object_position": null,
            "order": null,
            "overflow": null,
            "overflow_x": null,
            "overflow_y": null,
            "padding": null,
            "right": null,
            "top": null,
            "visibility": null,
            "width": null
          }
        },
        "df1363e3bd6c4a55a1d20bfc97407290": {
          "model_module": "@jupyter-widgets/controls",
          "model_name": "ProgressStyleModel",
          "model_module_version": "1.5.0",
          "state": {
            "_model_module": "@jupyter-widgets/controls",
            "_model_module_version": "1.5.0",
            "_model_name": "ProgressStyleModel",
            "_view_count": null,
            "_view_module": "@jupyter-widgets/base",
            "_view_module_version": "1.2.0",
            "_view_name": "StyleView",
            "bar_color": null,
            "description_width": ""
          }
        },
        "53e516de44d4460fb09ae430cfcd6009": {
          "model_module": "@jupyter-widgets/base",
          "model_name": "LayoutModel",
          "model_module_version": "1.2.0",
          "state": {
            "_model_module": "@jupyter-widgets/base",
            "_model_module_version": "1.2.0",
            "_model_name": "LayoutModel",
            "_view_count": null,
            "_view_module": "@jupyter-widgets/base",
            "_view_module_version": "1.2.0",
            "_view_name": "LayoutView",
            "align_content": null,
            "align_items": null,
            "align_self": null,
            "border": null,
            "bottom": null,
            "display": null,
            "flex": null,
            "flex_flow": null,
            "grid_area": null,
            "grid_auto_columns": null,
            "grid_auto_flow": null,
            "grid_auto_rows": null,
            "grid_column": null,
            "grid_gap": null,
            "grid_row": null,
            "grid_template_areas": null,
            "grid_template_columns": null,
            "grid_template_rows": null,
            "height": null,
            "justify_content": null,
            "justify_items": null,
            "left": null,
            "margin": null,
            "max_height": null,
            "max_width": null,
            "min_height": null,
            "min_width": null,
            "object_fit": null,
            "object_position": null,
            "order": null,
            "overflow": null,
            "overflow_x": null,
            "overflow_y": null,
            "padding": null,
            "right": null,
            "top": null,
            "visibility": null,
            "width": null
          }
        },
        "f391c3d7c16e429091f521e4affab87d": {
          "model_module": "@jupyter-widgets/controls",
          "model_name": "DescriptionStyleModel",
          "model_module_version": "1.5.0",
          "state": {
            "_model_module": "@jupyter-widgets/controls",
            "_model_module_version": "1.5.0",
            "_model_name": "DescriptionStyleModel",
            "_view_count": null,
            "_view_module": "@jupyter-widgets/base",
            "_view_module_version": "1.2.0",
            "_view_name": "StyleView",
            "description_width": ""
          }
        },
        "0bbf96a458f94c05b25a85e0f4752ce2": {
          "model_module": "@jupyter-widgets/controls",
          "model_name": "HBoxModel",
          "model_module_version": "1.5.0",
          "state": {
            "_dom_classes": [],
            "_model_module": "@jupyter-widgets/controls",
            "_model_module_version": "1.5.0",
            "_model_name": "HBoxModel",
            "_view_count": null,
            "_view_module": "@jupyter-widgets/controls",
            "_view_module_version": "1.5.0",
            "_view_name": "HBoxView",
            "box_style": "",
            "children": [
              "IPY_MODEL_e3d4ecb571c7459ab13e633abc08d7dd",
              "IPY_MODEL_bec4c39dc96844f49b72a620c2f79887",
              "IPY_MODEL_7ce2c8f22d334d819372e54a9ca5d5e6"
            ],
            "layout": "IPY_MODEL_346d74ae360f43faada04575aca66f5c"
          }
        },
        "e3d4ecb571c7459ab13e633abc08d7dd": {
          "model_module": "@jupyter-widgets/controls",
          "model_name": "HTMLModel",
          "model_module_version": "1.5.0",
          "state": {
            "_dom_classes": [],
            "_model_module": "@jupyter-widgets/controls",
            "_model_module_version": "1.5.0",
            "_model_name": "HTMLModel",
            "_view_count": null,
            "_view_module": "@jupyter-widgets/controls",
            "_view_module_version": "1.5.0",
            "_view_name": "HTMLView",
            "description": "",
            "description_tooltip": null,
            "layout": "IPY_MODEL_66f0214eeee74ca6aa64f7f81c301c48",
            "placeholder": "​",
            "style": "IPY_MODEL_cc565e09d8dc4cf99b33bfcfe18ab072",
            "value": "Computing transition probabilities: 100%"
          }
        },
        "bec4c39dc96844f49b72a620c2f79887": {
          "model_module": "@jupyter-widgets/controls",
          "model_name": "FloatProgressModel",
          "model_module_version": "1.5.0",
          "state": {
            "_dom_classes": [],
            "_model_module": "@jupyter-widgets/controls",
            "_model_module_version": "1.5.0",
            "_model_name": "FloatProgressModel",
            "_view_count": null,
            "_view_module": "@jupyter-widgets/controls",
            "_view_module_version": "1.5.0",
            "_view_name": "ProgressView",
            "bar_style": "success",
            "description": "",
            "description_tooltip": null,
            "layout": "IPY_MODEL_c8f1235e73da4b2f8187ae543d17ae2c",
            "max": 2783,
            "min": 0,
            "orientation": "horizontal",
            "style": "IPY_MODEL_b28e789a10a54aefa9e240741c6db971",
            "value": 2783
          }
        },
        "7ce2c8f22d334d819372e54a9ca5d5e6": {
          "model_module": "@jupyter-widgets/controls",
          "model_name": "HTMLModel",
          "model_module_version": "1.5.0",
          "state": {
            "_dom_classes": [],
            "_model_module": "@jupyter-widgets/controls",
            "_model_module_version": "1.5.0",
            "_model_name": "HTMLModel",
            "_view_count": null,
            "_view_module": "@jupyter-widgets/controls",
            "_view_module_version": "1.5.0",
            "_view_name": "HTMLView",
            "description": "",
            "description_tooltip": null,
            "layout": "IPY_MODEL_192c4a0adf7e4b35a2c74ac61cd4d044",
            "placeholder": "​",
            "style": "IPY_MODEL_e896b249657248ba85b487b6f3717506",
            "value": " 2783/2783 [00:02&lt;00:00, 2241.89it/s]"
          }
        },
        "346d74ae360f43faada04575aca66f5c": {
          "model_module": "@jupyter-widgets/base",
          "model_name": "LayoutModel",
          "model_module_version": "1.2.0",
          "state": {
            "_model_module": "@jupyter-widgets/base",
            "_model_module_version": "1.2.0",
            "_model_name": "LayoutModel",
            "_view_count": null,
            "_view_module": "@jupyter-widgets/base",
            "_view_module_version": "1.2.0",
            "_view_name": "LayoutView",
            "align_content": null,
            "align_items": null,
            "align_self": null,
            "border": null,
            "bottom": null,
            "display": null,
            "flex": null,
            "flex_flow": null,
            "grid_area": null,
            "grid_auto_columns": null,
            "grid_auto_flow": null,
            "grid_auto_rows": null,
            "grid_column": null,
            "grid_gap": null,
            "grid_row": null,
            "grid_template_areas": null,
            "grid_template_columns": null,
            "grid_template_rows": null,
            "height": null,
            "justify_content": null,
            "justify_items": null,
            "left": null,
            "margin": null,
            "max_height": null,
            "max_width": null,
            "min_height": null,
            "min_width": null,
            "object_fit": null,
            "object_position": null,
            "order": null,
            "overflow": null,
            "overflow_x": null,
            "overflow_y": null,
            "padding": null,
            "right": null,
            "top": null,
            "visibility": null,
            "width": null
          }
        },
        "66f0214eeee74ca6aa64f7f81c301c48": {
          "model_module": "@jupyter-widgets/base",
          "model_name": "LayoutModel",
          "model_module_version": "1.2.0",
          "state": {
            "_model_module": "@jupyter-widgets/base",
            "_model_module_version": "1.2.0",
            "_model_name": "LayoutModel",
            "_view_count": null,
            "_view_module": "@jupyter-widgets/base",
            "_view_module_version": "1.2.0",
            "_view_name": "LayoutView",
            "align_content": null,
            "align_items": null,
            "align_self": null,
            "border": null,
            "bottom": null,
            "display": null,
            "flex": null,
            "flex_flow": null,
            "grid_area": null,
            "grid_auto_columns": null,
            "grid_auto_flow": null,
            "grid_auto_rows": null,
            "grid_column": null,
            "grid_gap": null,
            "grid_row": null,
            "grid_template_areas": null,
            "grid_template_columns": null,
            "grid_template_rows": null,
            "height": null,
            "justify_content": null,
            "justify_items": null,
            "left": null,
            "margin": null,
            "max_height": null,
            "max_width": null,
            "min_height": null,
            "min_width": null,
            "object_fit": null,
            "object_position": null,
            "order": null,
            "overflow": null,
            "overflow_x": null,
            "overflow_y": null,
            "padding": null,
            "right": null,
            "top": null,
            "visibility": null,
            "width": null
          }
        },
        "cc565e09d8dc4cf99b33bfcfe18ab072": {
          "model_module": "@jupyter-widgets/controls",
          "model_name": "DescriptionStyleModel",
          "model_module_version": "1.5.0",
          "state": {
            "_model_module": "@jupyter-widgets/controls",
            "_model_module_version": "1.5.0",
            "_model_name": "DescriptionStyleModel",
            "_view_count": null,
            "_view_module": "@jupyter-widgets/base",
            "_view_module_version": "1.2.0",
            "_view_name": "StyleView",
            "description_width": ""
          }
        },
        "c8f1235e73da4b2f8187ae543d17ae2c": {
          "model_module": "@jupyter-widgets/base",
          "model_name": "LayoutModel",
          "model_module_version": "1.2.0",
          "state": {
            "_model_module": "@jupyter-widgets/base",
            "_model_module_version": "1.2.0",
            "_model_name": "LayoutModel",
            "_view_count": null,
            "_view_module": "@jupyter-widgets/base",
            "_view_module_version": "1.2.0",
            "_view_name": "LayoutView",
            "align_content": null,
            "align_items": null,
            "align_self": null,
            "border": null,
            "bottom": null,
            "display": null,
            "flex": null,
            "flex_flow": null,
            "grid_area": null,
            "grid_auto_columns": null,
            "grid_auto_flow": null,
            "grid_auto_rows": null,
            "grid_column": null,
            "grid_gap": null,
            "grid_row": null,
            "grid_template_areas": null,
            "grid_template_columns": null,
            "grid_template_rows": null,
            "height": null,
            "justify_content": null,
            "justify_items": null,
            "left": null,
            "margin": null,
            "max_height": null,
            "max_width": null,
            "min_height": null,
            "min_width": null,
            "object_fit": null,
            "object_position": null,
            "order": null,
            "overflow": null,
            "overflow_x": null,
            "overflow_y": null,
            "padding": null,
            "right": null,
            "top": null,
            "visibility": null,
            "width": null
          }
        },
        "b28e789a10a54aefa9e240741c6db971": {
          "model_module": "@jupyter-widgets/controls",
          "model_name": "ProgressStyleModel",
          "model_module_version": "1.5.0",
          "state": {
            "_model_module": "@jupyter-widgets/controls",
            "_model_module_version": "1.5.0",
            "_model_name": "ProgressStyleModel",
            "_view_count": null,
            "_view_module": "@jupyter-widgets/base",
            "_view_module_version": "1.2.0",
            "_view_name": "StyleView",
            "bar_color": null,
            "description_width": ""
          }
        },
        "192c4a0adf7e4b35a2c74ac61cd4d044": {
          "model_module": "@jupyter-widgets/base",
          "model_name": "LayoutModel",
          "model_module_version": "1.2.0",
          "state": {
            "_model_module": "@jupyter-widgets/base",
            "_model_module_version": "1.2.0",
            "_model_name": "LayoutModel",
            "_view_count": null,
            "_view_module": "@jupyter-widgets/base",
            "_view_module_version": "1.2.0",
            "_view_name": "LayoutView",
            "align_content": null,
            "align_items": null,
            "align_self": null,
            "border": null,
            "bottom": null,
            "display": null,
            "flex": null,
            "flex_flow": null,
            "grid_area": null,
            "grid_auto_columns": null,
            "grid_auto_flow": null,
            "grid_auto_rows": null,
            "grid_column": null,
            "grid_gap": null,
            "grid_row": null,
            "grid_template_areas": null,
            "grid_template_columns": null,
            "grid_template_rows": null,
            "height": null,
            "justify_content": null,
            "justify_items": null,
            "left": null,
            "margin": null,
            "max_height": null,
            "max_width": null,
            "min_height": null,
            "min_width": null,
            "object_fit": null,
            "object_position": null,
            "order": null,
            "overflow": null,
            "overflow_x": null,
            "overflow_y": null,
            "padding": null,
            "right": null,
            "top": null,
            "visibility": null,
            "width": null
          }
        },
        "e896b249657248ba85b487b6f3717506": {
          "model_module": "@jupyter-widgets/controls",
          "model_name": "DescriptionStyleModel",
          "model_module_version": "1.5.0",
          "state": {
            "_model_module": "@jupyter-widgets/controls",
            "_model_module_version": "1.5.0",
            "_model_name": "DescriptionStyleModel",
            "_view_count": null,
            "_view_module": "@jupyter-widgets/base",
            "_view_module_version": "1.2.0",
            "_view_name": "StyleView",
            "description_width": ""
          }
        },
        "795de5d81d6f490a866194c32cd6c05d": {
          "model_module": "@jupyter-widgets/controls",
          "model_name": "HBoxModel",
          "model_module_version": "1.5.0",
          "state": {
            "_dom_classes": [],
            "_model_module": "@jupyter-widgets/controls",
            "_model_module_version": "1.5.0",
            "_model_name": "HBoxModel",
            "_view_count": null,
            "_view_module": "@jupyter-widgets/controls",
            "_view_module_version": "1.5.0",
            "_view_name": "HBoxView",
            "box_style": "",
            "children": [
              "IPY_MODEL_459691bda2fc480eb82f820554f9daaf",
              "IPY_MODEL_6c9d9414d64240df92c183f08e7bd0ee",
              "IPY_MODEL_1f5044f9d04842188d3f1b50c3b12875"
            ],
            "layout": "IPY_MODEL_b8233c4f4f3f48fa96bc459f89f86cc7"
          }
        },
        "459691bda2fc480eb82f820554f9daaf": {
          "model_module": "@jupyter-widgets/controls",
          "model_name": "HTMLModel",
          "model_module_version": "1.5.0",
          "state": {
            "_dom_classes": [],
            "_model_module": "@jupyter-widgets/controls",
            "_model_module_version": "1.5.0",
            "_model_name": "HTMLModel",
            "_view_count": null,
            "_view_module": "@jupyter-widgets/controls",
            "_view_module_version": "1.5.0",
            "_view_name": "HTMLView",
            "description": "",
            "description_tooltip": null,
            "layout": "IPY_MODEL_7c72abc4819c473597b6a41becda16f4",
            "placeholder": "​",
            "style": "IPY_MODEL_7bea3f0957db479aba03b9ff533c4211",
            "value": "Computing transition probabilities: 100%"
          }
        },
        "6c9d9414d64240df92c183f08e7bd0ee": {
          "model_module": "@jupyter-widgets/controls",
          "model_name": "FloatProgressModel",
          "model_module_version": "1.5.0",
          "state": {
            "_dom_classes": [],
            "_model_module": "@jupyter-widgets/controls",
            "_model_module_version": "1.5.0",
            "_model_name": "FloatProgressModel",
            "_view_count": null,
            "_view_module": "@jupyter-widgets/controls",
            "_view_module_version": "1.5.0",
            "_view_name": "ProgressView",
            "bar_style": "success",
            "description": "",
            "description_tooltip": null,
            "layout": "IPY_MODEL_191dfa6bfaeb47c888ba32200e20929c",
            "max": 2783,
            "min": 0,
            "orientation": "horizontal",
            "style": "IPY_MODEL_ed8f0930611c45f7a2226dfec414cbe4",
            "value": 2783
          }
        },
        "1f5044f9d04842188d3f1b50c3b12875": {
          "model_module": "@jupyter-widgets/controls",
          "model_name": "HTMLModel",
          "model_module_version": "1.5.0",
          "state": {
            "_dom_classes": [],
            "_model_module": "@jupyter-widgets/controls",
            "_model_module_version": "1.5.0",
            "_model_name": "HTMLModel",
            "_view_count": null,
            "_view_module": "@jupyter-widgets/controls",
            "_view_module_version": "1.5.0",
            "_view_name": "HTMLView",
            "description": "",
            "description_tooltip": null,
            "layout": "IPY_MODEL_72ffabe5f63844f6a101c72bc61bee76",
            "placeholder": "​",
            "style": "IPY_MODEL_d8714627840a4390a90120deb82916d5",
            "value": " 2783/2783 [00:01&lt;00:00, 2820.26it/s]"
          }
        },
        "b8233c4f4f3f48fa96bc459f89f86cc7": {
          "model_module": "@jupyter-widgets/base",
          "model_name": "LayoutModel",
          "model_module_version": "1.2.0",
          "state": {
            "_model_module": "@jupyter-widgets/base",
            "_model_module_version": "1.2.0",
            "_model_name": "LayoutModel",
            "_view_count": null,
            "_view_module": "@jupyter-widgets/base",
            "_view_module_version": "1.2.0",
            "_view_name": "LayoutView",
            "align_content": null,
            "align_items": null,
            "align_self": null,
            "border": null,
            "bottom": null,
            "display": null,
            "flex": null,
            "flex_flow": null,
            "grid_area": null,
            "grid_auto_columns": null,
            "grid_auto_flow": null,
            "grid_auto_rows": null,
            "grid_column": null,
            "grid_gap": null,
            "grid_row": null,
            "grid_template_areas": null,
            "grid_template_columns": null,
            "grid_template_rows": null,
            "height": null,
            "justify_content": null,
            "justify_items": null,
            "left": null,
            "margin": null,
            "max_height": null,
            "max_width": null,
            "min_height": null,
            "min_width": null,
            "object_fit": null,
            "object_position": null,
            "order": null,
            "overflow": null,
            "overflow_x": null,
            "overflow_y": null,
            "padding": null,
            "right": null,
            "top": null,
            "visibility": null,
            "width": null
          }
        },
        "7c72abc4819c473597b6a41becda16f4": {
          "model_module": "@jupyter-widgets/base",
          "model_name": "LayoutModel",
          "model_module_version": "1.2.0",
          "state": {
            "_model_module": "@jupyter-widgets/base",
            "_model_module_version": "1.2.0",
            "_model_name": "LayoutModel",
            "_view_count": null,
            "_view_module": "@jupyter-widgets/base",
            "_view_module_version": "1.2.0",
            "_view_name": "LayoutView",
            "align_content": null,
            "align_items": null,
            "align_self": null,
            "border": null,
            "bottom": null,
            "display": null,
            "flex": null,
            "flex_flow": null,
            "grid_area": null,
            "grid_auto_columns": null,
            "grid_auto_flow": null,
            "grid_auto_rows": null,
            "grid_column": null,
            "grid_gap": null,
            "grid_row": null,
            "grid_template_areas": null,
            "grid_template_columns": null,
            "grid_template_rows": null,
            "height": null,
            "justify_content": null,
            "justify_items": null,
            "left": null,
            "margin": null,
            "max_height": null,
            "max_width": null,
            "min_height": null,
            "min_width": null,
            "object_fit": null,
            "object_position": null,
            "order": null,
            "overflow": null,
            "overflow_x": null,
            "overflow_y": null,
            "padding": null,
            "right": null,
            "top": null,
            "visibility": null,
            "width": null
          }
        },
        "7bea3f0957db479aba03b9ff533c4211": {
          "model_module": "@jupyter-widgets/controls",
          "model_name": "DescriptionStyleModel",
          "model_module_version": "1.5.0",
          "state": {
            "_model_module": "@jupyter-widgets/controls",
            "_model_module_version": "1.5.0",
            "_model_name": "DescriptionStyleModel",
            "_view_count": null,
            "_view_module": "@jupyter-widgets/base",
            "_view_module_version": "1.2.0",
            "_view_name": "StyleView",
            "description_width": ""
          }
        },
        "191dfa6bfaeb47c888ba32200e20929c": {
          "model_module": "@jupyter-widgets/base",
          "model_name": "LayoutModel",
          "model_module_version": "1.2.0",
          "state": {
            "_model_module": "@jupyter-widgets/base",
            "_model_module_version": "1.2.0",
            "_model_name": "LayoutModel",
            "_view_count": null,
            "_view_module": "@jupyter-widgets/base",
            "_view_module_version": "1.2.0",
            "_view_name": "LayoutView",
            "align_content": null,
            "align_items": null,
            "align_self": null,
            "border": null,
            "bottom": null,
            "display": null,
            "flex": null,
            "flex_flow": null,
            "grid_area": null,
            "grid_auto_columns": null,
            "grid_auto_flow": null,
            "grid_auto_rows": null,
            "grid_column": null,
            "grid_gap": null,
            "grid_row": null,
            "grid_template_areas": null,
            "grid_template_columns": null,
            "grid_template_rows": null,
            "height": null,
            "justify_content": null,
            "justify_items": null,
            "left": null,
            "margin": null,
            "max_height": null,
            "max_width": null,
            "min_height": null,
            "min_width": null,
            "object_fit": null,
            "object_position": null,
            "order": null,
            "overflow": null,
            "overflow_x": null,
            "overflow_y": null,
            "padding": null,
            "right": null,
            "top": null,
            "visibility": null,
            "width": null
          }
        },
        "ed8f0930611c45f7a2226dfec414cbe4": {
          "model_module": "@jupyter-widgets/controls",
          "model_name": "ProgressStyleModel",
          "model_module_version": "1.5.0",
          "state": {
            "_model_module": "@jupyter-widgets/controls",
            "_model_module_version": "1.5.0",
            "_model_name": "ProgressStyleModel",
            "_view_count": null,
            "_view_module": "@jupyter-widgets/base",
            "_view_module_version": "1.2.0",
            "_view_name": "StyleView",
            "bar_color": null,
            "description_width": ""
          }
        },
        "72ffabe5f63844f6a101c72bc61bee76": {
          "model_module": "@jupyter-widgets/base",
          "model_name": "LayoutModel",
          "model_module_version": "1.2.0",
          "state": {
            "_model_module": "@jupyter-widgets/base",
            "_model_module_version": "1.2.0",
            "_model_name": "LayoutModel",
            "_view_count": null,
            "_view_module": "@jupyter-widgets/base",
            "_view_module_version": "1.2.0",
            "_view_name": "LayoutView",
            "align_content": null,
            "align_items": null,
            "align_self": null,
            "border": null,
            "bottom": null,
            "display": null,
            "flex": null,
            "flex_flow": null,
            "grid_area": null,
            "grid_auto_columns": null,
            "grid_auto_flow": null,
            "grid_auto_rows": null,
            "grid_column": null,
            "grid_gap": null,
            "grid_row": null,
            "grid_template_areas": null,
            "grid_template_columns": null,
            "grid_template_rows": null,
            "height": null,
            "justify_content": null,
            "justify_items": null,
            "left": null,
            "margin": null,
            "max_height": null,
            "max_width": null,
            "min_height": null,
            "min_width": null,
            "object_fit": null,
            "object_position": null,
            "order": null,
            "overflow": null,
            "overflow_x": null,
            "overflow_y": null,
            "padding": null,
            "right": null,
            "top": null,
            "visibility": null,
            "width": null
          }
        },
        "d8714627840a4390a90120deb82916d5": {
          "model_module": "@jupyter-widgets/controls",
          "model_name": "DescriptionStyleModel",
          "model_module_version": "1.5.0",
          "state": {
            "_model_module": "@jupyter-widgets/controls",
            "_model_module_version": "1.5.0",
            "_model_name": "DescriptionStyleModel",
            "_view_count": null,
            "_view_module": "@jupyter-widgets/base",
            "_view_module_version": "1.2.0",
            "_view_name": "StyleView",
            "description_width": ""
          }
        }
      }
    }
  },
  "cells": [
    {
      "cell_type": "markdown",
      "metadata": {
        "id": "view-in-github",
        "colab_type": "text"
      },
      "source": [
        "<a href=\"https://colab.research.google.com/github/chandan9t8/GraphAlignment/blob/main/Final.ipynb\" target=\"_parent\"><img src=\"https://colab.research.google.com/assets/colab-badge.svg\" alt=\"Open In Colab\"/></a>"
      ]
    },
    {
      "cell_type": "code",
      "source": [
        "!pip install torch_geometric\n",
        "!pip install node2vec"
      ],
      "metadata": {
        "colab": {
          "base_uri": "https://localhost:8080/"
        },
        "id": "iPVhnz7fOQjU",
        "outputId": "5d02956f-0d3b-42cf-992a-d8c9865b1a7b"
      },
      "execution_count": null,
      "outputs": [
        {
          "output_type": "stream",
          "name": "stdout",
          "text": [
            "Requirement already satisfied: torch_geometric in /usr/local/lib/python3.10/dist-packages (2.5.3)\n",
            "Requirement already satisfied: tqdm in /usr/local/lib/python3.10/dist-packages (from torch_geometric) (4.66.2)\n",
            "Requirement already satisfied: numpy in /usr/local/lib/python3.10/dist-packages (from torch_geometric) (1.25.2)\n",
            "Requirement already satisfied: scipy in /usr/local/lib/python3.10/dist-packages (from torch_geometric) (1.11.4)\n",
            "Requirement already satisfied: fsspec in /usr/local/lib/python3.10/dist-packages (from torch_geometric) (2023.6.0)\n",
            "Requirement already satisfied: jinja2 in /usr/local/lib/python3.10/dist-packages (from torch_geometric) (3.1.3)\n",
            "Requirement already satisfied: aiohttp in /usr/local/lib/python3.10/dist-packages (from torch_geometric) (3.9.5)\n",
            "Requirement already satisfied: requests in /usr/local/lib/python3.10/dist-packages (from torch_geometric) (2.31.0)\n",
            "Requirement already satisfied: pyparsing in /usr/local/lib/python3.10/dist-packages (from torch_geometric) (3.1.2)\n",
            "Requirement already satisfied: scikit-learn in /usr/local/lib/python3.10/dist-packages (from torch_geometric) (1.2.2)\n",
            "Requirement already satisfied: psutil>=5.8.0 in /usr/local/lib/python3.10/dist-packages (from torch_geometric) (5.9.5)\n",
            "Requirement already satisfied: aiosignal>=1.1.2 in /usr/local/lib/python3.10/dist-packages (from aiohttp->torch_geometric) (1.3.1)\n",
            "Requirement already satisfied: attrs>=17.3.0 in /usr/local/lib/python3.10/dist-packages (from aiohttp->torch_geometric) (23.2.0)\n",
            "Requirement already satisfied: frozenlist>=1.1.1 in /usr/local/lib/python3.10/dist-packages (from aiohttp->torch_geometric) (1.4.1)\n",
            "Requirement already satisfied: multidict<7.0,>=4.5 in /usr/local/lib/python3.10/dist-packages (from aiohttp->torch_geometric) (6.0.5)\n",
            "Requirement already satisfied: yarl<2.0,>=1.0 in /usr/local/lib/python3.10/dist-packages (from aiohttp->torch_geometric) (1.9.4)\n",
            "Requirement already satisfied: async-timeout<5.0,>=4.0 in /usr/local/lib/python3.10/dist-packages (from aiohttp->torch_geometric) (4.0.3)\n",
            "Requirement already satisfied: MarkupSafe>=2.0 in /usr/local/lib/python3.10/dist-packages (from jinja2->torch_geometric) (2.1.5)\n",
            "Requirement already satisfied: charset-normalizer<4,>=2 in /usr/local/lib/python3.10/dist-packages (from requests->torch_geometric) (3.3.2)\n",
            "Requirement already satisfied: idna<4,>=2.5 in /usr/local/lib/python3.10/dist-packages (from requests->torch_geometric) (3.7)\n",
            "Requirement already satisfied: urllib3<3,>=1.21.1 in /usr/local/lib/python3.10/dist-packages (from requests->torch_geometric) (2.0.7)\n",
            "Requirement already satisfied: certifi>=2017.4.17 in /usr/local/lib/python3.10/dist-packages (from requests->torch_geometric) (2024.2.2)\n",
            "Requirement already satisfied: joblib>=1.1.1 in /usr/local/lib/python3.10/dist-packages (from scikit-learn->torch_geometric) (1.4.0)\n",
            "Requirement already satisfied: threadpoolctl>=2.0.0 in /usr/local/lib/python3.10/dist-packages (from scikit-learn->torch_geometric) (3.5.0)\n",
            "Requirement already satisfied: node2vec in /usr/local/lib/python3.10/dist-packages (0.4.6)\n",
            "Requirement already satisfied: gensim<5.0.0,>=4.1.2 in /usr/local/lib/python3.10/dist-packages (from node2vec) (4.3.2)\n",
            "Requirement already satisfied: joblib<2.0.0,>=1.1.0 in /usr/local/lib/python3.10/dist-packages (from node2vec) (1.4.0)\n",
            "Requirement already satisfied: networkx<3.0,>=2.5 in /usr/local/lib/python3.10/dist-packages (from node2vec) (2.8.8)\n",
            "Requirement already satisfied: numpy<2.0.0,>=1.19.5 in /usr/local/lib/python3.10/dist-packages (from node2vec) (1.25.2)\n",
            "Requirement already satisfied: tqdm<5.0.0,>=4.55.1 in /usr/local/lib/python3.10/dist-packages (from node2vec) (4.66.2)\n",
            "Requirement already satisfied: scipy>=1.7.0 in /usr/local/lib/python3.10/dist-packages (from gensim<5.0.0,>=4.1.2->node2vec) (1.11.4)\n",
            "Requirement already satisfied: smart-open>=1.8.1 in /usr/local/lib/python3.10/dist-packages (from gensim<5.0.0,>=4.1.2->node2vec) (6.4.0)\n"
          ]
        }
      ]
    },
    {
      "cell_type": "code",
      "source": [
        "from google.colab import drive\n",
        "drive.mount('/content/drive')"
      ],
      "metadata": {
        "id": "ngN8jub4ORYT",
        "outputId": "c1e14e6d-c5a6-47aa-ee78-a97bad24120a",
        "colab": {
          "base_uri": "https://localhost:8080/"
        }
      },
      "execution_count": null,
      "outputs": [
        {
          "output_type": "stream",
          "name": "stdout",
          "text": [
            "Drive already mounted at /content/drive; to attempt to forcibly remount, call drive.mount(\"/content/drive\", force_remount=True).\n"
          ]
        }
      ]
    },
    {
      "cell_type": "code",
      "source": [
        "import torch\n",
        "from torch_geometric.data import Data, DataLoader\n",
        "from torch_geometric.nn import GCNConv, GAE\n",
        "import pandas as pd\n",
        "import numpy as np\n",
        "from sklearn.model_selection import train_test_split\n",
        "from node2vec import Node2Vec\n",
        "import networkx as nx"
      ],
      "metadata": {
        "id": "jHAYKQ4fOYjX"
      },
      "execution_count": null,
      "outputs": []
    },
    {
      "cell_type": "code",
      "source": [
        "#dataset1\n",
        "\n",
        "g1_edgelist = pd.read_csv('./drive/MyDrive/Data/g1_edgelist.csv',names=['node1','node2'])\n",
        "g2_edgelist = pd.read_csv('./drive/MyDrive/Data/g2_edgelist.csv',names=['node1','node2'])\n",
        "\n",
        "#Generate graphs from pandas dataframe\n",
        "G1 = nx.from_pandas_edgelist(g1_edgelist, 'node1', 'node2')\n",
        "G2 = nx.from_pandas_edgelist(g2_edgelist, 'node1', 'node2')\n",
        "\n",
        "# Generate walks and train node2vec model\n",
        "node2vec1 = Node2Vec(G1, dimensions=64, walk_length=50, num_walks=50, workers=4)\n",
        "model1 = node2vec1.fit(window=10, min_count=1, batch_words=4)\n",
        "\n",
        "node2vec2 = Node2Vec(G2, dimensions=64, walk_length=50, num_walks=50, workers=4)\n",
        "model2 = node2vec2.fit(window=10, min_count=1, batch_words=4)\n",
        "\n",
        "embeddings1 = {node: model1.wv[str(node)] for node in G1.nodes()}\n",
        "embeddings2 = {node: model2.wv[str(node)] for node in G2.nodes()}\n",
        "\n",
        "embeddings1_serializable = {node: embeddings1[node].tolist() for node in G1.nodes()}\n",
        "embeddings2_serializable = {node: embeddings2[node].tolist() for node in G2.nodes()}\n",
        "\n",
        "x1 = torch.tensor([embeddings1_serializable[node] for node in range(max(G1.nodes()) + 1)], dtype=torch.float)\n",
        "x2 = torch.tensor([embeddings2_serializable[node] for node in range(max(G2.nodes()) + 1)], dtype=torch.float)\n",
        "\n",
        "edge_index1 = torch.tensor(list(G1.edges), dtype=torch.long).t().contiguous()\n",
        "edge_index2 = torch.tensor(list(G2.edges), dtype=torch.long).t().contiguous()\n",
        "\n",
        "graph1_data = Data(x1, edge_index=edge_index1)\n",
        "graph2_data = Data(x2, edge_index=edge_index2)"
      ],
      "metadata": {
        "id": "Bi4unrtbOcGq",
        "outputId": "64176ee6-60ee-48c4-d324-ead3f01dad60",
        "colab": {
          "base_uri": "https://localhost:8080/",
          "height": 137,
          "referenced_widgets": [
            "a3e615d0a863492cbb6952fab41b63c4",
            "ffbfe31b7e7f415fa486f64d76c06a5c",
            "b9fac3b0742041d89964baec0f9b4aa7",
            "98061673079941cfa8cf73cf8e34506b",
            "6a369a7d12f9468da14520222a9b42df",
            "8098d1153bb540acbaf3d0ac97c87fa4",
            "4fd806d7a1554a6386ab806c6782e595",
            "e6da2219cade44e384a367b6b69edefa",
            "fc0c91af10dc403aa024cf0b854b96a4",
            "0ad031c2bfce4c4e967bccbfe7159212",
            "ab5cc3429cd4421c8b2504b52fc48ee7",
            "c96165888ae142f5afb8348dce379a6f",
            "f555c7655c9445f5bfa3ece034a28279",
            "2f06de23878d4213a05fe6790a081be9",
            "c685cd41e738488e8184712cebcb04eb",
            "056ed022cc2d499482cb7bda23f2ee84",
            "1b453d759825488c9571f7700047fae6",
            "aca72cb1a4ad4c549f78f87bff9e27d9",
            "4babd9747f2e4cf48f8c745b76626b08",
            "df1363e3bd6c4a55a1d20bfc97407290",
            "53e516de44d4460fb09ae430cfcd6009",
            "f391c3d7c16e429091f521e4affab87d"
          ]
        }
      },
      "execution_count": null,
      "outputs": [
        {
          "output_type": "display_data",
          "data": {
            "text/plain": [
              "Computing transition probabilities:   0%|          | 0/4941 [00:00<?, ?it/s]"
            ],
            "application/vnd.jupyter.widget-view+json": {
              "version_major": 2,
              "version_minor": 0,
              "model_id": "a3e615d0a863492cbb6952fab41b63c4"
            }
          },
          "metadata": {}
        },
        {
          "output_type": "stream",
          "name": "stderr",
          "text": [
            "/usr/local/lib/python3.10/dist-packages/joblib/externals/loky/backend/fork_exec.py:38: RuntimeWarning: os.fork() was called. os.fork() is incompatible with multithreaded code, and JAX is multithreaded, so this will likely lead to a deadlock.\n",
            "  pid = os.fork()\n"
          ]
        },
        {
          "output_type": "display_data",
          "data": {
            "text/plain": [
              "Computing transition probabilities:   0%|          | 0/4941 [00:00<?, ?it/s]"
            ],
            "application/vnd.jupyter.widget-view+json": {
              "version_major": 2,
              "version_minor": 0,
              "model_id": "c96165888ae142f5afb8348dce379a6f"
            }
          },
          "metadata": {}
        }
      ]
    },
    {
      "cell_type": "code",
      "source": [
        "#dataset2\n",
        "\n",
        "g1_edgelist_final = pd.read_csv('./drive/MyDrive/Data/g1_edgeListFinal.csv',names=['node1','node2'])\n",
        "g2_edgelist_final = pd.read_csv('./drive/MyDrive/Data/g2_edgeListFinal.csv',names=['node1','node2'])\n",
        "\n",
        "#Generate graphs from pandas dataframe\n",
        "G1_final = nx.from_pandas_edgelist(g1_edgelist_final, 'node1', 'node2')\n",
        "G2_final = nx.from_pandas_edgelist(g2_edgelist_final, 'node1', 'node2')\n",
        "\n",
        "# Generate walks and train node2vec model\n",
        "node2vec1_final = Node2Vec(G1_final, dimensions=64, walk_length=50, num_walks=50, workers=4)\n",
        "model1_final = node2vec1_final.fit(window=10, min_count=1, batch_words=4)\n",
        "\n",
        "node2vec2_final = Node2Vec(G2_final, dimensions=64, walk_length=50, num_walks=50, workers=4)\n",
        "model2_final = node2vec2_final.fit(window=10, min_count=1, batch_words=4)\n",
        "\n",
        "embeddings1_final = {node: model1.wv[str(node)] for node in G1.nodes()}\n",
        "embeddings2_final = {node: model2.wv[str(node)] for node in G2.nodes()}\n",
        "\n",
        "embeddings1_serializable_final = {node: embeddings1_final[node].tolist() for node in G1_final.nodes()}\n",
        "embeddings2_serializable_final = {node: embeddings2_final[node].tolist() for node in G2_final.nodes()}\n",
        "\n",
        "x1_final = torch.tensor([embeddings1_serializable_final[node] for node in range(max(G1_final.nodes()) + 1)], dtype=torch.float)\n",
        "x2_final = torch.tensor([embeddings2_serializable_final[node] for node in range(max(G2_final.nodes()) + 1)], dtype=torch.float)\n",
        "\n",
        "edge_index1_final = torch.tensor(list(G1_final.edges), dtype=torch.long).t().contiguous()\n",
        "edge_index2_final = torch.tensor(list(G2_final.edges), dtype=torch.long).t().contiguous()\n",
        "\n",
        "graph1_data_final = Data(x1_final, edge_index=edge_index1_final)\n",
        "graph2_data_final = Data(x2_final, edge_index=edge_index2_final)"
      ],
      "metadata": {
        "id": "x822_-lT7e0k",
        "outputId": "ca64a783-3e03-4424-b1b2-4f303d3d4eb1",
        "colab": {
          "base_uri": "https://localhost:8080/",
          "height": 137,
          "referenced_widgets": [
            "0bbf96a458f94c05b25a85e0f4752ce2",
            "e3d4ecb571c7459ab13e633abc08d7dd",
            "bec4c39dc96844f49b72a620c2f79887",
            "7ce2c8f22d334d819372e54a9ca5d5e6",
            "346d74ae360f43faada04575aca66f5c",
            "66f0214eeee74ca6aa64f7f81c301c48",
            "cc565e09d8dc4cf99b33bfcfe18ab072",
            "c8f1235e73da4b2f8187ae543d17ae2c",
            "b28e789a10a54aefa9e240741c6db971",
            "192c4a0adf7e4b35a2c74ac61cd4d044",
            "e896b249657248ba85b487b6f3717506",
            "795de5d81d6f490a866194c32cd6c05d",
            "459691bda2fc480eb82f820554f9daaf",
            "6c9d9414d64240df92c183f08e7bd0ee",
            "1f5044f9d04842188d3f1b50c3b12875",
            "b8233c4f4f3f48fa96bc459f89f86cc7",
            "7c72abc4819c473597b6a41becda16f4",
            "7bea3f0957db479aba03b9ff533c4211",
            "191dfa6bfaeb47c888ba32200e20929c",
            "ed8f0930611c45f7a2226dfec414cbe4",
            "72ffabe5f63844f6a101c72bc61bee76",
            "d8714627840a4390a90120deb82916d5"
          ]
        }
      },
      "execution_count": null,
      "outputs": [
        {
          "output_type": "display_data",
          "data": {
            "text/plain": [
              "Computing transition probabilities:   0%|          | 0/2783 [00:00<?, ?it/s]"
            ],
            "application/vnd.jupyter.widget-view+json": {
              "version_major": 2,
              "version_minor": 0,
              "model_id": "0bbf96a458f94c05b25a85e0f4752ce2"
            }
          },
          "metadata": {}
        },
        {
          "output_type": "stream",
          "name": "stderr",
          "text": [
            "/usr/local/lib/python3.10/dist-packages/joblib/externals/loky/backend/fork_exec.py:38: RuntimeWarning: os.fork() was called. os.fork() is incompatible with multithreaded code, and JAX is multithreaded, so this will likely lead to a deadlock.\n",
            "  pid = os.fork()\n"
          ]
        },
        {
          "output_type": "display_data",
          "data": {
            "text/plain": [
              "Computing transition probabilities:   0%|          | 0/2783 [00:00<?, ?it/s]"
            ],
            "application/vnd.jupyter.widget-view+json": {
              "version_major": 2,
              "version_minor": 0,
              "model_id": "795de5d81d6f490a866194c32cd6c05d"
            }
          },
          "metadata": {}
        }
      ]
    },
    {
      "cell_type": "code",
      "source": [
        "import json\n",
        "\n",
        "# Store embeddings in a JSON file - dataset1\n",
        "with open('embeddings64_g1.json', 'w') as f:\n",
        "    json.dump(embeddings1_serializable, f)\n",
        "\n",
        "with open('embeddings64_g2.json', 'w') as f:\n",
        "    json.dump(embeddings2_serializable, f)"
      ],
      "metadata": {
        "id": "p-_I-r6UL57i"
      },
      "execution_count": null,
      "outputs": []
    },
    {
      "cell_type": "code",
      "source": [
        "# Reload embeddings from JSON file - dataset1\n",
        "with open('embeddings64_g1.json', 'r') as f:\n",
        "    embeddings1_serializable = json.load(f)\n",
        "\n",
        "with open('embeddings64_g2.json', 'r') as f:\n",
        "    embeddings2_serializable = json.load(f)"
      ],
      "metadata": {
        "id": "iKx6TKKBDWbV"
      },
      "execution_count": null,
      "outputs": []
    },
    {
      "cell_type": "code",
      "source": [
        "# Store embeddings in a JSON file - dataset2\n",
        "with open('embeddings64_g1_final.json', 'w') as f:\n",
        "    json.dump(embeddings1_serializable_final, f)\n",
        "\n",
        "with open('embeddings64_g2_final.json', 'w') as f:\n",
        "    json.dump(embeddings2_serializable_final, f)"
      ],
      "metadata": {
        "id": "gbjhHJnVMDUu"
      },
      "execution_count": null,
      "outputs": []
    },
    {
      "cell_type": "code",
      "source": [
        "# Reload embeddings from JSON file - dataset2\n",
        "with open('embeddings64_g1_final.json', 'r') as f:\n",
        "    embeddings1_serializable_final = json.load(f)\n",
        "\n",
        "with open('embeddings64_g2_final.json', 'r') as f:\n",
        "    embeddings2_serializable_final = json.load(f)"
      ],
      "metadata": {
        "id": "Bp-Vfw3jMGT1"
      },
      "execution_count": null,
      "outputs": []
    },
    {
      "cell_type": "code",
      "source": [
        "#model\n",
        "\n",
        "from torch_geometric.nn import GCNConv\n",
        "import torch.nn.functional as F\n",
        "import torch.nn as nn\n",
        "\n",
        "class GNN(nn.Module):\n",
        "    def __init__(self, input_dim, output_dim):\n",
        "        super(GNN, self).__init__()\n",
        "        self.conv1 = GCNConv(input_dim, 128)\n",
        "        self.conv2 = GCNConv(128, output_dim)\n",
        "\n",
        "    def forward(self, x, edge_index):\n",
        "        x = F.relu(self.conv1(x, edge_index))\n",
        "        x = self.conv2(x, edge_index)\n",
        "        return x\n",
        "\n",
        "class SiameseNet(nn.Module):\n",
        "    def __init__(self, input_dim, output_dim):\n",
        "        super(SiameseNet, self).__init__()\n",
        "        self.gnn = GNN(input_dim, output_dim)\n",
        "\n",
        "    def forward(self, data1, data2):\n",
        "        # Pass both graph data through the same GNN\n",
        "        emb1 = self.gnn(data1.x, data1.edge_index)\n",
        "        emb2 = self.gnn(data2.x, data2.edge_index)\n",
        "        return emb1, emb2"
      ],
      "metadata": {
        "id": "c3dS2zVePHJ5"
      },
      "execution_count": null,
      "outputs": []
    },
    {
      "cell_type": "code",
      "source": [
        "# Load anchors - dataset1\n",
        "anchors = pd.read_csv('./drive/MyDrive/Data/map_anchors.csv')\n",
        "\n",
        "# Convert to tensor\n",
        "anchor_index = torch.tensor(anchors.values, dtype=torch.long)"
      ],
      "metadata": {
        "id": "A6RAJ_K1PMxd"
      },
      "execution_count": null,
      "outputs": []
    },
    {
      "cell_type": "code",
      "source": [
        "# Load anchors - dataset2\n",
        "anchors_final = pd.read_csv('./drive/MyDrive/Data/mapping_anchorsFinal.csv')\n",
        "\n",
        "# Convert to tensor\n",
        "anchor_index_final = torch.tensor(anchors_final.values, dtype=torch.long)"
      ],
      "metadata": {
        "id": "G6T5YtkH5qqY"
      },
      "execution_count": null,
      "outputs": []
    },
    {
      "cell_type": "code",
      "source": [
        "import torch.optim as optim\n",
        "\n",
        "# Initialize model and optimizer\n",
        "model1 = SiameseNet(input_dim=64, output_dim=32)\n",
        "optimizer = optim.Adam(model1.parameters(), lr=0.0003)\n",
        "loss_fn = nn.MSELoss()"
      ],
      "metadata": {
        "id": "u2FIqkIAPSN-"
      },
      "execution_count": null,
      "outputs": []
    },
    {
      "cell_type": "code",
      "source": [
        "import matplotlib.pyplot as plt\n",
        "def train(model, data1, data2, anchor_index, epochs, mapped_nodes_weight=1.0):\n",
        "    loss_values = []\n",
        "    for epoch in range(epochs):\n",
        "        optimizer.zero_grad()\n",
        "        emb1, emb2 = model(data1, data2)\n",
        "\n",
        "        # Compute MSE loss for all node pairs\n",
        "        loss = loss_fn(emb1[anchor_index[:, 0]], emb2[anchor_index[:, 1]])\n",
        "\n",
        "        # Penalty for already mapped nodes\n",
        "        mapped_nodes_loss = loss_fn(emb1[anchor_index[:, 0]], emb2[anchor_index[:, 1]])\n",
        "\n",
        "        # Total loss\n",
        "        loss = loss + mapped_nodes_weight * mapped_nodes_loss\n",
        "\n",
        "        loss.backward()\n",
        "        optimizer.step()\n",
        "        loss_values.append(loss.item())\n",
        "        if epoch % 1000 == 0:\n",
        "            print(f\"Epoch {epoch}: Loss {loss.item()}\")\n",
        "\n",
        "    # Plotting the loss values\n",
        "    plt.figure(figsize=(10, 5))\n",
        "    plt.plot(loss_values, label='Training Loss')\n",
        "    plt.xlabel('Epochs')\n",
        "    plt.ylabel('Loss')\n",
        "    plt.title('Cost vs Epochs')\n",
        "    plt.legend()\n",
        "    plt.grid(True)\n",
        "    plt.show()\n",
        "\n",
        "    return loss_values\n"
      ],
      "metadata": {
        "id": "X6xMPPHjhQlI"
      },
      "execution_count": null,
      "outputs": []
    },
    {
      "cell_type": "code",
      "source": [
        "loss_values = train(model1, graph1_data, graph2_data, anchor_index, epochs=20000, mapped_nodes_weight=10.0)"
      ],
      "metadata": {
        "colab": {
          "base_uri": "https://localhost:8080/",
          "height": 844
        },
        "id": "GoaE24gErkvQ",
        "outputId": "0dd1faaf-20b4-4c97-8a34-193628cd1eba"
      },
      "execution_count": null,
      "outputs": [
        {
          "output_type": "stream",
          "name": "stdout",
          "text": [
            "Epoch 0: Loss 3.6169795989990234\n",
            "Epoch 1000: Loss 0.011163334362208843\n",
            "Epoch 2000: Loss 0.004062318243086338\n",
            "Epoch 3000: Loss 0.0020026436541229486\n",
            "Epoch 4000: Loss 0.0011010067537426949\n",
            "Epoch 5000: Loss 0.0006380649865604937\n",
            "Epoch 6000: Loss 0.00037616246845573187\n",
            "Epoch 7000: Loss 0.00022691299091093242\n",
            "Epoch 8000: Loss 0.00013763400784227997\n",
            "Epoch 9000: Loss 8.559944399166852e-05\n",
            "Epoch 10000: Loss 5.5554879509145394e-05\n",
            "Epoch 11000: Loss 3.91667454096023e-05\n",
            "Epoch 12000: Loss 2.76536047749687e-05\n",
            "Epoch 13000: Loss 1.8195760276285e-05\n",
            "Epoch 14000: Loss 1.4442261999647599e-05\n",
            "Epoch 15000: Loss 1.3078187294013333e-05\n",
            "Epoch 16000: Loss 8.35992341308156e-06\n",
            "Epoch 17000: Loss 8.027822332223877e-06\n",
            "Epoch 18000: Loss 6.3428401517739985e-06\n",
            "Epoch 19000: Loss 5.632146439893404e-06\n"
          ]
        },
        {
          "output_type": "display_data",
          "data": {
            "text/plain": [
              "<Figure size 1000x500 with 1 Axes>"
            ],
            "image/png": "[encoded data removed]"
          },
          "metadata": {}
        }
      ]
    },
    {
      "cell_type": "code",
      "source": [
        "# Initialize model and optimizer\n",
        "model2 = SiameseNet(input_dim=64, output_dim=32)\n",
        "optimizer = optim.Adam(model2.parameters(), lr=0.0003)\n",
        "loss_fn = nn.MSELoss()"
      ],
      "metadata": {
        "id": "D1Q5_6rCz7tG"
      },
      "execution_count": null,
      "outputs": []
    },
    {
      "cell_type": "code",
      "source": [
        "loss_values = train(model2, graph1_data_final, graph2_data_final, anchor_index_final, epochs=20000, mapped_nodes_weight=10.0)"
      ],
      "metadata": {
        "id": "7yt2i06OF-FJ",
        "outputId": "79c14f25-5a2f-4081-d82d-e047f97ebb53",
        "colab": {
          "base_uri": "https://localhost:8080/",
          "height": 844
        }
      },
      "execution_count": null,
      "outputs": [
        {
          "output_type": "stream",
          "name": "stdout",
          "text": [
            "Epoch 0: Loss 2.0362181663513184\n",
            "Epoch 1000: Loss 0.010756740346550941\n",
            "Epoch 2000: Loss 0.0037098946049809456\n",
            "Epoch 3000: Loss 0.001726489863358438\n",
            "Epoch 4000: Loss 0.0008974890224635601\n",
            "Epoch 5000: Loss 0.0004929076530970633\n",
            "Epoch 6000: Loss 0.0002737657923717052\n",
            "Epoch 7000: Loss 0.00015331682516261935\n",
            "Epoch 8000: Loss 8.450391032965854e-05\n",
            "Epoch 9000: Loss 4.6856999688316137e-05\n",
            "Epoch 10000: Loss 2.7017085812985897e-05\n",
            "Epoch 11000: Loss 1.588820305187255e-05\n",
            "Epoch 12000: Loss 1.1017180440830998e-05\n",
            "Epoch 13000: Loss 6.1838850342610385e-06\n",
            "Epoch 14000: Loss 4.096823431609664e-06\n",
            "Epoch 15000: Loss 3.0001260711287614e-06\n",
            "Epoch 16000: Loss 2.3948168745846488e-06\n",
            "Epoch 17000: Loss 1.4354956192619284e-06\n",
            "Epoch 18000: Loss 2.60769820670248e-06\n",
            "Epoch 19000: Loss 8.549653216505249e-07\n"
          ]
        },
        {
          "output_type": "display_data",
          "data": {
            "text/plain": [
              "<Figure size 1000x500 with 1 Axes>"
            ],
            "image/png": "[encoded data removed]"
          },
          "metadata": {}
        }
      ]
    },
    {
      "cell_type": "code",
      "execution_count": null,
      "metadata": {
        "id": "fxzxzzAzNj8k"
      },
      "outputs": [],
      "source": [
        "def predict_correspondences(model, data1, data2):\n",
        "    model.eval()\n",
        "    with torch.no_grad():\n",
        "        emb1, emb2 = model(data1, data2)\n",
        "\n",
        "    # Normalize embeddings to unit vectors for cosine similarity\n",
        "    emb1 = F.normalize(emb1, p=2, dim=1)\n",
        "    emb2 = F.normalize(emb2, p=2, dim=1)\n",
        "\n",
        "    # Compute cosine similarity and predict correspondences\n",
        "    similarity = torch.matmul(emb1, emb2.t())\n",
        "    predicted_correspondences = similarity.argmax(dim=1)\n",
        "\n",
        "    # Create a dictionary mapping each node in graph1 to a node in graph2\n",
        "    correspondence_dict = {i: predicted_correspondences[i].item() for i in range(data1.num_nodes)}\n",
        "\n",
        "    return correspondence_dict"
      ]
    },
    {
      "cell_type": "code",
      "source": [
        "predicted_correspondences1 = predict_correspondences(model1, graph1_data, graph2_data)"
      ],
      "metadata": {
        "id": "ojpOuLtsPWd5"
      },
      "execution_count": null,
      "outputs": []
    },
    {
      "cell_type": "code",
      "source": [
        "import csv\n",
        "\n",
        "with open('Node_mappings_final1.csv', 'w', newline='') as csvfile:\n",
        "    fieldnames = ['g1', 'g2']\n",
        "    writer = csv.DictWriter(csvfile, fieldnames=fieldnames)\n",
        "\n",
        "    writer.writeheader()\n",
        "    for node_g1, node_g2 in predicted_correspondences1.items():\n",
        "        writer.writerow({'g1': node_g1, 'g2': node_g2})"
      ],
      "metadata": {
        "id": "5u_tpk2TTGIN"
      },
      "execution_count": null,
      "outputs": []
    },
    {
      "cell_type": "code",
      "source": [
        "predicted_correspondences2 = predict_correspondences(model2, graph1_data_final, graph2_data_final)"
      ],
      "metadata": {
        "id": "tPmuksL66MsO"
      },
      "execution_count": null,
      "outputs": []
    },
    {
      "cell_type": "code",
      "source": [
        "import csv\n",
        "\n",
        "with open('Node_mappings_final2.csv', 'w', newline='') as csvfile:\n",
        "    fieldnames = ['g1', 'g2']\n",
        "    writer = csv.DictWriter(csvfile, fieldnames=fieldnames)\n",
        "\n",
        "    writer.writeheader()\n",
        "    for node_g1, node_g2 in predicted_correspondences2.items():\n",
        "        writer.writerow({'g1': node_g1, 'g2': node_g2})"
      ],
      "metadata": {
        "id": "VYAIgrgwS2un"
      },
      "execution_count": null,
      "outputs": []
    }
  ]
}