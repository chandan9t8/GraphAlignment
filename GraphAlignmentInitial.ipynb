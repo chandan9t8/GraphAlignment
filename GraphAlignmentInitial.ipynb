{
  "nbformat": 4,
  "nbformat_minor": 0,
  "metadata": {
    "colab": {
      "provenance": [],
      "include_colab_link": true
    },
    "kernelspec": {
      "name": "python3",
      "display_name": "Python 3"
    },
    "language_info": {
      "name": "python"
    },
    "widgets": {
      "application/vnd.jupyter.widget-state+json": {
        "5a91d20bc056420e98e7d3db2668185c": {
          "model_module": "@jupyter-widgets/controls",
          "model_name": "HBoxModel",
          "model_module_version": "1.5.0",
          "state": {
            "_dom_classes": [],
            "_model_module": "@jupyter-widgets/controls",
            "_model_module_version": "1.5.0",
            "_model_name": "HBoxModel",
            "_view_count": null,
            "_view_module": "@jupyter-widgets/controls",
            "_view_module_version": "1.5.0",
            "_view_name": "HBoxView",
            "box_style": "",
            "children": [
              "IPY_MODEL_bf965f0f80e340a8a824c7235e9a0f1f",
              "IPY_MODEL_6ab5012165374179adf46f76c0d63e4a",
              "IPY_MODEL_85ed80cb16ff41b08f196369db7ded20"
            ],
            "layout": "IPY_MODEL_17f215af085741fe9f330e6eac607c86"
          }
        },
        "bf965f0f80e340a8a824c7235e9a0f1f": {
          "model_module": "@jupyter-widgets/controls",
          "model_name": "HTMLModel",
          "model_module_version": "1.5.0",
          "state": {
            "_dom_classes": [],
            "_model_module": "@jupyter-widgets/controls",
            "_model_module_version": "1.5.0",
            "_model_name": "HTMLModel",
            "_view_count": null,
            "_view_module": "@jupyter-widgets/controls",
            "_view_module_version": "1.5.0",
            "_view_name": "HTMLView",
            "description": "",
            "description_tooltip": null,
            "layout": "IPY_MODEL_b7326853b1d84ee7a9da0df72e20ad26",
            "placeholder": "​",
            "style": "IPY_MODEL_dd1add8d583549e29a7144bae62ccb53",
            "value": "Computing transition probabilities: 100%"
          }
        },
        "6ab5012165374179adf46f76c0d63e4a": {
          "model_module": "@jupyter-widgets/controls",
          "model_name": "FloatProgressModel",
          "model_module_version": "1.5.0",
          "state": {
            "_dom_classes": [],
            "_model_module": "@jupyter-widgets/controls",
            "_model_module_version": "1.5.0",
            "_model_name": "FloatProgressModel",
            "_view_count": null,
            "_view_module": "@jupyter-widgets/controls",
            "_view_module_version": "1.5.0",
            "_view_name": "ProgressView",
            "bar_style": "success",
            "description": "",
            "description_tooltip": null,
            "layout": "IPY_MODEL_b463dc54b2984dd0bd57b3a8f9f026b7",
            "max": 4941,
            "min": 0,
            "orientation": "horizontal",
            "style": "IPY_MODEL_e48d87880f204d24a733609d8f53b57c",
            "value": 4941
          }
        },
        "85ed80cb16ff41b08f196369db7ded20": {
          "model_module": "@jupyter-widgets/controls",
          "model_name": "HTMLModel",
          "model_module_version": "1.5.0",
          "state": {
            "_dom_classes": [],
            "_model_module": "@jupyter-widgets/controls",
            "_model_module_version": "1.5.0",
            "_model_name": "HTMLModel",
            "_view_count": null,
            "_view_module": "@jupyter-widgets/controls",
            "_view_module_version": "1.5.0",
            "_view_name": "HTMLView",
            "description": "",
            "description_tooltip": null,
            "layout": "IPY_MODEL_ede9f4ba62e346c3a69a174c1b4043f5",
            "placeholder": "​",
            "style": "IPY_MODEL_4b91789915c149da87e98320b3deecc6",
            "value": " 4941/4941 [00:00&lt;00:00, 8165.71it/s]"
          }
        },
        "17f215af085741fe9f330e6eac607c86": {
          "model_module": "@jupyter-widgets/base",
          "model_name": "LayoutModel",
          "model_module_version": "1.2.0",
          "state": {
            "_model_module": "@jupyter-widgets/base",
            "_model_module_version": "1.2.0",
            "_model_name": "LayoutModel",
            "_view_count": null,
            "_view_module": "@jupyter-widgets/base",
            "_view_module_version": "1.2.0",
            "_view_name": "LayoutView",
            "align_content": null,
            "align_items": null,
            "align_self": null,
            "border": null,
            "bottom": null,
            "display": null,
            "flex": null,
            "flex_flow": null,
            "grid_area": null,
            "grid_auto_columns": null,
            "grid_auto_flow": null,
            "grid_auto_rows": null,
            "grid_column": null,
            "grid_gap": null,
            "grid_row": null,
            "grid_template_areas": null,
            "grid_template_columns": null,
            "grid_template_rows": null,
            "height": null,
            "justify_content": null,
            "justify_items": null,
            "left": null,
            "margin": null,
            "max_height": null,
            "max_width": null,
            "min_height": null,
            "min_width": null,
            "object_fit": null,
            "object_position": null,
            "order": null,
            "overflow": null,
            "overflow_x": null,
            "overflow_y": null,
            "padding": null,
            "right": null,
            "top": null,
            "visibility": null,
            "width": null
          }
        },
        "b7326853b1d84ee7a9da0df72e20ad26": {
          "model_module": "@jupyter-widgets/base",
          "model_name": "LayoutModel",
          "model_module_version": "1.2.0",
          "state": {
            "_model_module": "@jupyter-widgets/base",
            "_model_module_version": "1.2.0",
            "_model_name": "LayoutModel",
            "_view_count": null,
            "_view_module": "@jupyter-widgets/base",
            "_view_module_version": "1.2.0",
            "_view_name": "LayoutView",
            "align_content": null,
            "align_items": null,
            "align_self": null,
            "border": null,
            "bottom": null,
            "display": null,
            "flex": null,
            "flex_flow": null,
            "grid_area": null,
            "grid_auto_columns": null,
            "grid_auto_flow": null,
            "grid_auto_rows": null,
            "grid_column": null,
            "grid_gap": null,
            "grid_row": null,
            "grid_template_areas": null,
            "grid_template_columns": null,
            "grid_template_rows": null,
            "height": null,
            "justify_content": null,
            "justify_items": null,
            "left": null,
            "margin": null,
            "max_height": null,
            "max_width": null,
            "min_height": null,
            "min_width": null,
            "object_fit": null,
            "object_position": null,
            "order": null,
            "overflow": null,
            "overflow_x": null,
            "overflow_y": null,
            "padding": null,
            "right": null,
            "top": null,
            "visibility": null,
            "width": null
          }
        },
        "dd1add8d583549e29a7144bae62ccb53": {
          "model_module": "@jupyter-widgets/controls",
          "model_name": "DescriptionStyleModel",
          "model_module_version": "1.5.0",
          "state": {
            "_model_module": "@jupyter-widgets/controls",
            "_model_module_version": "1.5.0",
            "_model_name": "DescriptionStyleModel",
            "_view_count": null,
            "_view_module": "@jupyter-widgets/base",
            "_view_module_version": "1.2.0",
            "_view_name": "StyleView",
            "description_width": ""
          }
        },
        "b463dc54b2984dd0bd57b3a8f9f026b7": {
          "model_module": "@jupyter-widgets/base",
          "model_name": "LayoutModel",
          "model_module_version": "1.2.0",
          "state": {
            "_model_module": "@jupyter-widgets/base",
            "_model_module_version": "1.2.0",
            "_model_name": "LayoutModel",
            "_view_count": null,
            "_view_module": "@jupyter-widgets/base",
            "_view_module_version": "1.2.0",
            "_view_name": "LayoutView",
            "align_content": null,
            "align_items": null,
            "align_self": null,
            "border": null,
            "bottom": null,
            "display": null,
            "flex": null,
            "flex_flow": null,
            "grid_area": null,
            "grid_auto_columns": null,
            "grid_auto_flow": null,
            "grid_auto_rows": null,
            "grid_column": null,
            "grid_gap": null,
            "grid_row": null,
            "grid_template_areas": null,
            "grid_template_columns": null,
            "grid_template_rows": null,
            "height": null,
            "justify_content": null,
            "justify_items": null,
            "left": null,
            "margin": null,
            "max_height": null,
            "max_width": null,
            "min_height": null,
            "min_width": null,
            "object_fit": null,
            "object_position": null,
            "order": null,
            "overflow": null,
            "overflow_x": null,
            "overflow_y": null,
            "padding": null,
            "right": null,
            "top": null,
            "visibility": null,
            "width": null
          }
        },
        "e48d87880f204d24a733609d8f53b57c": {
          "model_module": "@jupyter-widgets/controls",
          "model_name": "ProgressStyleModel",
          "model_module_version": "1.5.0",
          "state": {
            "_model_module": "@jupyter-widgets/controls",
            "_model_module_version": "1.5.0",
            "_model_name": "ProgressStyleModel",
            "_view_count": null,
            "_view_module": "@jupyter-widgets/base",
            "_view_module_version": "1.2.0",
            "_view_name": "StyleView",
            "bar_color": null,
            "description_width": ""
          }
        },
        "ede9f4ba62e346c3a69a174c1b4043f5": {
          "model_module": "@jupyter-widgets/base",
          "model_name": "LayoutModel",
          "model_module_version": "1.2.0",
          "state": {
            "_model_module": "@jupyter-widgets/base",
            "_model_module_version": "1.2.0",
            "_model_name": "LayoutModel",
            "_view_count": null,
            "_view_module": "@jupyter-widgets/base",
            "_view_module_version": "1.2.0",
            "_view_name": "LayoutView",
            "align_content": null,
            "align_items": null,
            "align_self": null,
            "border": null,
            "bottom": null,
            "display": null,
            "flex": null,
            "flex_flow": null,
            "grid_area": null,
            "grid_auto_columns": null,
            "grid_auto_flow": null,
            "grid_auto_rows": null,
            "grid_column": null,
            "grid_gap": null,
            "grid_row": null,
            "grid_template_areas": null,
            "grid_template_columns": null,
            "grid_template_rows": null,
            "height": null,
            "justify_content": null,
            "justify_items": null,
            "left": null,
            "margin": null,
            "max_height": null,
            "max_width": null,
            "min_height": null,
            "min_width": null,
            "object_fit": null,
            "object_position": null,
            "order": null,
            "overflow": null,
            "overflow_x": null,
            "overflow_y": null,
            "padding": null,
            "right": null,
            "top": null,
            "visibility": null,
            "width": null
          }
        },
        "4b91789915c149da87e98320b3deecc6": {
          "model_module": "@jupyter-widgets/controls",
          "model_name": "DescriptionStyleModel",
          "model_module_version": "1.5.0",
          "state": {
            "_model_module": "@jupyter-widgets/controls",
            "_model_module_version": "1.5.0",
            "_model_name": "DescriptionStyleModel",
            "_view_count": null,
            "_view_module": "@jupyter-widgets/base",
            "_view_module_version": "1.2.0",
            "_view_name": "StyleView",
            "description_width": ""
          }
        },
        "92092d9791bb4c9897a67f4d14ee0f57": {
          "model_module": "@jupyter-widgets/controls",
          "model_name": "HBoxModel",
          "model_module_version": "1.5.0",
          "state": {
            "_dom_classes": [],
            "_model_module": "@jupyter-widgets/controls",
            "_model_module_version": "1.5.0",
            "_model_name": "HBoxModel",
            "_view_count": null,
            "_view_module": "@jupyter-widgets/controls",
            "_view_module_version": "1.5.0",
            "_view_name": "HBoxView",
            "box_style": "",
            "children": [
              "IPY_MODEL_b71b54c68ec044bda78610b56aff70c8",
              "IPY_MODEL_2fcc4235faa24562b95df9fe328eeb7f",
              "IPY_MODEL_bdd35b5dd61341d0a829a835090e5827"
            ],
            "layout": "IPY_MODEL_092ecfb877e04a31b6f6d3b13f257ed7"
          }
        },
        "b71b54c68ec044bda78610b56aff70c8": {
          "model_module": "@jupyter-widgets/controls",
          "model_name": "HTMLModel",
          "model_module_version": "1.5.0",
          "state": {
            "_dom_classes": [],
            "_model_module": "@jupyter-widgets/controls",
            "_model_module_version": "1.5.0",
            "_model_name": "HTMLModel",
            "_view_count": null,
            "_view_module": "@jupyter-widgets/controls",
            "_view_module_version": "1.5.0",
            "_view_name": "HTMLView",
            "description": "",
            "description_tooltip": null,
            "layout": "IPY_MODEL_54c390a616ce4164b89614331e29b095",
            "placeholder": "​",
            "style": "IPY_MODEL_2e68f3256f1a449fa13e34f928d61e69",
            "value": "Computing transition probabilities: 100%"
          }
        },
        "2fcc4235faa24562b95df9fe328eeb7f": {
          "model_module": "@jupyter-widgets/controls",
          "model_name": "FloatProgressModel",
          "model_module_version": "1.5.0",
          "state": {
            "_dom_classes": [],
            "_model_module": "@jupyter-widgets/controls",
            "_model_module_version": "1.5.0",
            "_model_name": "FloatProgressModel",
            "_view_count": null,
            "_view_module": "@jupyter-widgets/controls",
            "_view_module_version": "1.5.0",
            "_view_name": "ProgressView",
            "bar_style": "success",
            "description": "",
            "description_tooltip": null,
            "layout": "IPY_MODEL_da8f4cf79b864295941a55b21d52b582",
            "max": 4941,
            "min": 0,
            "orientation": "horizontal",
            "style": "IPY_MODEL_038af65d2a024db194d6ca5c8d4dde52",
            "value": 4941
          }
        },
        "bdd35b5dd61341d0a829a835090e5827": {
          "model_module": "@jupyter-widgets/controls",
          "model_name": "HTMLModel",
          "model_module_version": "1.5.0",
          "state": {
            "_dom_classes": [],
            "_model_module": "@jupyter-widgets/controls",
            "_model_module_version": "1.5.0",
            "_model_name": "HTMLModel",
            "_view_count": null,
            "_view_module": "@jupyter-widgets/controls",
            "_view_module_version": "1.5.0",
            "_view_name": "HTMLView",
            "description": "",
            "description_tooltip": null,
            "layout": "IPY_MODEL_e7c31e82153b4975a495479f4348c196",
            "placeholder": "​",
            "style": "IPY_MODEL_c5912aab00a0481e806f041d2c73b48e",
            "value": " 4941/4941 [00:00&lt;00:00, 8302.66it/s]"
          }
        },
        "092ecfb877e04a31b6f6d3b13f257ed7": {
          "model_module": "@jupyter-widgets/base",
          "model_name": "LayoutModel",
          "model_module_version": "1.2.0",
          "state": {
            "_model_module": "@jupyter-widgets/base",
            "_model_module_version": "1.2.0",
            "_model_name": "LayoutModel",
            "_view_count": null,
            "_view_module": "@jupyter-widgets/base",
            "_view_module_version": "1.2.0",
            "_view_name": "LayoutView",
            "align_content": null,
            "align_items": null,
            "align_self": null,
            "border": null,
            "bottom": null,
            "display": null,
            "flex": null,
            "flex_flow": null,
            "grid_area": null,
            "grid_auto_columns": null,
            "grid_auto_flow": null,
            "grid_auto_rows": null,
            "grid_column": null,
            "grid_gap": null,
            "grid_row": null,
            "grid_template_areas": null,
            "grid_template_columns": null,
            "grid_template_rows": null,
            "height": null,
            "justify_content": null,
            "justify_items": null,
            "left": null,
            "margin": null,
            "max_height": null,
            "max_width": null,
            "min_height": null,
            "min_width": null,
            "object_fit": null,
            "object_position": null,
            "order": null,
            "overflow": null,
            "overflow_x": null,
            "overflow_y": null,
            "padding": null,
            "right": null,
            "top": null,
            "visibility": null,
            "width": null
          }
        },
        "54c390a616ce4164b89614331e29b095": {
          "model_module": "@jupyter-widgets/base",
          "model_name": "LayoutModel",
          "model_module_version": "1.2.0",
          "state": {
            "_model_module": "@jupyter-widgets/base",
            "_model_module_version": "1.2.0",
            "_model_name": "LayoutModel",
            "_view_count": null,
            "_view_module": "@jupyter-widgets/base",
            "_view_module_version": "1.2.0",
            "_view_name": "LayoutView",
            "align_content": null,
            "align_items": null,
            "align_self": null,
            "border": null,
            "bottom": null,
            "display": null,
            "flex": null,
            "flex_flow": null,
            "grid_area": null,
            "grid_auto_columns": null,
            "grid_auto_flow": null,
            "grid_auto_rows": null,
            "grid_column": null,
            "grid_gap": null,
            "grid_row": null,
            "grid_template_areas": null,
            "grid_template_columns": null,
            "grid_template_rows": null,
            "height": null,
            "justify_content": null,
            "justify_items": null,
            "left": null,
            "margin": null,
            "max_height": null,
            "max_width": null,
            "min_height": null,
            "min_width": null,
            "object_fit": null,
            "object_position": null,
            "order": null,
            "overflow": null,
            "overflow_x": null,
            "overflow_y": null,
            "padding": null,
            "right": null,
            "top": null,
            "visibility": null,
            "width": null
          }
        },
        "2e68f3256f1a449fa13e34f928d61e69": {
          "model_module": "@jupyter-widgets/controls",
          "model_name": "DescriptionStyleModel",
          "model_module_version": "1.5.0",
          "state": {
            "_model_module": "@jupyter-widgets/controls",
            "_model_module_version": "1.5.0",
            "_model_name": "DescriptionStyleModel",
            "_view_count": null,
            "_view_module": "@jupyter-widgets/base",
            "_view_module_version": "1.2.0",
            "_view_name": "StyleView",
            "description_width": ""
          }
        },
        "da8f4cf79b864295941a55b21d52b582": {
          "model_module": "@jupyter-widgets/base",
          "model_name": "LayoutModel",
          "model_module_version": "1.2.0",
          "state": {
            "_model_module": "@jupyter-widgets/base",
            "_model_module_version": "1.2.0",
            "_model_name": "LayoutModel",
            "_view_count": null,
            "_view_module": "@jupyter-widgets/base",
            "_view_module_version": "1.2.0",
            "_view_name": "LayoutView",
            "align_content": null,
            "align_items": null,
            "align_self": null,
            "border": null,
            "bottom": null,
            "display": null,
            "flex": null,
            "flex_flow": null,
            "grid_area": null,
            "grid_auto_columns": null,
            "grid_auto_flow": null,
            "grid_auto_rows": null,
            "grid_column": null,
            "grid_gap": null,
            "grid_row": null,
            "grid_template_areas": null,
            "grid_template_columns": null,
            "grid_template_rows": null,
            "height": null,
            "justify_content": null,
            "justify_items": null,
            "left": null,
            "margin": null,
            "max_height": null,
            "max_width": null,
            "min_height": null,
            "min_width": null,
            "object_fit": null,
            "object_position": null,
            "order": null,
            "overflow": null,
            "overflow_x": null,
            "overflow_y": null,
            "padding": null,
            "right": null,
            "top": null,
            "visibility": null,
            "width": null
          }
        },
        "038af65d2a024db194d6ca5c8d4dde52": {
          "model_module": "@jupyter-widgets/controls",
          "model_name": "ProgressStyleModel",
          "model_module_version": "1.5.0",
          "state": {
            "_model_module": "@jupyter-widgets/controls",
            "_model_module_version": "1.5.0",
            "_model_name": "ProgressStyleModel",
            "_view_count": null,
            "_view_module": "@jupyter-widgets/base",
            "_view_module_version": "1.2.0",
            "_view_name": "StyleView",
            "bar_color": null,
            "description_width": ""
          }
        },
        "e7c31e82153b4975a495479f4348c196": {
          "model_module": "@jupyter-widgets/base",
          "model_name": "LayoutModel",
          "model_module_version": "1.2.0",
          "state": {
            "_model_module": "@jupyter-widgets/base",
            "_model_module_version": "1.2.0",
            "_model_name": "LayoutModel",
            "_view_count": null,
            "_view_module": "@jupyter-widgets/base",
            "_view_module_version": "1.2.0",
            "_view_name": "LayoutView",
            "align_content": null,
            "align_items": null,
            "align_self": null,
            "border": null,
            "bottom": null,
            "display": null,
            "flex": null,
            "flex_flow": null,
            "grid_area": null,
            "grid_auto_columns": null,
            "grid_auto_flow": null,
            "grid_auto_rows": null,
            "grid_column": null,
            "grid_gap": null,
            "grid_row": null,
            "grid_template_areas": null,
            "grid_template_columns": null,
            "grid_template_rows": null,
            "height": null,
            "justify_content": null,
            "justify_items": null,
            "left": null,
            "margin": null,
            "max_height": null,
            "max_width": null,
            "min_height": null,
            "min_width": null,
            "object_fit": null,
            "object_position": null,
            "order": null,
            "overflow": null,
            "overflow_x": null,
            "overflow_y": null,
            "padding": null,
            "right": null,
            "top": null,
            "visibility": null,
            "width": null
          }
        },
        "c5912aab00a0481e806f041d2c73b48e": {
          "model_module": "@jupyter-widgets/controls",
          "model_name": "DescriptionStyleModel",
          "model_module_version": "1.5.0",
          "state": {
            "_model_module": "@jupyter-widgets/controls",
            "_model_module_version": "1.5.0",
            "_model_name": "DescriptionStyleModel",
            "_view_count": null,
            "_view_module": "@jupyter-widgets/base",
            "_view_module_version": "1.2.0",
            "_view_name": "StyleView",
            "description_width": ""
          }
        }
      }
    }
  },
  "cells": [
    {
      "cell_type": "markdown",
      "metadata": {
        "id": "view-in-github",
        "colab_type": "text"
      },
      "source": [
        "<a href=\"https://colab.research.google.com/github/chandan9t8/GraphAlignment/blob/main/GraphAlignmentInitial.ipynb\" target=\"_parent\"><img src=\"https://colab.research.google.com/assets/colab-badge.svg\" alt=\"Open In Colab\"/></a>"
      ]
    },
    {
      "cell_type": "code",
      "source": [
        "!pip install torch_geometric\n",
        "!pip install node2vec"
      ],
      "metadata": {
        "id": "3MuaNOpEZRUj"
      },
      "execution_count": null,
      "outputs": []
    },
    {
      "cell_type": "code",
      "source": [
        "from google.colab import drive\n",
        "drive.mount('/content/drive')"
      ],
      "metadata": {
        "colab": {
          "base_uri": "https://localhost:8080/"
        },
        "id": "HwGiwJAEQe80",
        "outputId": "e3ed8c9a-9df3-4097-aa31-9e25a6a78483"
      },
      "execution_count": null,
      "outputs": [
        {
          "output_type": "stream",
          "name": "stdout",
          "text": [
            "Drive already mounted at /content/drive; to attempt to forcibly remount, call drive.mount(\"/content/drive\", force_remount=True).\n"
          ]
        }
      ]
    },
    {
      "cell_type": "code",
      "execution_count": null,
      "metadata": {
        "id": "MnRZBIbeQUXe"
      },
      "outputs": [],
      "source": [
        "import torch\n",
        "from torch_geometric.data import Data, DataLoader\n",
        "from torch_geometric.nn import GCNConv\n",
        "import pandas as pd\n",
        "import numpy as np\n",
        "from sklearn.model_selection import train_test_split\n",
        "from node2vec import Node2Vec\n",
        "import networkx as nx\n",
        "import torch.nn.functional as F\n",
        "import torch.nn as nn\n",
        "import torch.optim as optim\n",
        "import matplotlib.pyplot as plt"
      ]
    },
    {
      "cell_type": "code",
      "source": [
        "#Load data\n",
        "g1_edgelist = pd.read_csv('./drive/MyDrive/Data/g1_edgelist.csv',names=['node1','node2'])\n",
        "g2_edgelist = pd.read_csv('./drive/MyDrive/Data/g2_edgelist.csv',names=['node1','node2'])\n",
        "anchors = pd.read_csv('./drive/MyDrive/Data/map_anchors.csv')"
      ],
      "metadata": {
        "id": "acbjGuXYZGAp"
      },
      "execution_count": null,
      "outputs": []
    },
    {
      "cell_type": "code",
      "source": [
        "#Generate graphs from pandas dataframe\n",
        "G1 = nx.from_pandas_edgelist(g1_edgelist, 'node1', 'node2')\n",
        "G2 = nx.from_pandas_edgelist(g2_edgelist, 'node1', 'node2')\n",
        "\n",
        "# Convert to tensor\n",
        "anchor_index = torch.tensor(anchors.values, dtype=torch.long)"
      ],
      "metadata": {
        "id": "E-zopbcCQYOH"
      },
      "execution_count": null,
      "outputs": []
    },
    {
      "cell_type": "code",
      "source": [
        "# Split the anchors into training and validation sets\n",
        "train_idx, val_idx = train_test_split(range(len(anchor_index)), test_size=0.2, random_state=42)\n",
        "train_anchors = anchor_index[train_idx]\n",
        "val_anchors = anchor_index[val_idx]"
      ],
      "metadata": {
        "id": "Jl3Xc_b6n9pv"
      },
      "execution_count": null,
      "outputs": []
    },
    {
      "cell_type": "code",
      "source": [
        "# Generate walks and train node2vec model\n",
        "node2vec1 = Node2Vec(G1, dimensions=8, walk_length=10, num_walks=10, workers=4)\n",
        "model1 = node2vec1.fit(window=10, min_count=1, batch_words=4)\n",
        "\n",
        "node2vec2 = Node2Vec(G2, dimensions=8, walk_length=10, num_walks=10, workers=4)\n",
        "model2 = node2vec2.fit(window=10, min_count=1, batch_words=4)"
      ],
      "metadata": {
        "colab": {
          "base_uri": "https://localhost:8080/",
          "height": 137,
          "referenced_widgets": [
            "5a91d20bc056420e98e7d3db2668185c",
            "bf965f0f80e340a8a824c7235e9a0f1f",
            "6ab5012165374179adf46f76c0d63e4a",
            "85ed80cb16ff41b08f196369db7ded20",
            "17f215af085741fe9f330e6eac607c86",
            "b7326853b1d84ee7a9da0df72e20ad26",
            "dd1add8d583549e29a7144bae62ccb53",
            "b463dc54b2984dd0bd57b3a8f9f026b7",
            "e48d87880f204d24a733609d8f53b57c",
            "ede9f4ba62e346c3a69a174c1b4043f5",
            "4b91789915c149da87e98320b3deecc6",
            "92092d9791bb4c9897a67f4d14ee0f57",
            "b71b54c68ec044bda78610b56aff70c8",
            "2fcc4235faa24562b95df9fe328eeb7f",
            "bdd35b5dd61341d0a829a835090e5827",
            "092ecfb877e04a31b6f6d3b13f257ed7",
            "54c390a616ce4164b89614331e29b095",
            "2e68f3256f1a449fa13e34f928d61e69",
            "da8f4cf79b864295941a55b21d52b582",
            "038af65d2a024db194d6ca5c8d4dde52",
            "e7c31e82153b4975a495479f4348c196",
            "c5912aab00a0481e806f041d2c73b48e"
          ]
        },
        "id": "rsnrC7BQg1b8",
        "outputId": "4fdfa0b2-8684-45ad-db76-f20761bfe374"
      },
      "execution_count": null,
      "outputs": [
        {
          "output_type": "display_data",
          "data": {
            "text/plain": [
              "Computing transition probabilities:   0%|          | 0/4941 [00:00<?, ?it/s]"
            ],
            "application/vnd.jupyter.widget-view+json": {
              "version_major": 2,
              "version_minor": 0,
              "model_id": "5a91d20bc056420e98e7d3db2668185c"
            }
          },
          "metadata": {}
        },
        {
          "output_type": "stream",
          "name": "stderr",
          "text": [
            "/usr/local/lib/python3.10/dist-packages/joblib/externals/loky/backend/fork_exec.py:38: RuntimeWarning: os.fork() was called. os.fork() is incompatible with multithreaded code, and JAX is multithreaded, so this will likely lead to a deadlock.\n",
            "  pid = os.fork()\n"
          ]
        },
        {
          "output_type": "display_data",
          "data": {
            "text/plain": [
              "Computing transition probabilities:   0%|          | 0/4941 [00:00<?, ?it/s]"
            ],
            "application/vnd.jupyter.widget-view+json": {
              "version_major": 2,
              "version_minor": 0,
              "model_id": "92092d9791bb4c9897a67f4d14ee0f57"
            }
          },
          "metadata": {}
        }
      ]
    },
    {
      "cell_type": "code",
      "source": [
        "#extract the embeddings\n",
        "embeddings1 = {node: model1.wv[str(node)] for node in G1.nodes()}\n",
        "embeddings2 = {node: model2.wv[str(node)] for node in G2.nodes()}"
      ],
      "metadata": {
        "id": "YBWnEU_3h599"
      },
      "execution_count": null,
      "outputs": []
    },
    {
      "cell_type": "code",
      "source": [
        "import json\n",
        "\n",
        "embeddings1_serializable = {str(node): embeddings1[node].tolist() for node in G1.nodes()}\n",
        "embeddings2_serializable = {str(node): embeddings2[node].tolist() for node in G2.nodes()}\n",
        "\n",
        "# Store embeddings in a JSON file\n",
        "with open('embeddings8_g1.json', 'w') as f:\n",
        "    json.dump(embeddings1_serializable, f)\n",
        "\n",
        "with open('embeddings8_g2.json', 'w') as f:\n",
        "    json.dump(embeddings2_serializable, f)"
      ],
      "metadata": {
        "id": "qDBZeT1iwvLU"
      },
      "execution_count": null,
      "outputs": []
    },
    {
      "cell_type": "code",
      "source": [
        "# Reload embeddings from JSON file\n",
        "with open('embeddings8_g1.json', 'r') as f:\n",
        "    embeddings1 = json.load(f)\n",
        "\n",
        "with open('embeddings8_g2.json', 'r') as f:\n",
        "    embeddings2 = json.load(f)"
      ],
      "metadata": {
        "id": "KEiBV5k6xQbE"
      },
      "execution_count": null,
      "outputs": []
    },
    {
      "cell_type": "code",
      "source": [
        "#convert to tensors\n",
        "x1 = torch.tensor([embeddings1[str(node)] for node in range(max(G1.nodes()) + 1)], dtype=torch.float)\n",
        "x2 = torch.tensor([embeddings2[str(node)] for node in range(max(G2.nodes()) + 1)], dtype=torch.float)"
      ],
      "metadata": {
        "id": "uaE76rdmpScB"
      },
      "execution_count": null,
      "outputs": []
    },
    {
      "cell_type": "code",
      "source": [
        "edge_index1 = torch.tensor(list(G1.edges), dtype=torch.long).t().contiguous()\n",
        "edge_index2 = torch.tensor(list(G2.edges), dtype=torch.long).t().contiguous()"
      ],
      "metadata": {
        "id": "gpe5ijgvrrGv"
      },
      "execution_count": null,
      "outputs": []
    },
    {
      "cell_type": "code",
      "source": [
        "graph1_data = Data(x1, edge_index=edge_index1)\n",
        "graph2_data = Data(x2, edge_index=edge_index2)"
      ],
      "metadata": {
        "id": "hV2innRdr3v7"
      },
      "execution_count": null,
      "outputs": []
    },
    {
      "cell_type": "code",
      "source": [
        "#model\n",
        "# class GNN(nn.Module):\n",
        "#     def __init__(self, input_dim, output_dim):\n",
        "#         super(GNN, self).__init__()\n",
        "#         self.conv1 = GCNConv(input_dim, 16)\n",
        "#         self.bn1 = nn.BatchNorm1d(16)\n",
        "#         self.dropout1 = nn.Dropout(p=0.2)\n",
        "#         self.conv2 = GCNConv(16, output_dim)\n",
        "#         self.dropout2 = nn.Dropout(p=0.2)\n",
        "\n",
        "#     def forward(self, x, edge_index):\n",
        "#         x = F.relu(self.conv1(x, edge_index))\n",
        "#         x = self.bn1(x)\n",
        "#         x = self.dropout1(x)\n",
        "#         x = F.relu(self.conv2(x, edge_index))\n",
        "#         x = self.dropout2(x)\n",
        "#         return x\n",
        "\n",
        "class GNN(nn.Module):\n",
        "    def __init__(self, input_dim, output_dim):\n",
        "        super(GNN, self).__init__()\n",
        "        self.conv1 = GCNConv(input_dim, output_dim)  # Reduce to one layer to test impact\n",
        "        self.bn1 = nn.BatchNorm1d(output_dim)\n",
        "        self.dropout1 = nn.Dropout(p=0.3)  # Slightly higher dropout\n",
        "\n",
        "    def forward(self, x, edge_index):\n",
        "        x = F.relu(self.conv1(x, edge_index))\n",
        "        x = self.bn1(x)\n",
        "        x = self.dropout1(x)\n",
        "        return x\n",
        "\n",
        "class SiameseNet(nn.Module):\n",
        "    def __init__(self, input_dim, output_dim):\n",
        "        super(SiameseNet, self).__init__()\n",
        "        self.gnn = GNN(input_dim, output_dim)\n",
        "\n",
        "    def forward(self, data1, data2):\n",
        "        # Pass both graph data through the same GNN\n",
        "        emb1 = self.gnn(data1.x, data1.edge_index)\n",
        "        emb2 = self.gnn(data2.x, data2.edge_index)\n",
        "        return emb1, emb2"
      ],
      "metadata": {
        "id": "2U5aNly3sD3J"
      },
      "execution_count": null,
      "outputs": []
    },
    {
      "cell_type": "code",
      "source": [
        "def train(model, data1, data2, train_anchors, val_anchors, epochs,lr):\n",
        "    optimizer = torch.optim.Adam(model.parameters(), lr=lr)\n",
        "    loss_fn = torch.nn.MSELoss()\n",
        "    train_losses = []\n",
        "    val_losses = []\n",
        "\n",
        "    for epoch in range(epochs):\n",
        "        # Training phase\n",
        "        model.train()\n",
        "        optimizer.zero_grad()\n",
        "        emb1, emb2 = model(data1, data2)\n",
        "        train_loss = loss_fn(emb1[train_anchors[:, 0]], emb2[train_anchors[:, 1]])\n",
        "\n",
        "        # Penalty for already mapped nodes\n",
        "        mapped_nodes_loss = loss_fn(emb1[anchor_index[:, 0]], emb2[anchor_index[:, 1]])\n",
        "\n",
        "        # Total loss\n",
        "        loss = loss + mapped_nodes_weight * mapped_nodes_loss\n",
        "\n",
        "\n",
        "        train_loss.backward()\n",
        "        optimizer.step()\n",
        "\n",
        "        # Store the training loss\n",
        "        train_losses.append(train_loss.item())\n",
        "\n",
        "        # Validation phase\n",
        "        model.eval()\n",
        "        with torch.no_grad():\n",
        "            emb1_val, emb2_val = model(data1, data2)\n",
        "            val_loss = loss_fn(emb1_val[val_anchors[:, 0]], emb2_val[val_anchors[:, 1]])\n",
        "            # Store the validation loss\n",
        "            val_losses.append(val_loss.item())\n",
        "\n",
        "        if epoch % 100 == 0:\n",
        "            print(f\"Epoch {epoch}: Train Loss {train_loss.item()} Val Loss {val_loss.item()}\")\n",
        "\n",
        "    return train_losses, val_losses, train_losses[-1],val_losses[-1],model"
      ],
      "metadata": {
        "id": "LNTMVBVtnrje"
      },
      "execution_count": null,
      "outputs": []
    },
    {
      "cell_type": "code",
      "source": [
        "def plot_losses(train_losses, val_losses):\n",
        "    plt.figure(figsize=(10, 5))\n",
        "    plt.plot(train_losses, label='Training Loss')\n",
        "    plt.plot(val_losses, label='Validation Loss')\n",
        "    plt.title('Training and Validation Loss Over Epochs')\n",
        "    plt.xlabel('Epochs')\n",
        "    plt.ylabel('Loss')\n",
        "    plt.legend()\n",
        "    plt.grid(True)\n",
        "    plt.show()"
      ],
      "metadata": {
        "id": "sAyMlJRruRSG"
      },
      "execution_count": null,
      "outputs": []
    },
    {
      "cell_type": "code",
      "source": [
        "#hyperparameter tuning\n",
        "\n",
        "import numpy as np\n",
        "\n",
        "learning_rates = [0.003, 0.0001, 0.0003,0.00003]\n",
        "epoch_options = [100,500,1000,10000]\n",
        "best_train_loss = np.inf\n",
        "best_val_loss = np.inf\n",
        "best_params = None\n",
        "best_model = None\n",
        "\n",
        "for lr in learning_rates:\n",
        "    for epochs in epoch_options:\n",
        "        print(f\"Testing LR={lr}, Epochs={epochs}\")\n",
        "        model = SiameseNet(input_dim=8, output_dim=8)\n",
        "        train_losses, val_losses, last_train_loss,last_val_loss, trained_model = train(model, graph1_data, graph2_data, train_anchors, val_anchors, epochs, lr)\n",
        "\n",
        "        if last_val_loss < best_val_loss:\n",
        "            best_val_loss = last_val_loss\n",
        "            best_train_loss = last_train_loss\n",
        "            best_params = {'lr': lr, 'epochs': epochs}\n",
        "            best_model = trained_model\n",
        "            print(f\"New best found: LR={lr}, Epochs={epochs}, Val Loss={last_val_loss}\")\n",
        "\n",
        "print(\"Best Parameters:\", best_params)\n",
        "print(\"Best Validation Loss:\", best_val_loss)"
      ],
      "metadata": {
        "id": "-j4Q8qVVBTIW"
      },
      "execution_count": null,
      "outputs": []
    },
    {
      "cell_type": "code",
      "source": [
        "plot_losses(train_losses, val_losses)"
      ],
      "metadata": {
        "colab": {
          "base_uri": "https://localhost:8080/",
          "height": 487
        },
        "id": "iiWbAS78Cbbk",
        "outputId": "b4510a89-5922-4552-9cd4-9cab97088c8d"
      },
      "execution_count": null,
      "outputs": [
        {
          "output_type": "display_data",
          "data": {
            "text/plain": [
              "<Figure size 1000x500 with 1 Axes>"
            ],
            "image/png": "[encoded data removed]"
          },
          "metadata": {}
        }
      ]
    },
    {
      "cell_type": "code",
      "source": [
        "print(best_params['lr'], best_params['epochs'])"
      ],
      "metadata": {
        "colab": {
          "base_uri": "https://localhost:8080/"
        },
        "id": "WVuRBAGx4C3I",
        "outputId": "059fb1e3-3cb2-4840-aa66-5554226d7fc9"
      },
      "execution_count": null,
      "outputs": [
        {
          "output_type": "stream",
          "name": "stdout",
          "text": [
            "0.003 1000\n"
          ]
        }
      ]
    },
    {
      "cell_type": "code",
      "source": [
        "# Reinitialize the model and train on the entire dataset\n",
        "best_model = SiameseNet(8, 8)\n",
        "best_model.train()\n",
        "\n",
        "optimizer = torch.optim.Adam(best_model.parameters(), lr=best_params['lr'])\n",
        "#optimizer = torch.optim.Adam(trained_model.parameters(), lr=0.0003)\n",
        "loss_fn = torch.nn.MSELoss()\n",
        "\n",
        "for epoch in range(best_params['epochs']):\n",
        "    optimizer.zero_grad()\n",
        "    emb1, emb2 = best_model(graph1_data, graph2_data)\n",
        "    train_loss = loss_fn(emb1[train_anchors[:, 0]], emb2[train_anchors[:, 1]])\n",
        "    train_loss.backward()\n",
        "    optimizer.step()\n",
        "\n",
        "    if epoch % 100 == 0:\n",
        "        print(f\"Epoch {epoch}: Train Loss {train_loss.item()}\")"
      ],
      "metadata": {
        "colab": {
          "base_uri": "https://localhost:8080/"
        },
        "id": "a5wKspxbNK7f",
        "outputId": "1f300d8a-3a74-4b5d-c0ec-f80f0b1f3486"
      },
      "execution_count": null,
      "outputs": [
        {
          "output_type": "stream",
          "name": "stdout",
          "text": [
            "Epoch 0: Train Loss 2.4805188179016113\n",
            "Epoch 100: Train Loss 0.28915107250213623\n",
            "Epoch 200: Train Loss 0.07732205837965012\n",
            "Epoch 300: Train Loss 0.026830239221453667\n",
            "Epoch 400: Train Loss 0.015368483029305935\n",
            "Epoch 500: Train Loss 0.009673015214502811\n",
            "Epoch 600: Train Loss 0.006927479989826679\n",
            "Epoch 700: Train Loss 0.00387266231700778\n",
            "Epoch 800: Train Loss 0.0026948198210448027\n",
            "Epoch 900: Train Loss 0.0018044369062408805\n"
          ]
        }
      ]
    },
    {
      "cell_type": "code",
      "source": [
        "def predict_correspondences(model, data1, data2):\n",
        "    model.eval()\n",
        "    with torch.no_grad():\n",
        "        emb1, emb2 = model(data1, data2)\n",
        "\n",
        "    # Normalize embeddings to unit vectors for cosine similarity\n",
        "    emb1 = F.normalize(emb1, p=2, dim=1)\n",
        "    emb2 = F.normalize(emb2, p=2, dim=1)\n",
        "\n",
        "    # Compute cosine similarity and predict correspondences\n",
        "    similarity = torch.matmul(emb1, emb2.t())\n",
        "    predicted_correspondences = similarity.argmax(dim=1)\n",
        "\n",
        "    # Create a dictionary mapping each node in graph1 to a node in graph2\n",
        "    correspondence_dict = {i: predicted_correspondences[i].item() for i in range(data1.num_nodes)}\n",
        "\n",
        "    return correspondence_dict\n",
        "\n",
        "predicted_correspondences = predict_correspondences(best_model, graph1_data, graph2_data)"
      ],
      "metadata": {
        "id": "E4uvBdg5sern"
      },
      "execution_count": null,
      "outputs": []
    },
    {
      "cell_type": "code",
      "source": [
        "import csv\n",
        "\n",
        "with open('Node_mappings_final.csv', 'w', newline='') as csvfile:\n",
        "    fieldnames = ['g1', 'g2']\n",
        "    writer = csv.DictWriter(csvfile, fieldnames=fieldnames)\n",
        "\n",
        "    writer.writeheader()\n",
        "    for node_g1, node_g2 in predicted_correspondences.items():\n",
        "        writer.writerow({'g1': node_g1, 'g2': node_g2})"
      ],
      "metadata": {
        "id": "NtNeEYVOvqfF"
      },
      "execution_count": null,
      "outputs": []
    }
  ]
}